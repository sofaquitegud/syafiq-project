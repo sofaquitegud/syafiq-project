{
 "cells": [
  {
   "cell_type": "code",
   "execution_count": null,
   "metadata": {},
   "outputs": [],
   "source": [
    "import xgboost as xgb\n",
    "import pandas as pd \n",
    "from sklearn.metrics import classification_report, accuracy_score\n",
    "import pickle"
   ]
  },
  {
   "cell_type": "code",
   "execution_count": null,
   "metadata": {},
   "outputs": [],
   "source": [
    "with open(\n",
    "    \"C:/Users/syafi/Desktop/syafiq-project/new classification task/model/saved_data/preprocessed_data.pkl\", \"rb\"\n",
    "    ) as f:\n",
    "    X_train, X_test, y_train, y_test = pickle.load(f)\n",
    "    \n",
    "with open(\n",
    "    \"C:/Users/syafi/Desktop/syafiq-project/new classification task/model/saved_data/label_mapping.pkl\", \"rb\"\n",
    ") as f:\n",
    "    label_mapping = pickle.load(f)\n",
    "class_labels = list(label_mapping.keys())"
   ]
  },
  {
   "cell_type": "code",
   "execution_count": null,
   "metadata": {},
   "outputs": [],
   "source": [
    "# Convert data to DMatrix format (recommended for XGBoost)\n",
    "train_dmatrix = xgb.DMatrix(X_train, label=y_train)\n",
    "test_dmatrix = xgb.DMatrix(X_test, label=y_test)"
   ]
  },
  {
   "cell_type": "code",
   "execution_count": null,
   "metadata": {},
   "outputs": [],
   "source": [
    "# Define XGBoost parameters\n",
    "params = {\n",
    "    \"objective\": \"multi:softmax\",       # Multi-class classification\n",
    "    \"num_class\": len(class_labels),     # Number of classses\n",
    "    \"max_depth\": 6,                     # Depth of the trees\n",
    "    \"eta\": 0.3,                         # learning rate\n",
    "    \"subsample\": 0.8,                   # Fraction of data to use for training each tree\n",
    "    \"colsample_bytree\": 0.8,            # Fraction of features to use for training each tree\n",
    "    \"seed\": 42                          # Random seed for reproducibility\n",
    "}"
   ]
  },
  {
   "cell_type": "code",
   "execution_count": null,
   "metadata": {},
   "outputs": [],
   "source": [
    "# Train the XGBoost model\n",
    "print(\"Training XGBoost model...\")\n",
    "xgboost_model = xgb.train(\n",
    "    params=params,\n",
    "    dtrain=train_dmatrix,\n",
    "    num_boost_round=100\n",
    ")"
   ]
  }
 ],
 "metadata": {
  "kernelspec": {
   "display_name": "mydatascienv",
   "language": "python",
   "name": "python3"
  },
  "language_info": {
   "name": "python",
   "version": "3.9.20"
  }
 },
 "nbformat": 4,
 "nbformat_minor": 2
}
