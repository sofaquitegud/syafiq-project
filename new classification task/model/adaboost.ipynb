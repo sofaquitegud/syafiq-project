{
 "cells": [
  {
   "cell_type": "code",
   "execution_count": null,
   "metadata": {},
   "outputs": [],
   "source": [
    "import pandas as pd\n",
    "import numpy as np\n",
    "from sklearn.ensemble import AdaBoostClassifier\n",
    "from sklearn.metrics import classification_report, accuracy_score\n",
    "import pickle"
   ]
  },
  {
   "cell_type": "code",
   "execution_count": null,
   "metadata": {},
   "outputs": [],
   "source": [
    "# Load preprocessed data\n",
    "with open(\n",
    "    \"C:/Users/syafi/Desktop/TM/Heart_Rate_Classification/new classification task/saved_data/preprocessed_data.pkl\",\n",
    "    \"rb\",\n",
    ") as f:\n",
    "    X_train, X_test, y_train, y_test = pickle.load(f)\n",
    "\n",
    "# Display train and test sizes\n",
    "print(f\"Train size: {len(X_train)}\")\n",
    "print(f\"Test size: {len(X_test)}\")"
   ]
  },
  {
   "cell_type": "code",
   "execution_count": null,
   "metadata": {},
   "outputs": [],
   "source": [
    "# Class labels for reporting\n",
    "class_labels = [\n",
    "    \"Atherosclerosis\",\n",
    "    \"Hypertension\",\n",
    "    \"Cardiovascular Disease (CVD)\",\n",
    "    \"Chronic Fatigue Syndrome (CFS)\",\n",
    "    \"Respiratory Disease (COPD or Asthma)\",\n",
    "    \"Stress-related Disorders\",\n",
    "    \"Arrhythmias\",\n",
    "    \"Healthy\",\n",
    "    \"Autonomic Dysfunction\",\n",
    "    \"Diabetes\",\n",
    "    \"Anaemia\",\n",
    "]"
   ]
  },
  {
   "cell_type": "code",
   "execution_count": null,
   "metadata": {},
   "outputs": [],
   "source": [
    "# Define desired support for each class in the test set\n",
    "desired_support = {\n",
    "    0: 9090,\n",
    "    1: 9702,\n",
    "    2: 3420,\n",
    "    3: 9117,\n",
    "    4: 5166,\n",
    "    5: 8766,\n",
    "    6: 9630,\n",
    "    7: 9234,\n",
    "    8: 7254,\n",
    "    9: 9171,\n",
    "    10: 9450,\n",
    "}"
   ]
  },
  {
   "cell_type": "code",
   "execution_count": null,
   "metadata": {},
   "outputs": [],
   "source": [
    "# Container for results\n",
    "adaboost_results = []\n",
    "best_accuracy = 0\n",
    "best_model = None\n",
    "best_sample_size = 0\n",
    "\n",
    "# Iterate through sample, training, and testing sizes\n",
    "for sample_size, train_size, test_size in zip(\n",
    "    sample_sizes, training_sizes, testing_sizes\n",
    "):\n",
    "    # Select subset of training and testing data\n",
    "    X_train_subset, y_train_subset = X_train[:train_size], y_train[:train_size]\n",
    "    X_test_subset, y_test_subset = X_test[:test_size], y_test[:test_size]\n",
    "\n",
    "    # Initialize the AdaBoost model\n",
    "    adaboost_model = AdaBoostClassifier(n_estimators=50, random_state=42)\n",
    "\n",
    "    # Train the AdaBoost model\n",
    "    adaboost_model.fit(X_train_subset, y_train_subset)\n",
    "\n",
    "    # Evaluate the AdaBoost model\n",
    "    accuracy, report, predictions, dynamic_labels = evaluate_adaboost_model(\n",
    "        adaboost_model, X_test_subset, y_test_subset, class_labels\n",
    "    )\n",
    "\n",
    "    # Print results for the current iteration\n",
    "    print(f\"\\nAdaBoost Sample size {sample_size} - Accuracy: {accuracy:.4f}\")\n",
    "    print(\n",
    "        classification_report(\n",
    "            y_test_subset,\n",
    "            predictions,\n",
    "            labels=np.unique(y_test_subset),\n",
    "            target_names=dynamic_labels,\n",
    "            zero_division=0,\n",
    "        )\n",
    "    )\n",
    "\n",
    "    # Store results\n",
    "    report_flattened = {\n",
    "        **{\n",
    "            f\"{label}_{metric}\": value\n",
    "            for label, metrics in report.items()\n",
    "            if isinstance(metrics, dict)\n",
    "            for metric, value in metrics.items()\n",
    "        },\n",
    "        \"sample_size\": sample_size,\n",
    "        \"train_size\": train_size,\n",
    "        \"test_size\": test_size,\n",
    "        \"accuracy\": accuracy,\n",
    "    }\n",
    "    adaboost_results.append(report_flattened)\n",
    "\n",
    "    # Update the best model\n",
    "    if accuracy > best_accuracy:\n",
    "        best_accuracy = accuracy\n",
    "        best_model = adaboost_model\n",
    "        best_sample_size = sample_size\n",
    "        print(\n",
    "            f\"New best model found for sample size {sample_size} with accuracy {accuracy:.4f}\"\n",
    "        )"
   ]
  },
  {
   "cell_type": "code",
   "execution_count": null,
   "metadata": {},
   "outputs": [],
   "source": [
    "# Save the best model\n",
    "if best_model is not None:\n",
    "    best_model_file = f\"best_adaboost_model_sample_size_{best_sample_size}.pkl\"\n",
    "    with open(best_model_file, \"wb\") as model_file:\n",
    "        pickle.dump(best_model, model_file)\n",
    "    print(\n",
    "        f\"\\nBest AdaBoost model saved as {best_model_file} with accuracy {best_accuracy:.4f}\"\n",
    "    )"
   ]
  },
  {
   "cell_type": "code",
   "execution_count": null,
   "metadata": {},
   "outputs": [],
   "source": [
    "# Save results to a CSV file for further analysis\n",
    "adaboost_results_df = pd.DataFrame(adaboost_results)\n",
    "adaboost_results_df.to_csv(\"adaboost_results.csv\", index=False)\n",
    "print(\"\\nResults saved to 'adaboost_results.csv'\")"
   ]
  }
 ],
 "metadata": {
  "kernelspec": {
   "display_name": "mydatascienv",
   "language": "python",
   "name": "python3"
  },
  "language_info": {
   "codemirror_mode": {
    "name": "ipython",
    "version": 3
   },
   "file_extension": ".py",
   "mimetype": "text/x-python",
   "name": "python",
   "nbconvert_exporter": "python",
   "pygments_lexer": "ipython3",
   "version": "3.9.20"
  }
 },
 "nbformat": 4,
 "nbformat_minor": 2
}
