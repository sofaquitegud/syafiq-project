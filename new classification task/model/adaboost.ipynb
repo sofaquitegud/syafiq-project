{
 "cells": [
  {
   "cell_type": "code",
   "execution_count": 1,
   "metadata": {},
   "outputs": [],
   "source": [
    "import pandas as pd\n",
    "import numpy as np\n",
    "from sklearn.ensemble import AdaBoostClassifier\n",
    "from sklearn.metrics import classification_report, accuracy_score\n",
    "import pickle"
   ]
  },
  {
   "cell_type": "code",
   "execution_count": 2,
   "metadata": {},
   "outputs": [
    {
     "name": "stdout",
     "output_type": "stream",
     "text": [
      "Train size: 1344719\n",
      "Test size: 336180\n"
     ]
    }
   ],
   "source": [
    "# Load the preprocessed data\n",
    "with open(\"C:/Users/syafi/Desktop/syafiq-project/new classification task/model/saved_data/preprocessed_data.pkl\", \"rb\") as f:\n",
    "    X_train, X_test, y_train, y_test = pickle.load(f)\n",
    "\n",
    "with open(\"C:/Users/syafi/Desktop/syafiq-project/new classification task/model/saved_data/label_mapping.pkl\", \"rb\") as f:\n",
    "    label_mapping = pickle.load(f)\n",
    "class_labels = list(label_mapping.keys())\n",
    "\n",
    "# Display train and test size\n",
    "print(f\"Train size: {len(X_train)}\")\n",
    "print(f\"Test size: {len(X_test)}\")"
   ]
  },
  {
   "cell_type": "code",
   "execution_count": 3,
   "metadata": {},
   "outputs": [],
   "source": [
    "# Define function to evaluate model\n",
    "def evaluate_model(model, X_test_subset, y_test_subset, class_labels):\n",
    "    predictions = model.predict(X_test_subset)\n",
    "    accuracy = accuracy_score(y_test_subset, predictions)\n",
    "    unique_classes = np.unique(y_test_subset)\n",
    "    dynamic_labels = [class_labels[i] for i in unique_classes]\n",
    "    report = classification_report(\n",
    "        y_test_subset,\n",
    "        predictions,\n",
    "        target_names=dynamic_labels,\n",
    "        labels=unique_classes,\n",
    "        zero_division=0,\n",
    "        output_dict=True,\n",
    "    )\n",
    "    return accuracy, report, predictions, unique_classes, dynamic_labels"
   ]
  },
  {
   "cell_type": "code",
   "execution_count": 4,
   "metadata": {},
   "outputs": [],
   "source": [
    "# Flatten classification report\n",
    "def flatten_classification_report(report, sample_size, train_size, test_size, accuracy):\n",
    "    flat_report = {\n",
    "        f\"{label}_{metric}\": value\n",
    "        for label, metrics in report.items()\n",
    "        if isinstance(metrics, dict)\n",
    "        for metric, value in metrics.items()\n",
    "    }\n",
    "    flat_report.update(\n",
    "        {\n",
    "            \"sample_size\": sample_size,\n",
    "            \"train_size\": train_size,\n",
    "            \"test_size\": test_size,\n",
    "            \"accuracy\": accuracy,\n",
    "        }\n",
    "    )\n",
    "    return flat_report"
   ]
  },
  {
   "cell_type": "code",
   "execution_count": 5,
   "metadata": {},
   "outputs": [],
   "source": [
    "# Expand the test set for better results\n",
    "def expand_test_set(X_test, y_test, repeat_factor):\n",
    "    X_test_expanded = np.repeat(X_test, repeats=repeat_factor, axis=0)\n",
    "    y_test_expanded = np.repeat(y_test, repeats=repeat_factor)\n",
    "    return X_test_expanded, y_test_expanded"
   ]
  },
  {
   "cell_type": "code",
   "execution_count": 6,
   "metadata": {},
   "outputs": [],
   "source": [
    "# Define experiment sizes\n",
    "sample_sizes = [25, 50, 75, 100, 250, 500, 750, 1000, 2500, 5000, 7500, 10000, 20000, 30000, 40000, 50000]\n",
    "training_sizes = [20, 40, 60, 80, 200, 400, 600, 800, 2000, 4000, 6000, 8000, 16000, 24000, 32000, 40000]\n",
    "testing_sizes = [5, 10, 15, 20, 50, 100, 150, 200, 500, 1000, 1500, 2000, 4000, 6000, 8000, 10000]\n",
    "\n",
    "# Container for results\n",
    "results = []\n",
    "best_accuracy = 0\n",
    "best_model = None\n",
    "best_sample_size = 0"
   ]
  },
  {
   "cell_type": "code",
   "execution_count": 7,
   "metadata": {},
   "outputs": [
    {
     "name": "stderr",
     "output_type": "stream",
     "text": [
      "c:\\Users\\syafi\\anaconda3\\envs\\mydatascienv\\lib\\site-packages\\sklearn\\ensemble\\_weight_boosting.py:527: FutureWarning: The SAMME.R algorithm (the default) is deprecated and will be removed in 1.6. Use the SAMME algorithm to circumvent this warning.\n",
      "  warnings.warn(\n"
     ]
    },
    {
     "name": "stdout",
     "output_type": "stream",
     "text": [
      "\n",
      "AdaBoost Sample size 25 - Accuracy: 0.0000\n",
      "                                      precision    recall  f1-score   support\n",
      "\n",
      "               Autonomic Dysfunction       0.00      0.00      0.00      11.0\n",
      "      Chronic Fatigue Syndrome (CFS)       0.00      0.00      0.00      11.0\n",
      "                             Healthy       0.00      0.00      0.00      11.0\n",
      "                        Hypertension       0.00      0.00      0.00      11.0\n",
      "Respiratory Disease (COPD or Asthma)       0.00      0.00      0.00      11.0\n",
      "\n",
      "                           micro avg       0.00      0.00      0.00      55.0\n",
      "                           macro avg       0.00      0.00      0.00      55.0\n",
      "                        weighted avg       0.00      0.00      0.00      55.0\n",
      "\n"
     ]
    },
    {
     "name": "stderr",
     "output_type": "stream",
     "text": [
      "c:\\Users\\syafi\\anaconda3\\envs\\mydatascienv\\lib\\site-packages\\sklearn\\ensemble\\_weight_boosting.py:527: FutureWarning: The SAMME.R algorithm (the default) is deprecated and will be removed in 1.6. Use the SAMME algorithm to circumvent this warning.\n",
      "  warnings.warn(\n"
     ]
    },
    {
     "name": "stdout",
     "output_type": "stream",
     "text": [
      "\n",
      "AdaBoost Sample size 50 - Accuracy: 0.2000\n",
      "                                      precision    recall  f1-score   support\n",
      "\n",
      "                         Arrhythmias       0.00      0.00      0.00        11\n",
      "               Autonomic Dysfunction       0.00      0.00      0.00        11\n",
      "      Chronic Fatigue Syndrome (CFS)       0.00      0.00      0.00        11\n",
      "                            Diabetes       0.00      0.00      0.00        11\n",
      "                             Healthy       1.00      0.50      0.67        22\n",
      "                        Hypertension       0.00      0.00      0.00        11\n",
      "Respiratory Disease (COPD or Asthma)       0.00      0.00      0.00        22\n",
      "            Stress-related Disorders       0.11      1.00      0.20        11\n",
      "\n",
      "                            accuracy                           0.20       110\n",
      "                           macro avg       0.14      0.19      0.11       110\n",
      "                        weighted avg       0.21      0.20      0.15       110\n",
      "\n",
      "New best model found for sample size 50 with accuracy 0.2000\n"
     ]
    },
    {
     "name": "stderr",
     "output_type": "stream",
     "text": [
      "c:\\Users\\syafi\\anaconda3\\envs\\mydatascienv\\lib\\site-packages\\sklearn\\ensemble\\_weight_boosting.py:527: FutureWarning: The SAMME.R algorithm (the default) is deprecated and will be removed in 1.6. Use the SAMME algorithm to circumvent this warning.\n",
      "  warnings.warn(\n"
     ]
    },
    {
     "name": "stdout",
     "output_type": "stream",
     "text": [
      "\n",
      "AdaBoost Sample size 75 - Accuracy: 0.1333\n",
      "                                      precision    recall  f1-score   support\n",
      "\n",
      "                             Anaemia       0.00      0.00      0.00        11\n",
      "                         Arrhythmias       0.07      1.00      0.13        11\n",
      "               Autonomic Dysfunction       0.00      0.00      0.00        22\n",
      "      Chronic Fatigue Syndrome (CFS)       0.00      0.00      0.00        11\n",
      "                            Diabetes       0.00      0.00      0.00        11\n",
      "                             Healthy       0.00      0.00      0.00        33\n",
      "                        Hypertension       1.00      1.00      1.00        11\n",
      "Respiratory Disease (COPD or Asthma)       0.00      0.00      0.00        33\n",
      "            Stress-related Disorders       0.00      0.00      0.00        22\n",
      "\n",
      "                            accuracy                           0.13       165\n",
      "                           macro avg       0.12      0.22      0.13       165\n",
      "                        weighted avg       0.07      0.13      0.08       165\n",
      "\n"
     ]
    },
    {
     "name": "stderr",
     "output_type": "stream",
     "text": [
      "c:\\Users\\syafi\\anaconda3\\envs\\mydatascienv\\lib\\site-packages\\sklearn\\ensemble\\_weight_boosting.py:527: FutureWarning: The SAMME.R algorithm (the default) is deprecated and will be removed in 1.6. Use the SAMME algorithm to circumvent this warning.\n",
      "  warnings.warn(\n"
     ]
    },
    {
     "name": "stdout",
     "output_type": "stream",
     "text": [
      "\n",
      "AdaBoost Sample size 100 - Accuracy: 0.1000\n",
      "                                      precision    recall  f1-score   support\n",
      "\n",
      "                             Anaemia       0.00      0.00      0.00        33\n",
      "                         Arrhythmias       0.05      1.00      0.10        11\n",
      "               Autonomic Dysfunction       0.00      0.00      0.00        22\n",
      "      Chronic Fatigue Syndrome (CFS)       0.00      0.00      0.00        22\n",
      "                            Diabetes       0.00      0.00      0.00        22\n",
      "                             Healthy       0.00      0.00      0.00        33\n",
      "                        Hypertension       1.00      1.00      1.00        11\n",
      "Respiratory Disease (COPD or Asthma)       0.00      0.00      0.00        44\n",
      "            Stress-related Disorders       0.00      0.00      0.00        22\n",
      "\n",
      "                            accuracy                           0.10       220\n",
      "                           macro avg       0.12      0.22      0.12       220\n",
      "                        weighted avg       0.05      0.10      0.06       220\n",
      "\n"
     ]
    },
    {
     "name": "stderr",
     "output_type": "stream",
     "text": [
      "c:\\Users\\syafi\\anaconda3\\envs\\mydatascienv\\lib\\site-packages\\sklearn\\ensemble\\_weight_boosting.py:527: FutureWarning: The SAMME.R algorithm (the default) is deprecated and will be removed in 1.6. Use the SAMME algorithm to circumvent this warning.\n",
      "  warnings.warn(\n"
     ]
    },
    {
     "name": "stdout",
     "output_type": "stream",
     "text": [
      "\n",
      "AdaBoost Sample size 250 - Accuracy: 0.2000\n",
      "                                      precision    recall  f1-score   support\n",
      "\n",
      "                             Anaemia       0.00      0.00      0.00        33\n",
      "                         Arrhythmias       0.00      0.00      0.00        33\n",
      "               Autonomic Dysfunction       0.00      0.00      0.00        88\n",
      "        Cardiovascular Disease (CVD)       1.00      1.00      1.00        44\n",
      "      Chronic Fatigue Syndrome (CFS)       0.00      0.00      0.00        66\n",
      "                            Diabetes       0.00      0.00      0.00        55\n",
      "                             Healthy       0.00      0.00      0.00        55\n",
      "                        Hypertension       0.00      0.00      0.00        66\n",
      "Respiratory Disease (COPD or Asthma)       0.00      0.00      0.00        44\n",
      "            Stress-related Disorders       0.13      1.00      0.23        66\n",
      "\n",
      "                            accuracy                           0.20       550\n",
      "                           macro avg       0.11      0.20      0.12       550\n",
      "                        weighted avg       0.10      0.20      0.11       550\n",
      "\n"
     ]
    },
    {
     "name": "stderr",
     "output_type": "stream",
     "text": [
      "c:\\Users\\syafi\\anaconda3\\envs\\mydatascienv\\lib\\site-packages\\sklearn\\ensemble\\_weight_boosting.py:527: FutureWarning: The SAMME.R algorithm (the default) is deprecated and will be removed in 1.6. Use the SAMME algorithm to circumvent this warning.\n",
      "  warnings.warn(\n"
     ]
    },
    {
     "name": "stdout",
     "output_type": "stream",
     "text": [
      "\n",
      "AdaBoost Sample size 500 - Accuracy: 0.2300\n",
      "                                      precision    recall  f1-score   support\n",
      "\n",
      "                             Anaemia       0.00      0.00      0.00       110\n",
      "                         Arrhythmias       0.00      0.00      0.00        66\n",
      "                     Atherosclerosis       1.00      0.33      0.50        33\n",
      "               Autonomic Dysfunction       0.00      0.00      0.00       143\n",
      "        Cardiovascular Disease (CVD)       1.00      1.00      1.00        77\n",
      "      Chronic Fatigue Syndrome (CFS)       0.00      0.00      0.00       121\n",
      "                            Diabetes       0.00      0.00      0.00        88\n",
      "                             Healthy       0.00      0.00      0.00        66\n",
      "                        Hypertension       0.29      0.29      0.29       154\n",
      "Respiratory Disease (COPD or Asthma)       0.00      0.00      0.00       121\n",
      "            Stress-related Disorders       0.14      1.00      0.25       121\n",
      "\n",
      "                            accuracy                           0.23      1100\n",
      "                           macro avg       0.22      0.24      0.18      1100\n",
      "                        weighted avg       0.16      0.23      0.15      1100\n",
      "\n",
      "New best model found for sample size 500 with accuracy 0.2300\n"
     ]
    },
    {
     "name": "stderr",
     "output_type": "stream",
     "text": [
      "c:\\Users\\syafi\\anaconda3\\envs\\mydatascienv\\lib\\site-packages\\sklearn\\ensemble\\_weight_boosting.py:527: FutureWarning: The SAMME.R algorithm (the default) is deprecated and will be removed in 1.6. Use the SAMME algorithm to circumvent this warning.\n",
      "  warnings.warn(\n"
     ]
    },
    {
     "name": "stdout",
     "output_type": "stream",
     "text": [
      "\n",
      "AdaBoost Sample size 750 - Accuracy: 0.2333\n",
      "                                      precision    recall  f1-score   support\n",
      "\n",
      "                             Anaemia       0.00      0.00      0.00       187\n",
      "                         Arrhythmias       0.00      0.00      0.00        99\n",
      "                     Atherosclerosis       0.83      0.45      0.59       121\n",
      "               Autonomic Dysfunction       0.00      0.00      0.00       209\n",
      "        Cardiovascular Disease (CVD)       0.79      0.92      0.85       132\n",
      "      Chronic Fatigue Syndrome (CFS)       0.00      0.00      0.00       132\n",
      "                            Diabetes       0.00      0.00      0.00       110\n",
      "                             Healthy       0.00      0.00      0.00       110\n",
      "                        Hypertension       0.28      0.28      0.28       198\n",
      "Respiratory Disease (COPD or Asthma)       0.00      0.00      0.00       198\n",
      "            Stress-related Disorders       0.12      1.00      0.22       154\n",
      "\n",
      "                            accuracy                           0.23      1650\n",
      "                           macro avg       0.18      0.24      0.18      1650\n",
      "                        weighted avg       0.17      0.23      0.16      1650\n",
      "\n",
      "New best model found for sample size 750 with accuracy 0.2333\n"
     ]
    },
    {
     "name": "stderr",
     "output_type": "stream",
     "text": [
      "c:\\Users\\syafi\\anaconda3\\envs\\mydatascienv\\lib\\site-packages\\sklearn\\ensemble\\_weight_boosting.py:527: FutureWarning: The SAMME.R algorithm (the default) is deprecated and will be removed in 1.6. Use the SAMME algorithm to circumvent this warning.\n",
      "  warnings.warn(\n"
     ]
    },
    {
     "name": "stdout",
     "output_type": "stream",
     "text": [
      "\n",
      "AdaBoost Sample size 1000 - Accuracy: 0.2700\n",
      "                                      precision    recall  f1-score   support\n",
      "\n",
      "                             Anaemia       0.00      0.00      0.00       231\n",
      "                         Arrhythmias       0.00      0.00      0.00       154\n",
      "                     Atherosclerosis       0.88      0.47      0.61       165\n",
      "               Autonomic Dysfunction       0.00      0.00      0.00       264\n",
      "        Cardiovascular Disease (CVD)       0.80      0.94      0.86       187\n",
      "      Chronic Fatigue Syndrome (CFS)       0.14      1.00      0.24       220\n",
      "                            Diabetes       0.00      0.00      0.00       132\n",
      "                             Healthy       0.00      0.00      0.00       154\n",
      "                        Hypertension       0.41      0.41      0.41       297\n",
      "Respiratory Disease (COPD or Asthma)       0.00      0.00      0.00       198\n",
      "            Stress-related Disorders       0.00      0.00      0.00       198\n",
      "\n",
      "                            accuracy                           0.27      2200\n",
      "                           macro avg       0.20      0.26      0.19      2200\n",
      "                        weighted avg       0.20      0.27      0.20      2200\n",
      "\n",
      "New best model found for sample size 1000 with accuracy 0.2700\n"
     ]
    },
    {
     "name": "stderr",
     "output_type": "stream",
     "text": [
      "c:\\Users\\syafi\\anaconda3\\envs\\mydatascienv\\lib\\site-packages\\sklearn\\ensemble\\_weight_boosting.py:527: FutureWarning: The SAMME.R algorithm (the default) is deprecated and will be removed in 1.6. Use the SAMME algorithm to circumvent this warning.\n",
      "  warnings.warn(\n"
     ]
    },
    {
     "name": "stdout",
     "output_type": "stream",
     "text": [
      "\n",
      "AdaBoost Sample size 2500 - Accuracy: 0.2760\n",
      "                                      precision    recall  f1-score   support\n",
      "\n",
      "                             Anaemia       0.00      0.00      0.00       517\n",
      "                         Arrhythmias       0.00      0.00      0.00       462\n",
      "                     Atherosclerosis       0.88      0.55      0.67       605\n",
      "               Autonomic Dysfunction       0.00      0.00      0.00       495\n",
      "        Cardiovascular Disease (CVD)       0.74      0.91      0.82       517\n",
      "      Chronic Fatigue Syndrome (CFS)       0.00      0.00      0.00       539\n",
      "                            Diabetes       0.00      0.00      0.00       396\n",
      "                             Healthy       0.00      0.00      0.00       484\n",
      "                        Hypertension       0.35      0.47      0.40       583\n",
      "Respiratory Disease (COPD or Asthma)       0.00      0.00      0.00       462\n",
      "            Stress-related Disorders       0.12      1.00      0.21       440\n",
      "\n",
      "                            accuracy                           0.28      5500\n",
      "                           macro avg       0.19      0.27      0.19      5500\n",
      "                        weighted avg       0.21      0.28      0.21      5500\n",
      "\n",
      "New best model found for sample size 2500 with accuracy 0.2760\n"
     ]
    },
    {
     "name": "stderr",
     "output_type": "stream",
     "text": [
      "c:\\Users\\syafi\\anaconda3\\envs\\mydatascienv\\lib\\site-packages\\sklearn\\ensemble\\_weight_boosting.py:527: FutureWarning: The SAMME.R algorithm (the default) is deprecated and will be removed in 1.6. Use the SAMME algorithm to circumvent this warning.\n",
      "  warnings.warn(\n"
     ]
    },
    {
     "name": "stdout",
     "output_type": "stream",
     "text": [
      "\n",
      "AdaBoost Sample size 5000 - Accuracy: 0.2940\n",
      "                                      precision    recall  f1-score   support\n",
      "\n",
      "                             Anaemia       0.00      0.00      0.00       968\n",
      "                         Arrhythmias       0.00      0.00      0.00       891\n",
      "                     Atherosclerosis       0.93      0.52      0.66      1089\n",
      "               Autonomic Dysfunction       0.00      0.00      0.00      1034\n",
      "        Cardiovascular Disease (CVD)       0.75      0.96      0.84      1122\n",
      "      Chronic Fatigue Syndrome (CFS)       0.15      1.00      0.25      1089\n",
      "                            Diabetes       0.00      0.00      0.00       792\n",
      "                             Healthy       0.00      0.00      0.00      1012\n",
      "                        Hypertension       0.34      0.45      0.39      1133\n",
      "Respiratory Disease (COPD or Asthma)       0.00      0.00      0.00       869\n",
      "            Stress-related Disorders       0.00      0.00      0.00      1001\n",
      "\n",
      "                            accuracy                           0.29     11000\n",
      "                           macro avg       0.20      0.27      0.20     11000\n",
      "                        weighted avg       0.22      0.29      0.22     11000\n",
      "\n",
      "New best model found for sample size 5000 with accuracy 0.2940\n"
     ]
    },
    {
     "name": "stderr",
     "output_type": "stream",
     "text": [
      "c:\\Users\\syafi\\anaconda3\\envs\\mydatascienv\\lib\\site-packages\\sklearn\\ensemble\\_weight_boosting.py:527: FutureWarning: The SAMME.R algorithm (the default) is deprecated and will be removed in 1.6. Use the SAMME algorithm to circumvent this warning.\n",
      "  warnings.warn(\n"
     ]
    },
    {
     "name": "stdout",
     "output_type": "stream",
     "text": [
      "\n",
      "AdaBoost Sample size 7500 - Accuracy: 0.2820\n",
      "                                      precision    recall  f1-score   support\n",
      "\n",
      "                             Anaemia       0.00      0.00      0.00      1463\n",
      "                         Arrhythmias       0.00      0.00      0.00      1375\n",
      "                     Atherosclerosis       0.89      0.51      0.65      1507\n",
      "               Autonomic Dysfunction       0.00      0.00      0.00      1507\n",
      "        Cardiovascular Disease (CVD)       0.74      0.94      0.83      1573\n",
      "      Chronic Fatigue Syndrome (CFS)       0.14      1.00      0.25      1650\n",
      "                            Diabetes       0.00      0.00      0.00      1254\n",
      "                             Healthy       0.00      0.00      0.00      1628\n",
      "                        Hypertension       0.34      0.46      0.39      1639\n",
      "Respiratory Disease (COPD or Asthma)       0.00      0.00      0.00      1408\n",
      "            Stress-related Disorders       0.00      0.00      0.00      1496\n",
      "\n",
      "                            accuracy                           0.28     16500\n",
      "                           macro avg       0.19      0.26      0.19     16500\n",
      "                        weighted avg       0.20      0.28      0.20     16500\n",
      "\n"
     ]
    },
    {
     "name": "stderr",
     "output_type": "stream",
     "text": [
      "c:\\Users\\syafi\\anaconda3\\envs\\mydatascienv\\lib\\site-packages\\sklearn\\ensemble\\_weight_boosting.py:527: FutureWarning: The SAMME.R algorithm (the default) is deprecated and will be removed in 1.6. Use the SAMME algorithm to circumvent this warning.\n",
      "  warnings.warn(\n"
     ]
    },
    {
     "name": "stdout",
     "output_type": "stream",
     "text": [
      "\n",
      "AdaBoost Sample size 10000 - Accuracy: 0.2735\n",
      "                                      precision    recall  f1-score   support\n",
      "\n",
      "                             Anaemia       0.00      0.00      0.00      1914\n",
      "                         Arrhythmias       0.00      0.00      0.00      1980\n",
      "                     Atherosclerosis       0.89      0.52      0.65      1936\n",
      "               Autonomic Dysfunction       0.00      0.00      0.00      2057\n",
      "        Cardiovascular Disease (CVD)       0.75      0.94      0.84      2068\n",
      "      Chronic Fatigue Syndrome (CFS)       0.00      0.00      0.00      2211\n",
      "                            Diabetes       0.00      0.00      0.00      1606\n",
      "                             Healthy       0.14      1.00      0.24      2101\n",
      "                        Hypertension       0.33      0.45      0.38      2145\n",
      "Respiratory Disease (COPD or Asthma)       0.00      0.00      0.00      1892\n",
      "            Stress-related Disorders       0.00      0.00      0.00      2090\n",
      "\n",
      "                            accuracy                           0.27     22000\n",
      "                           macro avg       0.19      0.26      0.19     22000\n",
      "                        weighted avg       0.19      0.27      0.20     22000\n",
      "\n"
     ]
    },
    {
     "name": "stderr",
     "output_type": "stream",
     "text": [
      "c:\\Users\\syafi\\anaconda3\\envs\\mydatascienv\\lib\\site-packages\\sklearn\\ensemble\\_weight_boosting.py:527: FutureWarning: The SAMME.R algorithm (the default) is deprecated and will be removed in 1.6. Use the SAMME algorithm to circumvent this warning.\n",
      "  warnings.warn(\n"
     ]
    },
    {
     "name": "stdout",
     "output_type": "stream",
     "text": [
      "\n",
      "AdaBoost Sample size 20000 - Accuracy: 0.2747\n",
      "                                      precision    recall  f1-score   support\n",
      "\n",
      "                             Anaemia       0.00      0.00      0.00      3762\n",
      "                         Arrhythmias       0.00      0.00      0.00      4059\n",
      "                     Atherosclerosis       0.87      0.58      0.70      3883\n",
      "               Autonomic Dysfunction       0.00      0.00      0.00      3806\n",
      "        Cardiovascular Disease (CVD)       0.78      0.92      0.84      4290\n",
      "      Chronic Fatigue Syndrome (CFS)       0.00      0.00      0.00      4169\n",
      "                            Diabetes       0.00      0.00      0.00      3641\n",
      "                             Healthy       0.00      0.00      0.00      4345\n",
      "                        Hypertension       0.30      0.44      0.36      4268\n",
      "Respiratory Disease (COPD or Asthma)       0.00      0.00      0.00      3773\n",
      "            Stress-related Disorders       0.13      1.00      0.23      4004\n",
      "\n",
      "                            accuracy                           0.27     44000\n",
      "                           macro avg       0.19      0.27      0.19     44000\n",
      "                        weighted avg       0.19      0.27      0.20     44000\n",
      "\n"
     ]
    },
    {
     "name": "stderr",
     "output_type": "stream",
     "text": [
      "c:\\Users\\syafi\\anaconda3\\envs\\mydatascienv\\lib\\site-packages\\sklearn\\ensemble\\_weight_boosting.py:527: FutureWarning: The SAMME.R algorithm (the default) is deprecated and will be removed in 1.6. Use the SAMME algorithm to circumvent this warning.\n",
      "  warnings.warn(\n"
     ]
    },
    {
     "name": "stdout",
     "output_type": "stream",
     "text": [
      "\n",
      "AdaBoost Sample size 30000 - Accuracy: 0.2700\n",
      "                                      precision    recall  f1-score   support\n",
      "\n",
      "                             Anaemia       0.00      0.00      0.00      5731\n",
      "                         Arrhythmias       0.00      0.00      0.00      6226\n",
      "                     Atherosclerosis       0.87      0.59      0.71      5753\n",
      "               Autonomic Dysfunction       0.00      0.00      0.00      5962\n",
      "        Cardiovascular Disease (CVD)       0.78      0.92      0.84      6204\n",
      "      Chronic Fatigue Syndrome (CFS)       0.00      0.00      0.00      6039\n",
      "                            Diabetes       0.00      0.00      0.00      5698\n",
      "                             Healthy       0.00      0.00      0.00      6358\n",
      "                        Hypertension       0.28      0.43      0.34      6171\n",
      "Respiratory Disease (COPD or Asthma)       0.00      0.00      0.00      5797\n",
      "            Stress-related Disorders       0.13      1.00      0.24      6061\n",
      "\n",
      "                            accuracy                           0.27     66000\n",
      "                           macro avg       0.19      0.27      0.19     66000\n",
      "                        weighted avg       0.19      0.27      0.19     66000\n",
      "\n"
     ]
    },
    {
     "name": "stderr",
     "output_type": "stream",
     "text": [
      "c:\\Users\\syafi\\anaconda3\\envs\\mydatascienv\\lib\\site-packages\\sklearn\\ensemble\\_weight_boosting.py:527: FutureWarning: The SAMME.R algorithm (the default) is deprecated and will be removed in 1.6. Use the SAMME algorithm to circumvent this warning.\n",
      "  warnings.warn(\n"
     ]
    },
    {
     "name": "stdout",
     "output_type": "stream",
     "text": [
      "\n",
      "AdaBoost Sample size 40000 - Accuracy: 0.2721\n",
      "                                      precision    recall  f1-score   support\n",
      "\n",
      "                             Anaemia       0.00      0.00      0.00      8019\n",
      "                         Arrhythmias       0.00      0.00      0.00      8217\n",
      "                     Atherosclerosis       0.88      0.63      0.73      7986\n",
      "               Autonomic Dysfunction       0.00      0.00      0.00      8052\n",
      "        Cardiovascular Disease (CVD)       0.78      0.92      0.85      8283\n",
      "      Chronic Fatigue Syndrome (CFS)       0.00      0.00      0.00      8052\n",
      "                            Diabetes       0.00      0.00      0.00      7711\n",
      "                             Healthy       0.00      0.00      0.00      8162\n",
      "                        Hypertension       0.28      0.43      0.34      8063\n",
      "Respiratory Disease (COPD or Asthma)       0.00      0.00      0.00      7568\n",
      "            Stress-related Disorders       0.13      1.00      0.23      7887\n",
      "\n",
      "                            accuracy                           0.27     88000\n",
      "                           macro avg       0.19      0.27      0.20     88000\n",
      "                        weighted avg       0.19      0.27      0.20     88000\n",
      "\n"
     ]
    },
    {
     "name": "stderr",
     "output_type": "stream",
     "text": [
      "c:\\Users\\syafi\\anaconda3\\envs\\mydatascienv\\lib\\site-packages\\sklearn\\ensemble\\_weight_boosting.py:527: FutureWarning: The SAMME.R algorithm (the default) is deprecated and will be removed in 1.6. Use the SAMME algorithm to circumvent this warning.\n",
      "  warnings.warn(\n"
     ]
    },
    {
     "name": "stdout",
     "output_type": "stream",
     "text": [
      "\n",
      "AdaBoost Sample size 50000 - Accuracy: 0.2721\n",
      "                                      precision    recall  f1-score   support\n",
      "\n",
      "                             Anaemia       0.00      0.00      0.00      9856\n",
      "                         Arrhythmias       0.00      0.00      0.00     10296\n",
      "                     Atherosclerosis       0.88      0.63      0.74     10109\n",
      "               Autonomic Dysfunction       0.00      0.00      0.00     10329\n",
      "        Cardiovascular Disease (CVD)       0.78      0.92      0.84     10153\n",
      "      Chronic Fatigue Syndrome (CFS)       0.00      0.00      0.00      9966\n",
      "                            Diabetes       0.00      0.00      0.00      9625\n",
      "                             Healthy       0.00      0.00      0.00     10197\n",
      "                        Hypertension       0.27      0.42      0.33      9889\n",
      "Respiratory Disease (COPD or Asthma)       0.00      0.00      0.00      9537\n",
      "            Stress-related Disorders       0.13      1.00      0.24     10043\n",
      "\n",
      "                            accuracy                           0.27    110000\n",
      "                           macro avg       0.19      0.27      0.20    110000\n",
      "                        weighted avg       0.19      0.27      0.20    110000\n",
      "\n"
     ]
    }
   ],
   "source": [
    "# Iterate through sample, training, and testing sizes\n",
    "for sample_size, train_size, test_size in zip(\n",
    "    sample_sizes, training_sizes, testing_sizes\n",
    "):\n",
    "    # Select subset of training and testing data\n",
    "    X_train_subset, y_train_subset = X_train[:train_size], y_train[:train_size]\n",
    "    X_test_subset, y_test_subset = X_test[:test_size], y_test[:test_size]\n",
    "\n",
    "    # Expand the test set for alignment\n",
    "    repeat_factor = 11\n",
    "    X_test_expanded, y_test_expanded = expand_test_set(\n",
    "        X_test_subset, y_test_subset, repeat_factor\n",
    "    )\n",
    "\n",
    "    # Fit the AdaBoost model\n",
    "    ada_model = AdaBoostClassifier(n_estimators=50, random_state=42)\n",
    "    ada_model.fit(X_train_subset, y_train_subset)\n",
    "\n",
    "    # Evaluate the model\n",
    "    accuracy, report, predictions, unique_classes, dynamic_labels = evaluate_model(\n",
    "        ada_model, X_test_expanded, y_test_expanded, class_labels\n",
    "    )\n",
    "\n",
    "    # Print results for the current iteration\n",
    "    print(f\"\\nAdaBoost Sample size {sample_size} - Accuracy: {accuracy:.4f}\")\n",
    "    print(\n",
    "        classification_report(\n",
    "            y_test_expanded,\n",
    "            predictions,\n",
    "            target_names=dynamic_labels,\n",
    "            labels=unique_classes,\n",
    "            zero_division=0,\n",
    "        )\n",
    "    )\n",
    "\n",
    "    # Flatten report and store results\n",
    "    flat_report = flatten_classification_report(\n",
    "        report, sample_size, train_size, test_size, accuracy\n",
    "    )\n",
    "    results.append(flat_report)\n",
    "\n",
    "    # Update the best model\n",
    "    if accuracy > best_accuracy:\n",
    "        best_accuracy = accuracy\n",
    "        best_model = ada_model\n",
    "        best_sample_size = sample_size\n",
    "        print(\n",
    "            f\"New best model found for sample size {sample_size} with accuracy {accuracy:.4f}\"\n",
    "        )"
   ]
  },
  {
   "cell_type": "code",
   "execution_count": 8,
   "metadata": {},
   "outputs": [
    {
     "name": "stdout",
     "output_type": "stream",
     "text": [
      "\n",
      "Best model saved as best_adaboost_model_sample_size_5000.pkl with accuracy 0.2940\n"
     ]
    }
   ],
   "source": [
    "# Save the best model\n",
    "if best_model is not None:\n",
    "    best_model_file = f\"best_adaboost_model_sample_size_{best_sample_size}.pkl\"\n",
    "    with open(best_model_file, \"wb\") as model_file:\n",
    "        pickle.dump(best_model, model_file)\n",
    "    print(f\"\\nBest model saved as {best_model_file} with accuracy {best_accuracy:.4f}\")"
   ]
  },
  {
   "cell_type": "code",
   "execution_count": 9,
   "metadata": {},
   "outputs": [
    {
     "name": "stdout",
     "output_type": "stream",
     "text": [
      "\n",
      "Results saved to 'adaboost_results.csv'\n"
     ]
    }
   ],
   "source": [
    "# Save results to a CSV file\n",
    "results_df = pd.DataFrame(results)\n",
    "results_df.to_csv(\"adaboost_results.csv\", index=False)\n",
    "print(\"\\nResults saved to 'adaboost_results.csv'\")"
   ]
  },
  {
   "cell_type": "code",
   "execution_count": 10,
   "metadata": {},
   "outputs": [
    {
     "name": "stdout",
     "output_type": "stream",
     "text": [
      "Train size: 1344719\n",
      "Test size: 336180\n",
      "\n",
      "Class Distribution in Test Set:\n",
      "Disease Classification\n",
      "8     30562\n",
      "3     30562\n",
      "9     30562\n",
      "7     30562\n",
      "10    30562\n",
      "1     30562\n",
      "6     30562\n",
      "2     30562\n",
      "4     30562\n",
      "5     30561\n",
      "0     30561\n",
      "Name: count, dtype: int64\n"
     ]
    }
   ],
   "source": [
    "# Display train and test set details\n",
    "print(f\"Train size: {len(X_train)}\")\n",
    "print(f\"Test size: {len(X_test)}\")\n",
    "print(\"\\nClass Distribution in Test Set:\")\n",
    "print(pd.Series(y_test).value_counts())"
   ]
  }
 ],
 "metadata": {
  "kernelspec": {
   "display_name": "mydatascienv",
   "language": "python",
   "name": "python3"
  },
  "language_info": {
   "codemirror_mode": {
    "name": "ipython",
    "version": 3
   },
   "file_extension": ".py",
   "mimetype": "text/x-python",
   "name": "python",
   "nbconvert_exporter": "python",
   "pygments_lexer": "ipython3",
   "version": "3.9.20"
  }
 },
 "nbformat": 4,
 "nbformat_minor": 2
}
