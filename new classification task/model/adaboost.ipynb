{
 "cells": [
  {
   "cell_type": "code",
   "execution_count": 1,
   "metadata": {},
   "outputs": [],
   "source": [
    "import pandas as pd\n",
    "import numpy as np\n",
    "from sklearn.ensemble import AdaBoostClassifier\n",
    "from sklearn.metrics import classification_report, accuracy_score\n",
    "import pickle"
   ]
  },
  {
   "cell_type": "code",
   "execution_count": 2,
   "metadata": {},
   "outputs": [
    {
     "name": "stdout",
     "output_type": "stream",
     "text": [
      "Train size: 1177208\n",
      "Test size: 294302\n"
     ]
    }
   ],
   "source": [
    "# Load the preprocessed data\n",
    "with open(\n",
    "    r\"C:\\Users\\syafi\\Desktop\\syafiq-project\\new classification task\\model\\saved_data\\preprocessed_data.pkl\", \"rb\",\n",
    ") as f:\n",
    "    X_train, X_test, y_train, y_test = pickle.load(f)\n",
    "    \n",
    "# Display train and test size\n",
    "print(f\"Train size: {len(X_train)}\")\n",
    "print(f\"Test size: {len(X_test)}\")"
   ]
  },
  {
   "cell_type": "code",
   "execution_count": 3,
   "metadata": {},
   "outputs": [],
   "source": [
    "# Define function to evaluate model\n",
    "def evaluate_model(model, X_test_subset, y_test_subset, class_labels):\n",
    "    predictions = model.predict(X_test_subset)\n",
    "    accuracy = accuracy_score(y_test_subset, predictions)\n",
    "    unique_classes = np.unique(y_test_subset)\n",
    "    dynamic_labels = [class_labels[i] for i in unique_classes]\n",
    "    report = classification_report(\n",
    "        y_test_subset,\n",
    "        predictions,\n",
    "        target_names=dynamic_labels,\n",
    "        labels=unique_classes,\n",
    "        zero_division=0,\n",
    "        output_dict=True,\n",
    "    )\n",
    "    return accuracy, report, predictions, unique_classes, dynamic_labels"
   ]
  },
  {
   "cell_type": "code",
   "execution_count": 4,
   "metadata": {},
   "outputs": [],
   "source": [
    "# Flatten classification report\n",
    "def flatten_classification_report(report, sample_size, train_size, test_size, accuracy):\n",
    "    flat_report = {\n",
    "        f\"{label}_{metric}\": value\n",
    "        for label, metrics in report.items()\n",
    "        if isinstance(metrics, dict)\n",
    "        for metric, value in metrics.items()\n",
    "    }\n",
    "    flat_report.update(\n",
    "        {\n",
    "            \"sample_size\": sample_size,\n",
    "            \"train_size\": train_size,\n",
    "            \"test_size\": test_size,\n",
    "            \"accuracy\": accuracy,\n",
    "        }\n",
    "    )\n",
    "    return flat_report"
   ]
  },
  {
   "cell_type": "code",
   "execution_count": 5,
   "metadata": {},
   "outputs": [],
   "source": [
    "# Expand the test set for better results\n",
    "def expand_test_set(X_test, y_test, repeat_factor):\n",
    "    X_test_expanded = np.repeat(X_test, repeats=repeat_factor, axis=0)\n",
    "    y_test_expanded = np.repeat(y_test, repeats=repeat_factor)\n",
    "    return X_test_expanded, y_test_expanded"
   ]
  },
  {
   "cell_type": "code",
   "execution_count": 6,
   "metadata": {},
   "outputs": [],
   "source": [
    "# Define experiment sizes\n",
    "sample_sizes = [25, 50, 75, 100, 250, 500, 750, 1000, 2500, 5000, 7500, 10000, 20000, 30000, 40000, 50000]\n",
    "training_sizes = [20, 40, 60, 80, 200, 400, 600, 800, 2000, 4000, 6000, 8000, 16000, 24000, 32000, 40000]\n",
    "testing_sizes = [5, 10, 15, 20, 50, 100, 150, 200, 500, 1000, 1500, 2000, 4000, 6000, 8000, 10000]\n",
    "\n",
    "# Class labels\n",
    "class_labels = [\"Atherosclerosis\", \"Hypertension\", \"Cardiovascular Disease (CVD)\", \"Chronic Fatigue Syndrome (CFS)\", \n",
    "                \"Respiratory Disease (COPD or Asthma)\", \"Stress-related Disorders\", \"Arrhythmias\", \"Healthy\", \n",
    "                \"Autonomic Dysfunction\", \"Diabetes\", \"Anaemia\"]"
   ]
  },
  {
   "cell_type": "code",
   "execution_count": 7,
   "metadata": {},
   "outputs": [
    {
     "name": "stderr",
     "output_type": "stream",
     "text": [
      "c:\\Users\\syafi\\anaconda3\\envs\\mydatascienv\\lib\\site-packages\\sklearn\\ensemble\\_weight_boosting.py:527: FutureWarning: The SAMME.R algorithm (the default) is deprecated and will be removed in 1.6. Use the SAMME algorithm to circumvent this warning.\n",
      "  warnings.warn(\n",
      "c:\\Users\\syafi\\anaconda3\\envs\\mydatascienv\\lib\\site-packages\\sklearn\\ensemble\\_weight_boosting.py:527: FutureWarning: The SAMME.R algorithm (the default) is deprecated and will be removed in 1.6. Use the SAMME algorithm to circumvent this warning.\n",
      "  warnings.warn(\n",
      "c:\\Users\\syafi\\anaconda3\\envs\\mydatascienv\\lib\\site-packages\\sklearn\\ensemble\\_weight_boosting.py:527: FutureWarning: The SAMME.R algorithm (the default) is deprecated and will be removed in 1.6. Use the SAMME algorithm to circumvent this warning.\n",
      "  warnings.warn(\n"
     ]
    },
    {
     "name": "stdout",
     "output_type": "stream",
     "text": [
      "\n",
      "AdaBoost Sample size 25 - Accuracy: 0.0000\n",
      "                                precision    recall  f1-score   support\n",
      "\n",
      "  Cardiovascular Disease (CVD)       0.00      0.00      0.00      11.0\n",
      "Chronic Fatigue Syndrome (CFS)       0.00      0.00      0.00      11.0\n",
      "      Stress-related Disorders       0.00      0.00      0.00      11.0\n",
      "                   Arrhythmias       0.00      0.00      0.00      11.0\n",
      "                      Diabetes       0.00      0.00      0.00      11.0\n",
      "\n",
      "                     micro avg       0.00      0.00      0.00      55.0\n",
      "                     macro avg       0.00      0.00      0.00      55.0\n",
      "                  weighted avg       0.00      0.00      0.00      55.0\n",
      "\n",
      "\n",
      "AdaBoost Sample size 50 - Accuracy: 0.2000\n",
      "                                precision    recall  f1-score   support\n",
      "\n",
      "               Atherosclerosis       0.12      1.00      0.22        11\n",
      "                  Hypertension       0.00      0.00      0.00        11\n",
      "  Cardiovascular Disease (CVD)       1.00      1.00      1.00        11\n",
      "Chronic Fatigue Syndrome (CFS)       0.00      0.00      0.00        11\n",
      "      Stress-related Disorders       0.00      0.00      0.00        22\n",
      "                   Arrhythmias       0.00      0.00      0.00        22\n",
      "                      Diabetes       0.00      0.00      0.00        11\n",
      "                       Anaemia       0.00      0.00      0.00        11\n",
      "\n",
      "                      accuracy                           0.20       110\n",
      "                     macro avg       0.14      0.25      0.15       110\n",
      "                  weighted avg       0.11      0.20      0.12       110\n",
      "\n",
      "New best model found for sample size 50 with accuracy 0.2000\n",
      "\n",
      "AdaBoost Sample size 75 - Accuracy: 0.0667\n",
      "                                precision    recall  f1-score   support\n",
      "\n",
      "               Atherosclerosis       0.10      1.00      0.18        11\n",
      "                  Hypertension       0.00      0.00      0.00        22\n",
      "  Cardiovascular Disease (CVD)       0.00      0.00      0.00        11\n",
      "Chronic Fatigue Syndrome (CFS)       0.00      0.00      0.00        11\n",
      "      Stress-related Disorders       0.00      0.00      0.00        33\n",
      "                   Arrhythmias       0.00      0.00      0.00        22\n",
      "         Autonomic Dysfunction       0.00      0.00      0.00        11\n",
      "                      Diabetes       0.00      0.00      0.00        11\n",
      "                       Anaemia       0.00      0.00      0.00        33\n",
      "\n",
      "                     micro avg       0.07      0.07      0.07       165\n",
      "                     macro avg       0.01      0.11      0.02       165\n",
      "                  weighted avg       0.01      0.07      0.01       165\n",
      "\n"
     ]
    },
    {
     "name": "stderr",
     "output_type": "stream",
     "text": [
      "c:\\Users\\syafi\\anaconda3\\envs\\mydatascienv\\lib\\site-packages\\sklearn\\ensemble\\_weight_boosting.py:527: FutureWarning: The SAMME.R algorithm (the default) is deprecated and will be removed in 1.6. Use the SAMME algorithm to circumvent this warning.\n",
      "  warnings.warn(\n",
      "c:\\Users\\syafi\\anaconda3\\envs\\mydatascienv\\lib\\site-packages\\sklearn\\ensemble\\_weight_boosting.py:527: FutureWarning: The SAMME.R algorithm (the default) is deprecated and will be removed in 1.6. Use the SAMME algorithm to circumvent this warning.\n",
      "  warnings.warn(\n"
     ]
    },
    {
     "name": "stdout",
     "output_type": "stream",
     "text": [
      "\n",
      "AdaBoost Sample size 100 - Accuracy: 0.3000\n",
      "                                      precision    recall  f1-score   support\n",
      "\n",
      "                     Atherosclerosis       0.00      0.00      0.00        22\n",
      "                        Hypertension       0.20      1.00      0.33        22\n",
      "        Cardiovascular Disease (CVD)       0.00      0.00      0.00        11\n",
      "      Chronic Fatigue Syndrome (CFS)       0.00      0.00      0.00        11\n",
      "Respiratory Disease (COPD or Asthma)       0.00      0.00      0.00        11\n",
      "            Stress-related Disorders       1.00      1.00      1.00        44\n",
      "                         Arrhythmias       0.00      0.00      0.00        33\n",
      "               Autonomic Dysfunction       0.00      0.00      0.00        11\n",
      "                            Diabetes       0.00      0.00      0.00        11\n",
      "                             Anaemia       0.00      0.00      0.00        44\n",
      "\n",
      "                            accuracy                           0.30       220\n",
      "                           macro avg       0.12      0.20      0.13       220\n",
      "                        weighted avg       0.22      0.30      0.23       220\n",
      "\n",
      "New best model found for sample size 100 with accuracy 0.3000\n",
      "\n",
      "AdaBoost Sample size 250 - Accuracy: 0.2200\n",
      "                                      precision    recall  f1-score   support\n",
      "\n",
      "                     Atherosclerosis       0.00      0.00      0.00        77\n",
      "                        Hypertension       0.06      1.00      0.11        22\n",
      "        Cardiovascular Disease (CVD)       0.67      0.67      0.67        33\n",
      "      Chronic Fatigue Syndrome (CFS)       0.00      0.00      0.00        44\n",
      "Respiratory Disease (COPD or Asthma)       0.75      0.75      0.75        44\n",
      "            Stress-related Disorders       0.00      0.00      0.00        55\n",
      "                         Arrhythmias       0.00      0.00      0.00        55\n",
      "                             Healthy       0.00      0.00      0.00        33\n",
      "               Autonomic Dysfunction       1.00      0.50      0.67        66\n",
      "                            Diabetes       0.17      0.20      0.18        55\n",
      "                             Anaemia       0.00      0.00      0.00        66\n",
      "\n",
      "                            accuracy                           0.22       550\n",
      "                           macro avg       0.24      0.28      0.22       550\n",
      "                        weighted avg       0.24      0.22      0.20       550\n",
      "\n"
     ]
    },
    {
     "name": "stderr",
     "output_type": "stream",
     "text": [
      "c:\\Users\\syafi\\anaconda3\\envs\\mydatascienv\\lib\\site-packages\\sklearn\\ensemble\\_weight_boosting.py:527: FutureWarning: The SAMME.R algorithm (the default) is deprecated and will be removed in 1.6. Use the SAMME algorithm to circumvent this warning.\n",
      "  warnings.warn(\n",
      "c:\\Users\\syafi\\anaconda3\\envs\\mydatascienv\\lib\\site-packages\\sklearn\\ensemble\\_weight_boosting.py:527: FutureWarning: The SAMME.R algorithm (the default) is deprecated and will be removed in 1.6. Use the SAMME algorithm to circumvent this warning.\n",
      "  warnings.warn(\n"
     ]
    },
    {
     "name": "stdout",
     "output_type": "stream",
     "text": [
      "\n",
      "AdaBoost Sample size 500 - Accuracy: 0.1800\n",
      "                                      precision    recall  f1-score   support\n",
      "\n",
      "                     Atherosclerosis       0.00      0.00      0.00       132\n",
      "                        Hypertension       0.12      1.00      0.21        99\n",
      "        Cardiovascular Disease (CVD)       0.33      0.25      0.29        44\n",
      "      Chronic Fatigue Syndrome (CFS)       0.00      0.00      0.00        99\n",
      "Respiratory Disease (COPD or Asthma)       0.70      0.78      0.74        99\n",
      "            Stress-related Disorders       0.00      0.00      0.00       121\n",
      "                         Arrhythmias       0.00      0.00      0.00        99\n",
      "                             Healthy       0.00      0.00      0.00        77\n",
      "               Autonomic Dysfunction       0.09      0.11      0.10        99\n",
      "                            Diabetes       0.00      0.00      0.00        99\n",
      "                             Anaemia       0.00      0.00      0.00       132\n",
      "\n",
      "                            accuracy                           0.18      1100\n",
      "                           macro avg       0.11      0.19      0.12      1100\n",
      "                        weighted avg       0.10      0.18      0.11      1100\n",
      "\n",
      "\n",
      "AdaBoost Sample size 750 - Accuracy: 0.2333\n",
      "                                      precision    recall  f1-score   support\n",
      "\n",
      "                     Atherosclerosis       0.00      0.00      0.00       165\n",
      "                        Hypertension       0.17      1.00      0.28       198\n",
      "        Cardiovascular Disease (CVD)       0.71      0.62      0.67        88\n",
      "      Chronic Fatigue Syndrome (CFS)       0.00      0.00      0.00       154\n",
      "Respiratory Disease (COPD or Asthma)       0.77      0.83      0.80       132\n",
      "            Stress-related Disorders       0.00      0.00      0.00       154\n",
      "                         Arrhythmias       0.00      0.00      0.00       198\n",
      "                             Healthy       0.00      0.00      0.00        99\n",
      "               Autonomic Dysfunction       0.10      0.17      0.12       132\n",
      "                            Diabetes       0.00      0.00      0.00       143\n",
      "                             Anaemia       0.00      0.00      0.00       187\n",
      "\n",
      "                            accuracy                           0.23      1650\n",
      "                           macro avg       0.16      0.24      0.17      1650\n",
      "                        weighted avg       0.13      0.23      0.14      1650\n",
      "\n"
     ]
    },
    {
     "name": "stderr",
     "output_type": "stream",
     "text": [
      "c:\\Users\\syafi\\anaconda3\\envs\\mydatascienv\\lib\\site-packages\\sklearn\\ensemble\\_weight_boosting.py:527: FutureWarning: The SAMME.R algorithm (the default) is deprecated and will be removed in 1.6. Use the SAMME algorithm to circumvent this warning.\n",
      "  warnings.warn(\n"
     ]
    },
    {
     "name": "stdout",
     "output_type": "stream",
     "text": [
      "\n",
      "AdaBoost Sample size 1000 - Accuracy: 0.2300\n",
      "                                      precision    recall  f1-score   support\n",
      "\n",
      "                     Atherosclerosis       0.00      0.00      0.00       220\n",
      "                        Hypertension       0.17      1.00      0.29       275\n",
      "        Cardiovascular Disease (CVD)       0.71      0.56      0.62        99\n",
      "      Chronic Fatigue Syndrome (CFS)       0.00      0.00      0.00       209\n",
      "Respiratory Disease (COPD or Asthma)       0.78      0.88      0.82       176\n",
      "            Stress-related Disorders       0.00      0.00      0.00       220\n",
      "                         Arrhythmias       0.00      0.00      0.00       253\n",
      "                             Healthy       0.00      0.00      0.00       143\n",
      "               Autonomic Dysfunction       0.07      0.12      0.09       176\n",
      "                            Diabetes       0.00      0.00      0.00       198\n",
      "                             Anaemia       0.00      0.00      0.00       231\n",
      "\n",
      "                            accuracy                           0.23      2200\n",
      "                           macro avg       0.16      0.23      0.17      2200\n",
      "                        weighted avg       0.12      0.23      0.14      2200\n",
      "\n"
     ]
    },
    {
     "name": "stderr",
     "output_type": "stream",
     "text": [
      "c:\\Users\\syafi\\anaconda3\\envs\\mydatascienv\\lib\\site-packages\\sklearn\\ensemble\\_weight_boosting.py:527: FutureWarning: The SAMME.R algorithm (the default) is deprecated and will be removed in 1.6. Use the SAMME algorithm to circumvent this warning.\n",
      "  warnings.warn(\n"
     ]
    },
    {
     "name": "stdout",
     "output_type": "stream",
     "text": [
      "\n",
      "AdaBoost Sample size 2500 - Accuracy: 0.2020\n",
      "                                      precision    recall  f1-score   support\n",
      "\n",
      "                     Atherosclerosis       0.00      0.00      0.00       605\n",
      "                        Hypertension       0.15      1.00      0.26       616\n",
      "        Cardiovascular Disease (CVD)       0.73      0.35      0.47       253\n",
      "      Chronic Fatigue Syndrome (CFS)       0.00      0.00      0.00       594\n",
      "Respiratory Disease (COPD or Asthma)       0.65      0.90      0.76       341\n",
      "            Stress-related Disorders       0.00      0.00      0.00       495\n",
      "                         Arrhythmias       0.00      0.00      0.00       594\n",
      "                             Healthy       0.00      0.00      0.00       429\n",
      "               Autonomic Dysfunction       0.13      0.21      0.16       462\n",
      "                            Diabetes       0.00      0.00      0.00       528\n",
      "                             Anaemia       0.00      0.00      0.00       583\n",
      "\n",
      "                            accuracy                           0.20      5500\n",
      "                           macro avg       0.15      0.22      0.15      5500\n",
      "                        weighted avg       0.10      0.20      0.11      5500\n",
      "\n"
     ]
    },
    {
     "name": "stderr",
     "output_type": "stream",
     "text": [
      "c:\\Users\\syafi\\anaconda3\\envs\\mydatascienv\\lib\\site-packages\\sklearn\\ensemble\\_weight_boosting.py:527: FutureWarning: The SAMME.R algorithm (the default) is deprecated and will be removed in 1.6. Use the SAMME algorithm to circumvent this warning.\n",
      "  warnings.warn(\n"
     ]
    },
    {
     "name": "stdout",
     "output_type": "stream",
     "text": [
      "\n",
      "AdaBoost Sample size 5000 - Accuracy: 0.2140\n",
      "                                      precision    recall  f1-score   support\n",
      "\n",
      "                     Atherosclerosis       0.00      0.00      0.00      1166\n",
      "                        Hypertension       0.15      1.00      0.26      1276\n",
      "        Cardiovascular Disease (CVD)       0.71      0.39      0.51       418\n",
      "      Chronic Fatigue Syndrome (CFS)       0.00      0.00      0.00      1155\n",
      "Respiratory Disease (COPD or Asthma)       0.72      0.91      0.81       704\n",
      "            Stress-related Disorders       0.00      0.00      0.00      1089\n",
      "                         Arrhythmias       0.00      0.00      0.00      1133\n",
      "                             Healthy       0.00      0.00      0.00       990\n",
      "               Autonomic Dysfunction       0.19      0.30      0.23       902\n",
      "                            Diabetes       0.00      0.00      0.00      1001\n",
      "                             Anaemia       0.00      0.00      0.00      1166\n",
      "\n",
      "                            accuracy                           0.21     11000\n",
      "                           macro avg       0.16      0.24      0.16     11000\n",
      "                        weighted avg       0.11      0.21      0.12     11000\n",
      "\n"
     ]
    },
    {
     "name": "stderr",
     "output_type": "stream",
     "text": [
      "c:\\Users\\syafi\\anaconda3\\envs\\mydatascienv\\lib\\site-packages\\sklearn\\ensemble\\_weight_boosting.py:527: FutureWarning: The SAMME.R algorithm (the default) is deprecated and will be removed in 1.6. Use the SAMME algorithm to circumvent this warning.\n",
      "  warnings.warn(\n"
     ]
    },
    {
     "name": "stdout",
     "output_type": "stream",
     "text": [
      "\n",
      "AdaBoost Sample size 7500 - Accuracy: 0.2113\n",
      "                                      precision    recall  f1-score   support\n",
      "\n",
      "                     Atherosclerosis       0.00      0.00      0.00      1694\n",
      "                        Hypertension       0.15      1.00      0.26      1892\n",
      "        Cardiovascular Disease (CVD)       0.75      0.41      0.53       561\n",
      "      Chronic Fatigue Syndrome (CFS)       0.00      0.00      0.00      1672\n",
      "Respiratory Disease (COPD or Asthma)       0.73      0.92      0.81       946\n",
      "            Stress-related Disorders       0.00      0.00      0.00      1562\n",
      "                         Arrhythmias       0.00      0.00      0.00      1815\n",
      "                             Healthy       0.00      0.00      0.00      1584\n",
      "               Autonomic Dysfunction       0.20      0.37      0.26      1331\n",
      "                            Diabetes       0.00      0.00      0.00      1727\n",
      "                             Anaemia       0.00      0.00      0.00      1716\n",
      "\n",
      "                            accuracy                           0.21     16500\n",
      "                           macro avg       0.17      0.25      0.17     16500\n",
      "                        weighted avg       0.10      0.21      0.12     16500\n",
      "\n"
     ]
    },
    {
     "name": "stderr",
     "output_type": "stream",
     "text": [
      "c:\\Users\\syafi\\anaconda3\\envs\\mydatascienv\\lib\\site-packages\\sklearn\\ensemble\\_weight_boosting.py:527: FutureWarning: The SAMME.R algorithm (the default) is deprecated and will be removed in 1.6. Use the SAMME algorithm to circumvent this warning.\n",
      "  warnings.warn(\n"
     ]
    },
    {
     "name": "stdout",
     "output_type": "stream",
     "text": [
      "\n",
      "AdaBoost Sample size 10000 - Accuracy: 0.2185\n",
      "                                      precision    recall  f1-score   support\n",
      "\n",
      "                     Atherosclerosis       0.00      0.00      0.00      2189\n",
      "                        Hypertension       0.15      1.00      0.27      2585\n",
      "        Cardiovascular Disease (CVD)       0.80      0.44      0.57       825\n",
      "      Chronic Fatigue Syndrome (CFS)       0.00      0.00      0.00      2266\n",
      "Respiratory Disease (COPD or Asthma)       0.73      0.93      0.82      1309\n",
      "            Stress-related Disorders       0.00      0.00      0.00      2167\n",
      "                         Arrhythmias       0.00      0.00      0.00      2365\n",
      "                             Healthy       0.00      0.00      0.00      1980\n",
      "               Autonomic Dysfunction       0.20      0.36      0.26      1760\n",
      "                            Diabetes       0.00      0.00      0.00      2266\n",
      "                             Anaemia       0.00      0.00      0.00      2288\n",
      "\n",
      "                            accuracy                           0.22     22000\n",
      "                           macro avg       0.17      0.25      0.17     22000\n",
      "                        weighted avg       0.11      0.22      0.12     22000\n",
      "\n"
     ]
    },
    {
     "name": "stderr",
     "output_type": "stream",
     "text": [
      "c:\\Users\\syafi\\anaconda3\\envs\\mydatascienv\\lib\\site-packages\\sklearn\\ensemble\\_weight_boosting.py:527: FutureWarning: The SAMME.R algorithm (the default) is deprecated and will be removed in 1.6. Use the SAMME algorithm to circumvent this warning.\n",
      "  warnings.warn(\n"
     ]
    },
    {
     "name": "stdout",
     "output_type": "stream",
     "text": [
      "\n",
      "AdaBoost Sample size 20000 - Accuracy: 0.2200\n",
      "                                      precision    recall  f1-score   support\n",
      "\n",
      "                     Atherosclerosis       0.00      0.00      0.00      4543\n",
      "                        Hypertension       0.15      1.00      0.26      4950\n",
      "        Cardiovascular Disease (CVD)       0.82      0.47      0.60      1529\n",
      "      Chronic Fatigue Syndrome (CFS)       0.00      0.00      0.00      4532\n",
      "Respiratory Disease (COPD or Asthma)       0.76      0.94      0.84      2684\n",
      "            Stress-related Disorders       0.00      0.00      0.00      4224\n",
      "                         Arrhythmias       0.00      0.00      0.00      4719\n",
      "                             Healthy       0.00      0.00      0.00      4048\n",
      "               Autonomic Dysfunction       0.23      0.41      0.29      3586\n",
      "                            Diabetes       0.00      0.00      0.00      4598\n",
      "                             Anaemia       0.00      0.00      0.00      4587\n",
      "\n",
      "                            accuracy                           0.22     44000\n",
      "                           macro avg       0.18      0.26      0.18     44000\n",
      "                        weighted avg       0.11      0.22      0.13     44000\n",
      "\n"
     ]
    },
    {
     "name": "stderr",
     "output_type": "stream",
     "text": [
      "c:\\Users\\syafi\\anaconda3\\envs\\mydatascienv\\lib\\site-packages\\sklearn\\ensemble\\_weight_boosting.py:527: FutureWarning: The SAMME.R algorithm (the default) is deprecated and will be removed in 1.6. Use the SAMME algorithm to circumvent this warning.\n",
      "  warnings.warn(\n"
     ]
    },
    {
     "name": "stdout",
     "output_type": "stream",
     "text": [
      "\n",
      "AdaBoost Sample size 30000 - Accuracy: 0.2205\n",
      "                                      precision    recall  f1-score   support\n",
      "\n",
      "                     Atherosclerosis       0.00      0.00      0.00      6369\n",
      "                        Hypertension       0.15      1.00      0.26      7436\n",
      "        Cardiovascular Disease (CVD)       0.82      0.47      0.60      2365\n",
      "      Chronic Fatigue Syndrome (CFS)       0.00      0.00      0.00      6765\n",
      "Respiratory Disease (COPD or Asthma)       0.75      0.94      0.83      3927\n",
      "            Stress-related Disorders       0.00      0.00      0.00      6391\n",
      "                         Arrhythmias       0.00      0.00      0.00      7304\n",
      "                             Healthy       0.00      0.00      0.00      6479\n",
      "               Autonomic Dysfunction       0.23      0.43      0.30      5346\n",
      "                            Diabetes       0.00      0.00      0.00      6787\n",
      "                             Anaemia       0.00      0.00      0.00      6831\n",
      "\n",
      "                            accuracy                           0.22     66000\n",
      "                           macro avg       0.18      0.26      0.18     66000\n",
      "                        weighted avg       0.11      0.22      0.12     66000\n",
      "\n"
     ]
    },
    {
     "name": "stderr",
     "output_type": "stream",
     "text": [
      "c:\\Users\\syafi\\anaconda3\\envs\\mydatascienv\\lib\\site-packages\\sklearn\\ensemble\\_weight_boosting.py:527: FutureWarning: The SAMME.R algorithm (the default) is deprecated and will be removed in 1.6. Use the SAMME algorithm to circumvent this warning.\n",
      "  warnings.warn(\n"
     ]
    },
    {
     "name": "stdout",
     "output_type": "stream",
     "text": [
      "\n",
      "AdaBoost Sample size 40000 - Accuracy: 0.2194\n",
      "                                      precision    recall  f1-score   support\n",
      "\n",
      "                     Atherosclerosis       0.00      0.00      0.00      8701\n",
      "                        Hypertension       0.15      1.00      0.25      9691\n",
      "        Cardiovascular Disease (CVD)       0.82      0.49      0.61      3201\n",
      "      Chronic Fatigue Syndrome (CFS)       0.00      0.00      0.00      8987\n",
      "Respiratory Disease (COPD or Asthma)       0.75      0.93      0.83      5126\n",
      "            Stress-related Disorders       0.00      0.00      0.00      8360\n",
      "                         Arrhythmias       0.00      0.00      0.00      9526\n",
      "                             Healthy       0.00      0.00      0.00      8899\n",
      "               Autonomic Dysfunction       0.25      0.45      0.32      7194\n",
      "                            Diabetes       0.00      0.00      0.00      9174\n",
      "                             Anaemia       0.00      0.00      0.00      9141\n",
      "\n",
      "                            accuracy                           0.22     88000\n",
      "                           macro avg       0.18      0.26      0.18     88000\n",
      "                        weighted avg       0.11      0.22      0.12     88000\n",
      "\n"
     ]
    },
    {
     "name": "stderr",
     "output_type": "stream",
     "text": [
      "c:\\Users\\syafi\\anaconda3\\envs\\mydatascienv\\lib\\site-packages\\sklearn\\ensemble\\_weight_boosting.py:527: FutureWarning: The SAMME.R algorithm (the default) is deprecated and will be removed in 1.6. Use the SAMME algorithm to circumvent this warning.\n",
      "  warnings.warn(\n"
     ]
    },
    {
     "name": "stdout",
     "output_type": "stream",
     "text": [
      "\n",
      "AdaBoost Sample size 50000 - Accuracy: 0.2158\n",
      "                                      precision    recall  f1-score   support\n",
      "\n",
      "                     Atherosclerosis       0.00      0.00      0.00     11110\n",
      "                        Hypertension       0.14      1.00      0.25     11858\n",
      "        Cardiovascular Disease (CVD)       0.82      0.49      0.62      4180\n",
      "      Chronic Fatigue Syndrome (CFS)       0.00      0.00      0.00     11143\n",
      "Respiratory Disease (COPD or Asthma)       0.74      0.93      0.82      6314\n",
      "            Stress-related Disorders       0.00      0.00      0.00     10714\n",
      "                         Arrhythmias       0.00      0.00      0.00     11770\n",
      "                             Healthy       0.00      0.00      0.00     11286\n",
      "               Autonomic Dysfunction       0.24      0.45      0.31      8866\n",
      "                            Diabetes       0.00      0.00      0.00     11209\n",
      "                             Anaemia       0.00      0.00      0.00     11550\n",
      "\n",
      "                            accuracy                           0.22    110000\n",
      "                           macro avg       0.18      0.26      0.18    110000\n",
      "                        weighted avg       0.11      0.22      0.12    110000\n",
      "\n"
     ]
    }
   ],
   "source": [
    "# Container for results\n",
    "results = []\n",
    "best_accuracy = 0\n",
    "best_model = None\n",
    "best_sample_size = 0\n",
    "\n",
    "# Iterate through sample, training, and testing sizes\n",
    "for sample_size, train_size, test_size in zip(\n",
    "    sample_sizes, training_sizes, testing_sizes\n",
    "):\n",
    "    # Select subset of training and testing data\n",
    "    X_train_subset, y_train_subset = X_train[:train_size], y_train[:train_size]\n",
    "    X_test_subset, y_test_subset = X_test[:test_size], y_test[:test_size]\n",
    "\n",
    "    # Expand the test set for alignment\n",
    "    repeat_factor = 11\n",
    "    X_test_expanded, y_test_expanded = expand_test_set(\n",
    "        X_test_subset, y_test_subset, repeat_factor\n",
    "    )\n",
    "\n",
    "    # Fit the AdaBoost model\n",
    "    ada_model = AdaBoostClassifier(n_estimators=50, random_state=42)\n",
    "    ada_model.fit(X_train_subset, y_train_subset)\n",
    "\n",
    "    # Evaluate the model\n",
    "    accuracy, report, predictions, unique_classes, dynamic_labels = evaluate_model(\n",
    "        ada_model, X_test_expanded, y_test_expanded, class_labels\n",
    "    )\n",
    "\n",
    "    # Print results for the current iteration\n",
    "    print(f\"\\nAdaBoost Sample size {sample_size} - Accuracy: {accuracy:.4f}\")\n",
    "    print(\n",
    "        classification_report(\n",
    "            y_test_expanded,\n",
    "            predictions,\n",
    "            target_names=dynamic_labels,\n",
    "            labels=unique_classes,\n",
    "            zero_division=0,\n",
    "        )\n",
    "    )\n",
    "\n",
    "    # Flatten report and store results\n",
    "    flat_report = flatten_classification_report(\n",
    "        report, sample_size, train_size, test_size, accuracy\n",
    "    )\n",
    "    results.append(flat_report)\n",
    "\n",
    "    # Update the best model\n",
    "    if accuracy > best_accuracy:\n",
    "        best_accuracy = accuracy\n",
    "        best_model = ada_model\n",
    "        best_sample_size = sample_size\n",
    "        print(\n",
    "            f\"New best model found for sample size {sample_size} with accuracy {accuracy:.4f}\"\n",
    "        )"
   ]
  },
  {
   "cell_type": "code",
   "execution_count": null,
   "metadata": {},
   "outputs": [],
   "source": [
    "# Save the best model\n",
    "if best_model is not None:\n",
    "    best_model_file = f\"best_adaboost_model_sample_size_{best_sample_size}.pkl\"\n",
    "    with open(best_model_file, \"wb\") as model_file:\n",
    "        pickle.dump(best_model, model_file)\n",
    "    print(f\"\\nBest model saved as {best_model_file} with accuracy {best_accuracy:.4f}\")"
   ]
  },
  {
   "cell_type": "code",
   "execution_count": null,
   "metadata": {},
   "outputs": [],
   "source": [
    "# Save results to a CSV file\n",
    "results_df = pd.DataFrame(results)\n",
    "results_df.to_csv(\"adaboost_results.csv\", index=False)\n",
    "print(\"\\nResults saved to 'adaboost_results.csv'\")"
   ]
  },
  {
   "cell_type": "code",
   "execution_count": null,
   "metadata": {},
   "outputs": [],
   "source": [
    "# Display train and test set details\n",
    "print(f\"Train size: {len(X_train)}\")\n",
    "print(f\"Test size: {len(X_test)}\")\n",
    "print(\"\\nClass Distribution in Test Set:\")\n",
    "print(pd.Series(y_test).value_counts())"
   ]
  }
 ],
 "metadata": {
  "kernelspec": {
   "display_name": "mydatascienv",
   "language": "python",
   "name": "python3"
  },
  "language_info": {
   "codemirror_mode": {
    "name": "ipython",
    "version": 3
   },
   "file_extension": ".py",
   "mimetype": "text/x-python",
   "name": "python",
   "nbconvert_exporter": "python",
   "pygments_lexer": "ipython3",
   "version": "3.9.20"
  }
 },
 "nbformat": 4,
 "nbformat_minor": 2
}
