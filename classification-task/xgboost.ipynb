{
 "cells": [
  {
   "cell_type": "code",
   "execution_count": 1,
   "metadata": {},
   "outputs": [],
   "source": [
    "import pandas as pd\n",
    "import numpy as np\n",
    "import pickle\n",
    "import xgboost as xgb\n",
    "from sklearn.metrics import accuracy_score, classification_report\n",
    "from sklearn.model_selection import train_test_split\n",
    "from imblearn.over_sampling import ADASYN"
   ]
  },
  {
   "cell_type": "code",
   "execution_count": 2,
   "metadata": {},
   "outputs": [],
   "source": [
    "preprocess_file = './model/saved_data/preprocessed_data.pkl'\n",
    "\n",
    "# Load preprocessed data\n",
    "with open(preprocess_file, \"rb\") as f:\n",
    "    X, y, label_encoder = pickle.load(f)"
   ]
  },
  {
   "cell_type": "code",
   "execution_count": 3,
   "metadata": {},
   "outputs": [],
   "source": [
    "# Class labels for all 11 classes\n",
    "class_labels = [\"Hypertension\",\n",
    "                \"Cardiovascular Disease (CVD)\",\n",
    "                \"Chronic Fatigue Syndrome (CFS)\",\n",
    "                \"Stress-related Disorders\",\n",
    "                \"Healthy\",\n",
    "                \"Diabetes\",\n",
    "                \"Anaemia\",\n",
    "                \"Atherosclerosis\",\n",
    "                \"Arrhythmia\",\n",
    "                \"Respiratory Disease (COPD or Asthma)\",\n",
    "                \"Autonomic Dysfunction\"\n",
    "                ]"
   ]
  },
  {
   "cell_type": "markdown",
   "metadata": {},
   "source": [
    "# Using ADASYN instead of SMOTE\n",
    "1. Adapts the sampling process based on the distribution of minority samples\n",
    "- it creates more synthetic data for regions where minority samples are sparse or harder to learn.\n",
    "- fewer samples are generated in well-represented regions of the minority class.\n",
    "2. Reduces the risk of overfitting by focusing on under-represented regions, improving the classifier's generalisation.\n",
    "3. Prioritises generating synthetic samples where the model struggles, potentially leading to more realistic samples for challenging cases."
   ]
  },
  {
   "cell_type": "code",
   "execution_count": 4,
   "metadata": {},
   "outputs": [
    {
     "name": "stdout",
     "output_type": "stream",
     "text": [
      "Class Distribution After ADASYN:\n",
      "Disease Classification\n",
      "10    223681\n",
      "5     221591\n",
      "7     221207\n",
      "6     220665\n",
      "2     220503\n",
      "1     220201\n",
      "9     220016\n",
      "3     219614\n",
      "8     219610\n",
      "0     217900\n",
      "4     211734\n",
      "Name: count, dtype: int64\n"
     ]
    }
   ],
   "source": [
    "# Applying ADASYN for balancing the class distribution\n",
    "adasyn = ADASYN(random_state=42)\n",
    "X_resampled, y_resampled = adasyn.fit_resample(X, y)\n",
    "\n",
    "# Display the class distribution after resampling\n",
    "print(\"Class Distribution After ADASYN:\")\n",
    "print(pd.Series(y_resampled).value_counts())"
   ]
  },
  {
   "cell_type": "code",
   "execution_count": 5,
   "metadata": {},
   "outputs": [],
   "source": [
    "# Calculate class weightss for 'scale_pos_weight'\n",
    "class_counts = pd.Series(y_resampled).value_counts()\n",
    "total = len(y_resampled)\n",
    "class_weights = {\n",
    "    cls: total / count for cls, count in class_counts.items()\n",
    "}"
   ]
  },
  {
   "cell_type": "code",
   "execution_count": 6,
   "metadata": {},
   "outputs": [],
   "source": [
    "def evaluate_xgb_model(model, X_test, y_test):\n",
    "    dtest = xgb.DMatrix(X_test)\n",
    "    predictions = model.predict(dtest)\n",
    "\n",
    "    if predictions.ndim > 1:\n",
    "        predictions = np.argmax(predictions, axis=1)\n",
    "    else:\n",
    "        predictions = predictions.astype(int)\n",
    "\n",
    "    accuracy = accuracy_score(y_test, predictions)\n",
    "    report = classification_report(\n",
    "        y_test,\n",
    "        predictions,\n",
    "        target_names=class_labels,\n",
    "        labels=np.unique(y_test),\n",
    "        zero_division=0\n",
    "    )\n",
    "\n",
    "    return accuracy, report"
   ]
  },
  {
   "cell_type": "code",
   "execution_count": 7,
   "metadata": {},
   "outputs": [],
   "source": [
    "def stratified_subsample(X, y, train_size, test_size):\n",
    "    \"\"\"\n",
    "    Creates a stratified subset of data for training and testing based on sample sizes.\n",
    "    \"\"\"\n",
    "    X_train, X_test, y_train, y_test = train_test_split(\n",
    "        X, y, train_size=train_size, test_size=test_size, stratify=y, random_state=42\n",
    "    )\n",
    "    return X_train, X_test, y_train, y_test"
   ]
  },
  {
   "cell_type": "code",
   "execution_count": 8,
   "metadata": {},
   "outputs": [
    {
     "name": "stdout",
     "output_type": "stream",
     "text": [
      "Best Hyperparameters: {'max_depth': 6, 'learning_rate': 0.1, 'n_estimators': 100, 'subsample': 0.8, 'colsample_bytree': 0.8, 'objective': 'multi:softmax', 'num_class': 11, 'scale_pos_weight': [11.09096833409821, 10.975072774419735, 10.960041359981497, 11.004407733568899, 11.413953356570037, 10.906228141034608, 10.951995105703215, 10.925160596183664, 11.00460816902691, 10.984301141735147, 10.804324015003509]}\n"
     ]
    }
   ],
   "source": [
    "best_params = {\n",
    "    \"max_depth\": 6,\n",
    "    \"learning_rate\": 0.1,\n",
    "    \"n_estimators\": 100,\n",
    "    \"subsample\": 0.8,\n",
    "    \"colsample_bytree\": 0.8,\n",
    "    \"objective\": \"multi:softmax\",\n",
    "    \"num_class\": len(np.unique(y_resampled)),\n",
    "    \"scale_pos_weight\": [class_weights.get(cls, 1) for cls in np.unique(y_resampled)]\n",
    "    }\n",
    "\n",
    "print(f\"Best Hyperparameters: {best_params}\")"
   ]
  },
  {
   "cell_type": "code",
   "execution_count": 9,
   "metadata": {},
   "outputs": [],
   "source": [
    "# Container for results\n",
    "best_accuracy = 0\n",
    "best_model = None\n",
    "best_sample_size = 0"
   ]
  },
  {
   "cell_type": "code",
   "execution_count": 10,
   "metadata": {},
   "outputs": [
    {
     "name": "stderr",
     "output_type": "stream",
     "text": [
      "c:\\Users\\syafi\\anaconda3\\envs\\mydatascienv\\lib\\site-packages\\xgboost\\core.py:158: UserWarning: [17:02:51] WARNING: D:\\bld\\xgboost-split_1730232592996\\work\\src\\learner.cc:740: \n",
      "Parameters: { \"n_estimators\", \"scale_pos_weight\" } are not used.\n",
      "\n",
      "  warnings.warn(smsg, UserWarning)\n"
     ]
    },
    {
     "name": "stdout",
     "output_type": "stream",
     "text": [
      "Sample Size 25: Accuracy 0.4167\n",
      "Classification Report:\n",
      "                                      precision    recall  f1-score   support\n",
      "\n",
      "                        Hypertension       0.33      1.00      0.50         1\n",
      "        Cardiovascular Disease (CVD)       0.00      0.00      0.00         1\n",
      "      Chronic Fatigue Syndrome (CFS)       0.00      0.00      0.00         1\n",
      "            Stress-related Disorders       0.00      0.00      0.00         1\n",
      "                             Healthy       0.00      0.00      0.00         1\n",
      "                            Diabetes       1.00      1.00      1.00         1\n",
      "                             Anaemia       0.00      0.00      0.00         1\n",
      "                     Atherosclerosis       1.00      1.00      1.00         1\n",
      "                          Arrhythmia       1.00      1.00      1.00         1\n",
      "Respiratory Disease (COPD or Asthma)       0.50      1.00      0.67         1\n",
      "               Autonomic Dysfunction       0.00      0.00      0.00         2\n",
      "\n",
      "                            accuracy                           0.42        12\n",
      "                           macro avg       0.35      0.45      0.38        12\n",
      "                        weighted avg       0.32      0.42      0.35        12\n",
      "\n"
     ]
    },
    {
     "name": "stderr",
     "output_type": "stream",
     "text": [
      "c:\\Users\\syafi\\anaconda3\\envs\\mydatascienv\\lib\\site-packages\\xgboost\\core.py:158: UserWarning: [17:02:52] WARNING: D:\\bld\\xgboost-split_1730232592996\\work\\src\\learner.cc:740: \n",
      "Parameters: { \"n_estimators\", \"scale_pos_weight\" } are not used.\n",
      "\n",
      "  warnings.warn(smsg, UserWarning)\n"
     ]
    },
    {
     "name": "stdout",
     "output_type": "stream",
     "text": [
      "Sample Size 50: Accuracy 0.5200\n",
      "Classification Report:\n",
      "                                      precision    recall  f1-score   support\n",
      "\n",
      "                        Hypertension       0.00      0.00      0.00         2\n",
      "        Cardiovascular Disease (CVD)       1.00      0.50      0.67         2\n",
      "      Chronic Fatigue Syndrome (CFS)       0.67      1.00      0.80         2\n",
      "            Stress-related Disorders       1.00      1.00      1.00         2\n",
      "                             Healthy       0.00      0.00      0.00         2\n",
      "                            Diabetes       0.50      1.00      0.67         3\n",
      "                             Anaemia       1.00      1.00      1.00         2\n",
      "                     Atherosclerosis       0.33      0.67      0.44         3\n",
      "                          Arrhythmia       0.00      0.00      0.00         2\n",
      "Respiratory Disease (COPD or Asthma)       0.50      0.50      0.50         2\n",
      "               Autonomic Dysfunction       0.00      0.00      0.00         3\n",
      "\n",
      "                            accuracy                           0.52        25\n",
      "                           macro avg       0.45      0.52      0.46        25\n",
      "                        weighted avg       0.43      0.52      0.45        25\n",
      "\n"
     ]
    },
    {
     "name": "stderr",
     "output_type": "stream",
     "text": [
      "c:\\Users\\syafi\\anaconda3\\envs\\mydatascienv\\lib\\site-packages\\xgboost\\core.py:158: UserWarning: [17:02:55] WARNING: D:\\bld\\xgboost-split_1730232592996\\work\\src\\learner.cc:740: \n",
      "Parameters: { \"n_estimators\", \"scale_pos_weight\" } are not used.\n",
      "\n",
      "  warnings.warn(smsg, UserWarning)\n"
     ]
    },
    {
     "name": "stdout",
     "output_type": "stream",
     "text": [
      "Sample Size 75: Accuracy 0.8108\n",
      "Classification Report:\n",
      "                                      precision    recall  f1-score   support\n",
      "\n",
      "                        Hypertension       0.50      0.33      0.40         3\n",
      "        Cardiovascular Disease (CVD)       0.60      1.00      0.75         3\n",
      "      Chronic Fatigue Syndrome (CFS)       1.00      1.00      1.00         3\n",
      "            Stress-related Disorders       1.00      0.67      0.80         3\n",
      "                             Healthy       0.50      0.33      0.40         3\n",
      "                            Diabetes       0.80      1.00      0.89         4\n",
      "                             Anaemia       0.80      1.00      0.89         4\n",
      "                     Atherosclerosis       1.00      1.00      1.00         4\n",
      "                          Arrhythmia       1.00      0.67      0.80         3\n",
      "Respiratory Disease (COPD or Asthma)       0.75      1.00      0.86         3\n",
      "               Autonomic Dysfunction       1.00      0.75      0.86         4\n",
      "\n",
      "                            accuracy                           0.81        37\n",
      "                           macro avg       0.81      0.80      0.79        37\n",
      "                        weighted avg       0.82      0.81      0.80        37\n",
      "\n"
     ]
    },
    {
     "name": "stderr",
     "output_type": "stream",
     "text": [
      "c:\\Users\\syafi\\anaconda3\\envs\\mydatascienv\\lib\\site-packages\\xgboost\\core.py:158: UserWarning: [17:02:56] WARNING: D:\\bld\\xgboost-split_1730232592996\\work\\src\\learner.cc:740: \n",
      "Parameters: { \"n_estimators\", \"scale_pos_weight\" } are not used.\n",
      "\n",
      "  warnings.warn(smsg, UserWarning)\n"
     ]
    },
    {
     "name": "stdout",
     "output_type": "stream",
     "text": [
      "Sample Size 100: Accuracy 0.7800\n",
      "Classification Report:\n",
      "                                      precision    recall  f1-score   support\n",
      "\n",
      "                        Hypertension       1.00      0.75      0.86         4\n",
      "        Cardiovascular Disease (CVD)       1.00      1.00      1.00         5\n",
      "      Chronic Fatigue Syndrome (CFS)       1.00      0.60      0.75         5\n",
      "            Stress-related Disorders       1.00      0.75      0.86         4\n",
      "                             Healthy       0.80      1.00      0.89         4\n",
      "                            Diabetes       1.00      1.00      1.00         5\n",
      "                             Anaemia       1.00      1.00      1.00         5\n",
      "                     Atherosclerosis       0.50      1.00      0.67         5\n",
      "                          Arrhythmia       1.00      0.50      0.67         4\n",
      "Respiratory Disease (COPD or Asthma)       0.67      0.50      0.57         4\n",
      "               Autonomic Dysfunction       0.33      0.40      0.36         5\n",
      "\n",
      "                            accuracy                           0.78        50\n",
      "                           macro avg       0.85      0.77      0.78        50\n",
      "                        weighted avg       0.84      0.78      0.79        50\n",
      "\n"
     ]
    },
    {
     "name": "stderr",
     "output_type": "stream",
     "text": [
      "c:\\Users\\syafi\\anaconda3\\envs\\mydatascienv\\lib\\site-packages\\xgboost\\core.py:158: UserWarning: [17:02:57] WARNING: D:\\bld\\xgboost-split_1730232592996\\work\\src\\learner.cc:740: \n",
      "Parameters: { \"n_estimators\", \"scale_pos_weight\" } are not used.\n",
      "\n",
      "  warnings.warn(smsg, UserWarning)\n"
     ]
    },
    {
     "name": "stdout",
     "output_type": "stream",
     "text": [
      "Sample Size 250: Accuracy 0.9120\n",
      "Classification Report:\n",
      "                                      precision    recall  f1-score   support\n",
      "\n",
      "                        Hypertension       0.62      0.91      0.74        11\n",
      "        Cardiovascular Disease (CVD)       0.90      0.82      0.86        11\n",
      "      Chronic Fatigue Syndrome (CFS)       1.00      0.82      0.90        11\n",
      "            Stress-related Disorders       1.00      1.00      1.00        11\n",
      "                             Healthy       0.85      1.00      0.92        11\n",
      "                            Diabetes       1.00      1.00      1.00        12\n",
      "                             Anaemia       1.00      0.83      0.91        12\n",
      "                     Atherosclerosis       0.92      0.92      0.92        12\n",
      "                          Arrhythmia       1.00      0.82      0.90        11\n",
      "Respiratory Disease (COPD or Asthma)       1.00      1.00      1.00        11\n",
      "               Autonomic Dysfunction       0.92      0.92      0.92        12\n",
      "\n",
      "                            accuracy                           0.91       125\n",
      "                           macro avg       0.93      0.91      0.91       125\n",
      "                        weighted avg       0.93      0.91      0.91       125\n",
      "\n"
     ]
    },
    {
     "name": "stderr",
     "output_type": "stream",
     "text": [
      "c:\\Users\\syafi\\anaconda3\\envs\\mydatascienv\\lib\\site-packages\\xgboost\\core.py:158: UserWarning: [17:02:58] WARNING: D:\\bld\\xgboost-split_1730232592996\\work\\src\\learner.cc:740: \n",
      "Parameters: { \"n_estimators\", \"scale_pos_weight\" } are not used.\n",
      "\n",
      "  warnings.warn(smsg, UserWarning)\n"
     ]
    },
    {
     "name": "stdout",
     "output_type": "stream",
     "text": [
      "Sample Size 500: Accuracy 0.9560\n",
      "Classification Report:\n",
      "                                      precision    recall  f1-score   support\n",
      "\n",
      "                        Hypertension       0.83      0.91      0.87        22\n",
      "        Cardiovascular Disease (CVD)       0.96      0.96      0.96        23\n",
      "      Chronic Fatigue Syndrome (CFS)       0.88      0.96      0.92        23\n",
      "            Stress-related Disorders       0.92      1.00      0.96        23\n",
      "                             Healthy       1.00      0.95      0.98        22\n",
      "                            Diabetes       1.00      1.00      1.00        23\n",
      "                             Anaemia       1.00      0.91      0.95        23\n",
      "                     Atherosclerosis       1.00      0.96      0.98        23\n",
      "                          Arrhythmia       1.00      1.00      1.00        22\n",
      "Respiratory Disease (COPD or Asthma)       0.96      0.96      0.96        23\n",
      "               Autonomic Dysfunction       1.00      0.91      0.95        23\n",
      "\n",
      "                            accuracy                           0.96       250\n",
      "                           macro avg       0.96      0.96      0.96       250\n",
      "                        weighted avg       0.96      0.96      0.96       250\n",
      "\n"
     ]
    },
    {
     "name": "stderr",
     "output_type": "stream",
     "text": [
      "c:\\Users\\syafi\\anaconda3\\envs\\mydatascienv\\lib\\site-packages\\xgboost\\core.py:158: UserWarning: [17:02:59] WARNING: D:\\bld\\xgboost-split_1730232592996\\work\\src\\learner.cc:740: \n",
      "Parameters: { \"n_estimators\", \"scale_pos_weight\" } are not used.\n",
      "\n",
      "  warnings.warn(smsg, UserWarning)\n"
     ]
    },
    {
     "name": "stdout",
     "output_type": "stream",
     "text": [
      "Sample Size 750: Accuracy 0.9547\n",
      "Classification Report:\n",
      "                                      precision    recall  f1-score   support\n",
      "\n",
      "                        Hypertension       0.83      0.88      0.86        34\n",
      "        Cardiovascular Disease (CVD)       0.94      1.00      0.97        34\n",
      "      Chronic Fatigue Syndrome (CFS)       0.94      0.97      0.96        34\n",
      "            Stress-related Disorders       0.94      1.00      0.97        34\n",
      "                             Healthy       0.94      1.00      0.97        33\n",
      "                            Diabetes       1.00      1.00      1.00        35\n",
      "                             Anaemia       0.97      1.00      0.99        34\n",
      "                     Atherosclerosis       0.94      0.94      0.94        34\n",
      "                          Arrhythmia       1.00      0.91      0.95        34\n",
      "Respiratory Disease (COPD or Asthma)       1.00      0.97      0.99        34\n",
      "               Autonomic Dysfunction       1.00      0.83      0.91        35\n",
      "\n",
      "                            accuracy                           0.95       375\n",
      "                           macro avg       0.96      0.96      0.95       375\n",
      "                        weighted avg       0.96      0.95      0.95       375\n",
      "\n"
     ]
    },
    {
     "name": "stderr",
     "output_type": "stream",
     "text": [
      "c:\\Users\\syafi\\anaconda3\\envs\\mydatascienv\\lib\\site-packages\\xgboost\\core.py:158: UserWarning: [17:03:01] WARNING: D:\\bld\\xgboost-split_1730232592996\\work\\src\\learner.cc:740: \n",
      "Parameters: { \"n_estimators\", \"scale_pos_weight\" } are not used.\n",
      "\n",
      "  warnings.warn(smsg, UserWarning)\n"
     ]
    },
    {
     "name": "stdout",
     "output_type": "stream",
     "text": [
      "Sample Size 1000: Accuracy 0.9760\n",
      "Classification Report:\n",
      "                                      precision    recall  f1-score   support\n",
      "\n",
      "                        Hypertension       0.88      0.96      0.91        45\n",
      "        Cardiovascular Disease (CVD)       0.98      1.00      0.99        46\n",
      "      Chronic Fatigue Syndrome (CFS)       0.98      0.96      0.97        46\n",
      "            Stress-related Disorders       0.98      1.00      0.99        45\n",
      "                             Healthy       1.00      1.00      1.00        44\n",
      "                            Diabetes       1.00      0.98      0.99        46\n",
      "                             Anaemia       1.00      1.00      1.00        46\n",
      "                     Atherosclerosis       0.96      0.96      0.96        46\n",
      "                          Arrhythmia       0.98      0.98      0.98        45\n",
      "Respiratory Disease (COPD or Asthma)       1.00      0.96      0.98        45\n",
      "               Autonomic Dysfunction       1.00      0.96      0.98        46\n",
      "\n",
      "                            accuracy                           0.98       500\n",
      "                           macro avg       0.98      0.98      0.98       500\n",
      "                        weighted avg       0.98      0.98      0.98       500\n",
      "\n"
     ]
    },
    {
     "name": "stderr",
     "output_type": "stream",
     "text": [
      "c:\\Users\\syafi\\anaconda3\\envs\\mydatascienv\\lib\\site-packages\\xgboost\\core.py:158: UserWarning: [17:03:02] WARNING: D:\\bld\\xgboost-split_1730232592996\\work\\src\\learner.cc:740: \n",
      "Parameters: { \"n_estimators\", \"scale_pos_weight\" } are not used.\n",
      "\n",
      "  warnings.warn(smsg, UserWarning)\n"
     ]
    },
    {
     "name": "stdout",
     "output_type": "stream",
     "text": [
      "Sample Size 2500: Accuracy 0.9864\n",
      "Classification Report:\n",
      "                                      precision    recall  f1-score   support\n",
      "\n",
      "                        Hypertension       0.91      0.97      0.94       113\n",
      "        Cardiovascular Disease (CVD)       0.97      0.99      0.98       114\n",
      "      Chronic Fatigue Syndrome (CFS)       1.00      1.00      1.00       114\n",
      "            Stress-related Disorders       1.00      1.00      1.00       114\n",
      "                             Healthy       0.98      1.00      0.99       109\n",
      "                            Diabetes       1.00      1.00      1.00       115\n",
      "                             Anaemia       0.99      1.00      1.00       114\n",
      "                     Atherosclerosis       1.00      0.96      0.98       114\n",
      "                          Arrhythmia       1.00      0.97      0.99       113\n",
      "Respiratory Disease (COPD or Asthma)       1.00      0.98      0.99       114\n",
      "               Autonomic Dysfunction       1.00      0.97      0.98       116\n",
      "\n",
      "                            accuracy                           0.99      1250\n",
      "                           macro avg       0.99      0.99      0.99      1250\n",
      "                        weighted avg       0.99      0.99      0.99      1250\n",
      "\n"
     ]
    },
    {
     "name": "stderr",
     "output_type": "stream",
     "text": [
      "c:\\Users\\syafi\\anaconda3\\envs\\mydatascienv\\lib\\site-packages\\xgboost\\core.py:158: UserWarning: [17:03:04] WARNING: D:\\bld\\xgboost-split_1730232592996\\work\\src\\learner.cc:740: \n",
      "Parameters: { \"n_estimators\", \"scale_pos_weight\" } are not used.\n",
      "\n",
      "  warnings.warn(smsg, UserWarning)\n"
     ]
    },
    {
     "name": "stdout",
     "output_type": "stream",
     "text": [
      "Sample Size 5000: Accuracy 0.9868\n",
      "Classification Report:\n",
      "                                      precision    recall  f1-score   support\n",
      "\n",
      "                        Hypertension       0.92      0.96      0.94       226\n",
      "        Cardiovascular Disease (CVD)       1.00      0.98      0.99       228\n",
      "      Chronic Fatigue Syndrome (CFS)       1.00      1.00      1.00       228\n",
      "            Stress-related Disorders       1.00      1.00      1.00       227\n",
      "                             Healthy       1.00      1.00      1.00       219\n",
      "                            Diabetes       1.00      1.00      1.00       229\n",
      "                             Anaemia       1.00      1.00      1.00       228\n",
      "                     Atherosclerosis       0.99      0.98      0.98       229\n",
      "                          Arrhythmia       1.00      1.00      1.00       227\n",
      "Respiratory Disease (COPD or Asthma)       0.98      1.00      0.99       228\n",
      "               Autonomic Dysfunction       0.99      0.95      0.97       231\n",
      "\n",
      "                            accuracy                           0.99      2500\n",
      "                           macro avg       0.99      0.99      0.99      2500\n",
      "                        weighted avg       0.99      0.99      0.99      2500\n",
      "\n"
     ]
    },
    {
     "name": "stderr",
     "output_type": "stream",
     "text": [
      "c:\\Users\\syafi\\anaconda3\\envs\\mydatascienv\\lib\\site-packages\\xgboost\\core.py:158: UserWarning: [17:03:07] WARNING: D:\\bld\\xgboost-split_1730232592996\\work\\src\\learner.cc:740: \n",
      "Parameters: { \"n_estimators\", \"scale_pos_weight\" } are not used.\n",
      "\n",
      "  warnings.warn(smsg, UserWarning)\n"
     ]
    },
    {
     "name": "stdout",
     "output_type": "stream",
     "text": [
      "Sample Size 7500: Accuracy 0.9845\n",
      "Classification Report:\n",
      "                                      precision    recall  f1-score   support\n",
      "\n",
      "                        Hypertension       0.93      0.95      0.94       338\n",
      "        Cardiovascular Disease (CVD)       0.98      1.00      0.99       342\n",
      "      Chronic Fatigue Syndrome (CFS)       0.97      1.00      0.98       342\n",
      "            Stress-related Disorders       0.99      1.00      1.00       341\n",
      "                             Healthy       0.99      0.99      0.99       329\n",
      "                            Diabetes       0.99      1.00      1.00       344\n",
      "                             Anaemia       1.00      1.00      1.00       342\n",
      "                     Atherosclerosis       0.99      0.97      0.98       343\n",
      "                          Arrhythmia       1.00      0.99      0.99       341\n",
      "Respiratory Disease (COPD or Asthma)       0.99      0.99      0.99       341\n",
      "               Autonomic Dysfunction       0.99      0.96      0.97       347\n",
      "\n",
      "                            accuracy                           0.98      3750\n",
      "                           macro avg       0.98      0.98      0.98      3750\n",
      "                        weighted avg       0.98      0.98      0.98      3750\n",
      "\n"
     ]
    },
    {
     "name": "stderr",
     "output_type": "stream",
     "text": [
      "c:\\Users\\syafi\\anaconda3\\envs\\mydatascienv\\lib\\site-packages\\xgboost\\core.py:158: UserWarning: [17:03:10] WARNING: D:\\bld\\xgboost-split_1730232592996\\work\\src\\learner.cc:740: \n",
      "Parameters: { \"n_estimators\", \"scale_pos_weight\" } are not used.\n",
      "\n",
      "  warnings.warn(smsg, UserWarning)\n"
     ]
    },
    {
     "name": "stdout",
     "output_type": "stream",
     "text": [
      "Sample Size 10000: Accuracy 0.9866\n",
      "Classification Report:\n",
      "                                      precision    recall  f1-score   support\n",
      "\n",
      "                        Hypertension       0.93      0.96      0.94       451\n",
      "        Cardiovascular Disease (CVD)       0.98      0.99      0.99       456\n",
      "      Chronic Fatigue Syndrome (CFS)       0.98      1.00      0.99       456\n",
      "            Stress-related Disorders       1.00      1.00      1.00       454\n",
      "                             Healthy       1.00      0.99      1.00       438\n",
      "                            Diabetes       1.00      1.00      1.00       458\n",
      "                             Anaemia       1.00      1.00      1.00       457\n",
      "                     Atherosclerosis       1.00      0.97      0.98       458\n",
      "                          Arrhythmia       0.99      0.99      0.99       454\n",
      "Respiratory Disease (COPD or Asthma)       0.99      0.99      0.99       455\n",
      "               Autonomic Dysfunction       0.99      0.97      0.98       463\n",
      "\n",
      "                            accuracy                           0.99      5000\n",
      "                           macro avg       0.99      0.99      0.99      5000\n",
      "                        weighted avg       0.99      0.99      0.99      5000\n",
      "\n"
     ]
    },
    {
     "name": "stderr",
     "output_type": "stream",
     "text": [
      "c:\\Users\\syafi\\anaconda3\\envs\\mydatascienv\\lib\\site-packages\\xgboost\\core.py:158: UserWarning: [17:03:14] WARNING: D:\\bld\\xgboost-split_1730232592996\\work\\src\\learner.cc:740: \n",
      "Parameters: { \"n_estimators\", \"scale_pos_weight\" } are not used.\n",
      "\n",
      "  warnings.warn(smsg, UserWarning)\n"
     ]
    },
    {
     "name": "stdout",
     "output_type": "stream",
     "text": [
      "Sample Size 20000: Accuracy 0.9885\n",
      "Classification Report:\n",
      "                                      precision    recall  f1-score   support\n",
      "\n",
      "                        Hypertension       0.94      0.96      0.95       902\n",
      "        Cardiovascular Disease (CVD)       0.99      0.99      0.99       911\n",
      "      Chronic Fatigue Syndrome (CFS)       0.99      1.00      0.99       912\n",
      "            Stress-related Disorders       1.00      1.00      1.00       909\n",
      "                             Healthy       1.00      0.99      1.00       876\n",
      "                            Diabetes       0.99      0.99      0.99       917\n",
      "                             Anaemia       1.00      1.00      1.00       913\n",
      "                     Atherosclerosis       0.99      0.97      0.98       915\n",
      "                          Arrhythmia       0.99      0.99      0.99       909\n",
      "Respiratory Disease (COPD or Asthma)       1.00      1.00      1.00       910\n",
      "               Autonomic Dysfunction       0.99      0.97      0.98       926\n",
      "\n",
      "                            accuracy                           0.99     10000\n",
      "                           macro avg       0.99      0.99      0.99     10000\n",
      "                        weighted avg       0.99      0.99      0.99     10000\n",
      "\n"
     ]
    },
    {
     "name": "stderr",
     "output_type": "stream",
     "text": [
      "c:\\Users\\syafi\\anaconda3\\envs\\mydatascienv\\lib\\site-packages\\xgboost\\core.py:158: UserWarning: [17:03:17] WARNING: D:\\bld\\xgboost-split_1730232592996\\work\\src\\learner.cc:740: \n",
      "Parameters: { \"n_estimators\", \"scale_pos_weight\" } are not used.\n",
      "\n",
      "  warnings.warn(smsg, UserWarning)\n"
     ]
    },
    {
     "name": "stdout",
     "output_type": "stream",
     "text": [
      "Sample Size 30000: Accuracy 0.9884\n",
      "Classification Report:\n",
      "                                      precision    recall  f1-score   support\n",
      "\n",
      "                        Hypertension       0.93      0.96      0.95      1352\n",
      "        Cardiovascular Disease (CVD)       0.99      0.99      0.99      1367\n",
      "      Chronic Fatigue Syndrome (CFS)       0.98      0.99      0.99      1369\n",
      "            Stress-related Disorders       1.00      1.00      1.00      1363\n",
      "                             Healthy       1.00      0.99      0.99      1314\n",
      "                            Diabetes       0.99      1.00      1.00      1375\n",
      "                             Anaemia       1.00      1.00      1.00      1370\n",
      "                     Atherosclerosis       0.99      0.98      0.99      1373\n",
      "                          Arrhythmia       1.00      1.00      1.00      1363\n",
      "Respiratory Disease (COPD or Asthma)       0.99      0.99      0.99      1366\n",
      "               Autonomic Dysfunction       1.00      0.97      0.98      1388\n",
      "\n",
      "                            accuracy                           0.99     15000\n",
      "                           macro avg       0.99      0.99      0.99     15000\n",
      "                        weighted avg       0.99      0.99      0.99     15000\n",
      "\n"
     ]
    },
    {
     "name": "stderr",
     "output_type": "stream",
     "text": [
      "c:\\Users\\syafi\\anaconda3\\envs\\mydatascienv\\lib\\site-packages\\xgboost\\core.py:158: UserWarning: [17:03:22] WARNING: D:\\bld\\xgboost-split_1730232592996\\work\\src\\learner.cc:740: \n",
      "Parameters: { \"n_estimators\", \"scale_pos_weight\" } are not used.\n",
      "\n",
      "  warnings.warn(smsg, UserWarning)\n"
     ]
    },
    {
     "name": "stdout",
     "output_type": "stream",
     "text": [
      "Sample Size 40000: Accuracy 0.9894\n",
      "Classification Report:\n",
      "                                      precision    recall  f1-score   support\n",
      "\n",
      "                        Hypertension       0.95      0.96      0.96      1803\n",
      "        Cardiovascular Disease (CVD)       0.99      1.00      0.99      1822\n",
      "      Chronic Fatigue Syndrome (CFS)       0.98      1.00      0.99      1825\n",
      "            Stress-related Disorders       1.00      1.00      1.00      1818\n",
      "                             Healthy       0.99      0.99      0.99      1752\n",
      "                            Diabetes       1.00      0.99      0.99      1834\n",
      "                             Anaemia       1.00      1.00      1.00      1826\n",
      "                     Atherosclerosis       0.99      0.98      0.99      1831\n",
      "                          Arrhythmia       0.99      0.99      0.99      1817\n",
      "Respiratory Disease (COPD or Asthma)       0.99      1.00      0.99      1821\n",
      "               Autonomic Dysfunction       0.99      0.98      0.99      1851\n",
      "\n",
      "                            accuracy                           0.99     20000\n",
      "                           macro avg       0.99      0.99      0.99     20000\n",
      "                        weighted avg       0.99      0.99      0.99     20000\n",
      "\n"
     ]
    },
    {
     "name": "stderr",
     "output_type": "stream",
     "text": [
      "c:\\Users\\syafi\\anaconda3\\envs\\mydatascienv\\lib\\site-packages\\xgboost\\core.py:158: UserWarning: [17:03:27] WARNING: D:\\bld\\xgboost-split_1730232592996\\work\\src\\learner.cc:740: \n",
      "Parameters: { \"n_estimators\", \"scale_pos_weight\" } are not used.\n",
      "\n",
      "  warnings.warn(smsg, UserWarning)\n"
     ]
    },
    {
     "name": "stdout",
     "output_type": "stream",
     "text": [
      "Sample Size 50000: Accuracy 0.9891\n",
      "Classification Report:\n",
      "                                      precision    recall  f1-score   support\n",
      "\n",
      "                        Hypertension       0.95      0.96      0.95      2254\n",
      "        Cardiovascular Disease (CVD)       0.99      0.99      0.99      2278\n",
      "      Chronic Fatigue Syndrome (CFS)       0.98      1.00      0.99      2281\n",
      "            Stress-related Disorders       1.00      1.00      1.00      2272\n",
      "                             Healthy       0.99      0.99      0.99      2190\n",
      "                            Diabetes       1.00      0.99      0.99      2292\n",
      "                             Anaemia       1.00      1.00      1.00      2283\n",
      "                     Atherosclerosis       0.99      0.98      0.99      2288\n",
      "                          Arrhythmia       0.99      0.99      0.99      2272\n",
      "Respiratory Disease (COPD or Asthma)       0.99      1.00      1.00      2276\n",
      "               Autonomic Dysfunction       0.99      0.97      0.98      2314\n",
      "\n",
      "                            accuracy                           0.99     25000\n",
      "                           macro avg       0.99      0.99      0.99     25000\n",
      "                        weighted avg       0.99      0.99      0.99     25000\n",
      "\n"
     ]
    }
   ],
   "source": [
    "# Iterative training loop\n",
    "for sample_size in [25, 50, 75, 100, 250, 500, 750, 1000, 2500, 5000, 7500, 10000, 20000, 30000, 40000, 50000]:\n",
    "    if len(X_resampled) < sample_size:\n",
    "        print(f\"Skipping sample size {sample_size} due to insufficient data.\")\n",
    "        continue\n",
    "\n",
    "    X_train_subset, X_test_subset, y_train_subset, y_test_subset = stratified_subsample(\n",
    "        X_resampled, y_resampled, train_size=sample_size, test_size=sample_size // 2\n",
    "    )\n",
    "\n",
    "    # Train XGBoost model\n",
    "    dtrain = xgb.DMatrix(X_train_subset, label=y_train_subset)\n",
    "    xgb_model = xgb.train(best_params, dtrain, num_boost_round=100, verbose_eval=False)\n",
    "\n",
    "    # Evaluate model\n",
    "    accuracy, report = evaluate_xgb_model(xgb_model, X_test_subset, y_test_subset)\n",
    "    print(f\"Sample Size {sample_size}: Accuracy {accuracy:.4f}\")\n",
    "    print(\"Classification Report:\")\n",
    "    print(report)\n",
    "\n",
    "    # Store results and track the best model\n",
    "    if accuracy > best_accuracy:\n",
    "        best_accuracy = accuracy\n",
    "        best_model = xgb_model\n",
    "        best_sample_size = sample_size"
   ]
  },
  {
   "cell_type": "code",
   "execution_count": 11,
   "metadata": {},
   "outputs": [
    {
     "name": "stdout",
     "output_type": "stream",
     "text": [
      "\n",
      "Best model saved as xgb_model.pkl with accuracy 0.9894\n"
     ]
    }
   ],
   "source": [
    "# Save the best model\n",
    "if best_model is not None:\n",
    "    best_model_file = f\"xgb_model.pkl\"\n",
    "    with open(best_model_file, \"wb\") as model_file:\n",
    "        pickle.dump(best_model, model_file)\n",
    "    print(f\"\\nBest model saved as {best_model_file} with accuracy {best_accuracy:.4f}\")"
   ]
  }
 ],
 "metadata": {
  "kernelspec": {
   "display_name": "mydatascienv",
   "language": "python",
   "name": "python3"
  },
  "language_info": {
   "codemirror_mode": {
    "name": "ipython",
    "version": 3
   },
   "file_extension": ".py",
   "mimetype": "text/x-python",
   "name": "python",
   "nbconvert_exporter": "python",
   "pygments_lexer": "ipython3",
   "version": "3.9.20"
  }
 },
 "nbformat": 4,
 "nbformat_minor": 2
}
