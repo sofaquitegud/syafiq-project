{
 "cells": [
  {
   "cell_type": "code",
   "execution_count": 1,
   "metadata": {},
   "outputs": [],
   "source": [
    "import pandas as pd\n",
    "import numpy as np\n",
    "import pickle\n",
    "import xgboost as xgb\n",
    "from sklearn.metrics import accuracy_score, classification_report\n",
    "from sklearn.model_selection import train_test_split\n",
    "from imblearn.over_sampling import ADASYN"
   ]
  },
  {
   "cell_type": "code",
   "execution_count": 2,
   "metadata": {},
   "outputs": [],
   "source": [
    "preprocess_file = 'C:/Users/syafi/Desktop/syafiq-project/classification-task/preprocessed_data.pkl'\n",
    "\n",
    "# Load preprocessed data\n",
    "with open(preprocess_file, \"rb\") as f:\n",
    "    X_scaled, y, scaler = pickle.load(f)"
   ]
  },
  {
   "cell_type": "code",
   "execution_count": 3,
   "metadata": {},
   "outputs": [],
   "source": [
    "# Number of classes\n",
    "num_classes = len(np.unique(y))\n",
    "\n",
    "# Class labels for all 11 classes\n",
    "class_labels = [\n",
    "    \"Hypertension\",\n",
    "    \"Cardiovascular Disease (CVD)\",\n",
    "    \"Chronic Fatigue Syndrome (CFS)\",\n",
    "    \"Stress-related Disorders\",\n",
    "    \"Healthy\",\n",
    "    \"Diabetes\",\n",
    "    \"Anaemia\",\n",
    "    \"Atherosclerosis\",\n",
    "    \"Arrhythmia\",\n",
    "    \"Respiratory Disease (COPD or Asthma)\",\n",
    "    \"Autonomic Dysfunction\"\n",
    "]"
   ]
  },
  {
   "cell_type": "markdown",
   "metadata": {},
   "source": [
    "# Using ADASYN instead of SMOTE\n",
    "1. Adapts the sampling process based on the distribution of minority samples\n",
    "- it creates more synthetic data for regions where minority samples are sparse or harder to learn.\n",
    "- fewer samples are generated in well-represented regions of the minority class.\n",
    "2. Reduces the risk of overfitting by focusing on under-represented regions, improving the classifier's generalisation.\n",
    "3. Prioritises generating synthetic samples where the model struggles, potentially leading to more realistic samples for challenging cases."
   ]
  },
  {
   "cell_type": "code",
   "execution_count": 4,
   "metadata": {},
   "outputs": [
    {
     "name": "stdout",
     "output_type": "stream",
     "text": [
      "Class Distribution After ADASYN:\n",
      "Disease Classification\n",
      "4     228888\n",
      "6     221850\n",
      "2     220409\n",
      "1     219974\n",
      "0     219956\n",
      "5     219690\n",
      "9     219643\n",
      "3     219628\n",
      "8     219610\n",
      "10    218289\n",
      "7     217810\n",
      "Name: count, dtype: int64\n"
     ]
    }
   ],
   "source": [
    "# Applying ADASYN for balancing the class distribution\n",
    "adasyn = ADASYN(random_state=42)\n",
    "X_resampled, y_resampled = adasyn.fit_resample(X_scaled, y)\n",
    "\n",
    "# Display the class distribution after resampling\n",
    "print(\"Class Distribution After ADASYN:\")\n",
    "print(pd.Series(y_resampled).value_counts())"
   ]
  },
  {
   "cell_type": "code",
   "execution_count": 5,
   "metadata": {},
   "outputs": [],
   "source": [
    "# Function to evaluate XGBoost model\n",
    "def evaluate_xgb_model(model, X_test, y_test):\n",
    "    dtest = xgb.DMatrix(X_test)\n",
    "    predictions = model.predict(dtest)\n",
    "\n",
    "    # If predictions are probabilities, take the class with highest probability\n",
    "    if predictions.ndim > 1:  # multi-class case\n",
    "        predictions = np.argmax(predictions, axis=1)\n",
    "    else:\n",
    "        predictions = predictions.astype(int)\n",
    "\n",
    "    accuracy = accuracy_score(y_test, predictions)\n",
    "    unique_labels = np.unique(y_test)  # Get unique labels in the test set\n",
    "    report = classification_report(\n",
    "        y_test,\n",
    "        predictions,\n",
    "        target_names=class_labels,\n",
    "        labels=unique_labels,\n",
    "        zero_division=0,\n",
    "    )\n",
    "\n",
    "    return accuracy, report"
   ]
  },
  {
   "cell_type": "code",
   "execution_count": 6,
   "metadata": {},
   "outputs": [],
   "source": [
    "def stratified_subsample(X, y, train_size, test_size):\n",
    "    \"\"\"\n",
    "    Creates a stratified subset of data for training and testing based on sample sizes.\n",
    "    \"\"\"\n",
    "    X_train, X_test, y_train, y_test = train_test_split(\n",
    "        X, y, train_size=train_size, test_size=test_size, stratify=y, random_state=42\n",
    "    )\n",
    "    return X_train, X_test, y_train, y_test"
   ]
  },
  {
   "cell_type": "code",
   "execution_count": 7,
   "metadata": {},
   "outputs": [],
   "source": [
    "def hyperparameter_tuning(X, y):\n",
    "    \"\"\"\n",
    "    Manually tune hyperparameters for XGBoost.\n",
    "    \"\"\"\n",
    "    # Define hyperparameters to tune\n",
    "    best_params = {\n",
    "        \"max_depth\": 6,  # Example hyperparameters\n",
    "        \"learning_rate\": 0.1,\n",
    "        \"n_estimators\": 100,\n",
    "        \"subsample\": 0.8,\n",
    "        \"colsample_bytree\": 0.8,\n",
    "        \"objective\": \"multi:softmax\",  # Multi-class classification\n",
    "        \"num_class\": len(np.unique(y)),  # Number of classes\n",
    "    }\n",
    "\n",
    "    # We can iterate over different combinations or grid search manually here\n",
    "    return best_params"
   ]
  },
  {
   "cell_type": "code",
   "execution_count": 8,
   "metadata": {},
   "outputs": [],
   "source": [
    "# Container for results\n",
    "xgb_results = []\n",
    "best_accuracy = 0\n",
    "best_model = None\n",
    "best_sample_size = 0"
   ]
  },
  {
   "cell_type": "code",
   "execution_count": 9,
   "metadata": {},
   "outputs": [
    {
     "name": "stdout",
     "output_type": "stream",
     "text": [
      "Best Hyperparameters: {'max_depth': 6, 'learning_rate': 0.1, 'n_estimators': 100, 'subsample': 0.8, 'colsample_bytree': 0.8, 'objective': 'multi:softmax', 'num_class': 11}\n"
     ]
    },
    {
     "name": "stderr",
     "output_type": "stream",
     "text": [
      "c:\\Users\\syafi\\anaconda3\\envs\\mydatascienv\\lib\\site-packages\\xgboost\\core.py:158: UserWarning: [17:38:41] WARNING: D:\\bld\\xgboost-split_1732667012888\\work\\src\\learner.cc:740: \n",
      "Parameters: { \"n_estimators\" } are not used.\n",
      "\n",
      "  warnings.warn(smsg, UserWarning)\n"
     ]
    },
    {
     "name": "stdout",
     "output_type": "stream",
     "text": [
      "Sample Size 25: Accuracy 0.4167\n",
      "Classification Report:\n",
      "                                      precision    recall  f1-score   support\n",
      "\n",
      "                        Hypertension       0.00      0.00      0.00         1\n",
      "        Cardiovascular Disease (CVD)       0.00      0.00      0.00         1\n",
      "      Chronic Fatigue Syndrome (CFS)       0.33      1.00      0.50         1\n",
      "            Stress-related Disorders       0.33      1.00      0.50         1\n",
      "                             Healthy       1.00      0.50      0.67         2\n",
      "                            Diabetes       0.50      1.00      0.67         1\n",
      "                             Anaemia       1.00      1.00      1.00         1\n",
      "                     Atherosclerosis       0.00      0.00      0.00         1\n",
      "                          Arrhythmia       0.00      0.00      0.00         1\n",
      "Respiratory Disease (COPD or Asthma)       0.00      0.00      0.00         1\n",
      "               Autonomic Dysfunction       0.00      0.00      0.00         1\n",
      "\n",
      "                            accuracy                           0.42        12\n",
      "                           macro avg       0.29      0.41      0.30        12\n",
      "                        weighted avg       0.35      0.42      0.33        12\n",
      "\n"
     ]
    },
    {
     "name": "stderr",
     "output_type": "stream",
     "text": [
      "c:\\Users\\syafi\\anaconda3\\envs\\mydatascienv\\lib\\site-packages\\xgboost\\core.py:158: UserWarning: [17:38:42] WARNING: D:\\bld\\xgboost-split_1732667012888\\work\\src\\learner.cc:740: \n",
      "Parameters: { \"n_estimators\" } are not used.\n",
      "\n",
      "  warnings.warn(smsg, UserWarning)\n"
     ]
    },
    {
     "name": "stdout",
     "output_type": "stream",
     "text": [
      "Sample Size 50: Accuracy 0.7200\n",
      "Classification Report:\n",
      "                                      precision    recall  f1-score   support\n",
      "\n",
      "                        Hypertension       0.67      1.00      0.80         2\n",
      "        Cardiovascular Disease (CVD)       0.50      0.50      0.50         2\n",
      "      Chronic Fatigue Syndrome (CFS)       1.00      0.33      0.50         3\n",
      "            Stress-related Disorders       0.67      1.00      0.80         2\n",
      "                             Healthy       1.00      0.67      0.80         3\n",
      "                            Diabetes       0.67      1.00      0.80         2\n",
      "                             Anaemia       1.00      0.33      0.50         3\n",
      "                     Atherosclerosis       0.50      1.00      0.67         2\n",
      "                          Arrhythmia       1.00      1.00      1.00         2\n",
      "Respiratory Disease (COPD or Asthma)       0.67      1.00      0.80         2\n",
      "               Autonomic Dysfunction       1.00      0.50      0.67         2\n",
      "\n",
      "                            accuracy                           0.72        25\n",
      "                           macro avg       0.79      0.76      0.71        25\n",
      "                        weighted avg       0.81      0.72      0.70        25\n",
      "\n"
     ]
    },
    {
     "name": "stderr",
     "output_type": "stream",
     "text": [
      "c:\\Users\\syafi\\anaconda3\\envs\\mydatascienv\\lib\\site-packages\\xgboost\\core.py:158: UserWarning: [17:38:42] WARNING: D:\\bld\\xgboost-split_1732667012888\\work\\src\\learner.cc:740: \n",
      "Parameters: { \"n_estimators\" } are not used.\n",
      "\n",
      "  warnings.warn(smsg, UserWarning)\n"
     ]
    },
    {
     "name": "stdout",
     "output_type": "stream",
     "text": [
      "Sample Size 75: Accuracy 0.6486\n",
      "Classification Report:\n",
      "                                      precision    recall  f1-score   support\n",
      "\n",
      "                        Hypertension       1.00      0.67      0.80         3\n",
      "        Cardiovascular Disease (CVD)       1.00      0.75      0.86         4\n",
      "      Chronic Fatigue Syndrome (CFS)       0.50      0.75      0.60         4\n",
      "            Stress-related Disorders       1.00      1.00      1.00         3\n",
      "                             Healthy       0.60      0.75      0.67         4\n",
      "                            Diabetes       0.67      0.67      0.67         3\n",
      "                             Anaemia       0.00      0.00      0.00         4\n",
      "                     Atherosclerosis       0.50      1.00      0.67         3\n",
      "                          Arrhythmia       1.00      0.67      0.80         3\n",
      "Respiratory Disease (COPD or Asthma)       0.50      0.33      0.40         3\n",
      "               Autonomic Dysfunction       0.50      0.67      0.57         3\n",
      "\n",
      "                            accuracy                           0.65        37\n",
      "                           macro avg       0.66      0.66      0.64        37\n",
      "                        weighted avg       0.65      0.65      0.63        37\n",
      "\n"
     ]
    },
    {
     "name": "stderr",
     "output_type": "stream",
     "text": [
      "c:\\Users\\syafi\\anaconda3\\envs\\mydatascienv\\lib\\site-packages\\xgboost\\core.py:158: UserWarning: [17:38:42] WARNING: D:\\bld\\xgboost-split_1732667012888\\work\\src\\learner.cc:740: \n",
      "Parameters: { \"n_estimators\" } are not used.\n",
      "\n",
      "  warnings.warn(smsg, UserWarning)\n"
     ]
    },
    {
     "name": "stdout",
     "output_type": "stream",
     "text": [
      "Sample Size 100: Accuracy 0.7000\n",
      "Classification Report:\n",
      "                                      precision    recall  f1-score   support\n",
      "\n",
      "                        Hypertension       0.75      0.60      0.67         5\n",
      "        Cardiovascular Disease (CVD)       0.67      0.80      0.73         5\n",
      "      Chronic Fatigue Syndrome (CFS)       0.71      1.00      0.83         5\n",
      "            Stress-related Disorders       1.00      1.00      1.00         4\n",
      "                             Healthy       0.67      0.40      0.50         5\n",
      "                            Diabetes       0.60      0.60      0.60         5\n",
      "                             Anaemia       0.25      0.20      0.22         5\n",
      "                     Atherosclerosis       1.00      1.00      1.00         4\n",
      "                          Arrhythmia       1.00      0.50      0.67         4\n",
      "Respiratory Disease (COPD or Asthma)       0.80      1.00      0.89         4\n",
      "               Autonomic Dysfunction       0.50      0.75      0.60         4\n",
      "\n",
      "                            accuracy                           0.70        50\n",
      "                           macro avg       0.72      0.71      0.70        50\n",
      "                        weighted avg       0.71      0.70      0.69        50\n",
      "\n"
     ]
    },
    {
     "name": "stderr",
     "output_type": "stream",
     "text": [
      "c:\\Users\\syafi\\anaconda3\\envs\\mydatascienv\\lib\\site-packages\\xgboost\\core.py:158: UserWarning: [17:38:43] WARNING: D:\\bld\\xgboost-split_1732667012888\\work\\src\\learner.cc:740: \n",
      "Parameters: { \"n_estimators\" } are not used.\n",
      "\n",
      "  warnings.warn(smsg, UserWarning)\n"
     ]
    },
    {
     "name": "stdout",
     "output_type": "stream",
     "text": [
      "Sample Size 250: Accuracy 0.8960\n",
      "Classification Report:\n",
      "                                      precision    recall  f1-score   support\n",
      "\n",
      "                        Hypertension       0.69      0.82      0.75        11\n",
      "        Cardiovascular Disease (CVD)       0.91      0.83      0.87        12\n",
      "      Chronic Fatigue Syndrome (CFS)       0.92      1.00      0.96        12\n",
      "            Stress-related Disorders       1.00      1.00      1.00        11\n",
      "                             Healthy       1.00      1.00      1.00        12\n",
      "                            Diabetes       1.00      0.64      0.78        11\n",
      "                             Anaemia       0.92      0.92      0.92        12\n",
      "                     Atherosclerosis       0.79      1.00      0.88        11\n",
      "                          Arrhythmia       1.00      0.91      0.95        11\n",
      "Respiratory Disease (COPD or Asthma)       0.80      0.73      0.76        11\n",
      "               Autonomic Dysfunction       0.92      1.00      0.96        11\n",
      "\n",
      "                            accuracy                           0.90       125\n",
      "                           macro avg       0.90      0.89      0.89       125\n",
      "                        weighted avg       0.91      0.90      0.89       125\n",
      "\n"
     ]
    },
    {
     "name": "stderr",
     "output_type": "stream",
     "text": [
      "c:\\Users\\syafi\\anaconda3\\envs\\mydatascienv\\lib\\site-packages\\xgboost\\core.py:158: UserWarning: [17:38:43] WARNING: D:\\bld\\xgboost-split_1732667012888\\work\\src\\learner.cc:740: \n",
      "Parameters: { \"n_estimators\" } are not used.\n",
      "\n",
      "  warnings.warn(smsg, UserWarning)\n"
     ]
    },
    {
     "name": "stdout",
     "output_type": "stream",
     "text": [
      "Sample Size 500: Accuracy 0.9520\n",
      "Classification Report:\n",
      "                                      precision    recall  f1-score   support\n",
      "\n",
      "                        Hypertension       1.00      0.87      0.93        23\n",
      "        Cardiovascular Disease (CVD)       0.96      0.96      0.96        23\n",
      "      Chronic Fatigue Syndrome (CFS)       0.92      0.96      0.94        23\n",
      "            Stress-related Disorders       1.00      0.83      0.90        23\n",
      "                             Healthy       1.00      1.00      1.00        23\n",
      "                            Diabetes       1.00      1.00      1.00        23\n",
      "                             Anaemia       1.00      1.00      1.00        23\n",
      "                     Atherosclerosis       0.92      1.00      0.96        22\n",
      "                          Arrhythmia       0.95      0.95      0.95        22\n",
      "Respiratory Disease (COPD or Asthma)       0.81      0.91      0.86        23\n",
      "               Autonomic Dysfunction       0.96      1.00      0.98        22\n",
      "\n",
      "                            accuracy                           0.95       250\n",
      "                           macro avg       0.96      0.95      0.95       250\n",
      "                        weighted avg       0.96      0.95      0.95       250\n",
      "\n"
     ]
    },
    {
     "name": "stderr",
     "output_type": "stream",
     "text": [
      "c:\\Users\\syafi\\anaconda3\\envs\\mydatascienv\\lib\\site-packages\\xgboost\\core.py:158: UserWarning: [17:38:44] WARNING: D:\\bld\\xgboost-split_1732667012888\\work\\src\\learner.cc:740: \n",
      "Parameters: { \"n_estimators\" } are not used.\n",
      "\n",
      "  warnings.warn(smsg, UserWarning)\n"
     ]
    },
    {
     "name": "stdout",
     "output_type": "stream",
     "text": [
      "Sample Size 750: Accuracy 0.9920\n",
      "Classification Report:\n",
      "                                      precision    recall  f1-score   support\n",
      "\n",
      "                        Hypertension       0.97      1.00      0.99        34\n",
      "        Cardiovascular Disease (CVD)       1.00      1.00      1.00        34\n",
      "      Chronic Fatigue Syndrome (CFS)       0.97      1.00      0.99        34\n",
      "            Stress-related Disorders       1.00      1.00      1.00        34\n",
      "                             Healthy       1.00      1.00      1.00        35\n",
      "                            Diabetes       1.00      0.97      0.99        34\n",
      "                             Anaemia       1.00      1.00      1.00        34\n",
      "                     Atherosclerosis       1.00      0.97      0.99        34\n",
      "                          Arrhythmia       1.00      1.00      1.00        34\n",
      "Respiratory Disease (COPD or Asthma)       0.97      1.00      0.99        34\n",
      "               Autonomic Dysfunction       1.00      0.97      0.99        34\n",
      "\n",
      "                            accuracy                           0.99       375\n",
      "                           macro avg       0.99      0.99      0.99       375\n",
      "                        weighted avg       0.99      0.99      0.99       375\n",
      "\n"
     ]
    },
    {
     "name": "stderr",
     "output_type": "stream",
     "text": [
      "c:\\Users\\syafi\\anaconda3\\envs\\mydatascienv\\lib\\site-packages\\xgboost\\core.py:158: UserWarning: [17:38:45] WARNING: D:\\bld\\xgboost-split_1732667012888\\work\\src\\learner.cc:740: \n",
      "Parameters: { \"n_estimators\" } are not used.\n",
      "\n",
      "  warnings.warn(smsg, UserWarning)\n"
     ]
    },
    {
     "name": "stdout",
     "output_type": "stream",
     "text": [
      "Sample Size 1000: Accuracy 0.9880\n",
      "Classification Report:\n",
      "                                      precision    recall  f1-score   support\n",
      "\n",
      "                        Hypertension       1.00      0.96      0.98        45\n",
      "        Cardiovascular Disease (CVD)       1.00      1.00      1.00        46\n",
      "      Chronic Fatigue Syndrome (CFS)       0.98      1.00      0.99        46\n",
      "            Stress-related Disorders       0.98      0.98      0.98        45\n",
      "                             Healthy       0.98      1.00      0.99        47\n",
      "                            Diabetes       1.00      1.00      1.00        45\n",
      "                             Anaemia       1.00      1.00      1.00        46\n",
      "                     Atherosclerosis       0.98      0.98      0.98        45\n",
      "                          Arrhythmia       1.00      0.98      0.99        45\n",
      "Respiratory Disease (COPD or Asthma)       0.98      0.98      0.98        45\n",
      "               Autonomic Dysfunction       0.98      1.00      0.99        45\n",
      "\n",
      "                            accuracy                           0.99       500\n",
      "                           macro avg       0.99      0.99      0.99       500\n",
      "                        weighted avg       0.99      0.99      0.99       500\n",
      "\n"
     ]
    },
    {
     "name": "stderr",
     "output_type": "stream",
     "text": [
      "c:\\Users\\syafi\\anaconda3\\envs\\mydatascienv\\lib\\site-packages\\xgboost\\core.py:158: UserWarning: [17:38:45] WARNING: D:\\bld\\xgboost-split_1732667012888\\work\\src\\learner.cc:740: \n",
      "Parameters: { \"n_estimators\" } are not used.\n",
      "\n",
      "  warnings.warn(smsg, UserWarning)\n"
     ]
    },
    {
     "name": "stdout",
     "output_type": "stream",
     "text": [
      "Sample Size 2500: Accuracy 0.9960\n",
      "Classification Report:\n",
      "                                      precision    recall  f1-score   support\n",
      "\n",
      "                        Hypertension       1.00      1.00      1.00       113\n",
      "        Cardiovascular Disease (CVD)       1.00      1.00      1.00       114\n",
      "      Chronic Fatigue Syndrome (CFS)       0.99      0.99      0.99       114\n",
      "            Stress-related Disorders       1.00      1.00      1.00       113\n",
      "                             Healthy       0.99      0.99      0.99       118\n",
      "                            Diabetes       0.99      0.99      0.99       113\n",
      "                             Anaemia       1.00      1.00      1.00       114\n",
      "                     Atherosclerosis       1.00      1.00      1.00       112\n",
      "                          Arrhythmia       0.98      0.98      0.98       113\n",
      "Respiratory Disease (COPD or Asthma)       1.00      1.00      1.00       113\n",
      "               Autonomic Dysfunction       1.00      1.00      1.00       113\n",
      "\n",
      "                            accuracy                           1.00      1250\n",
      "                           macro avg       1.00      1.00      1.00      1250\n",
      "                        weighted avg       1.00      1.00      1.00      1250\n",
      "\n"
     ]
    },
    {
     "name": "stderr",
     "output_type": "stream",
     "text": [
      "c:\\Users\\syafi\\anaconda3\\envs\\mydatascienv\\lib\\site-packages\\xgboost\\core.py:158: UserWarning: [17:38:46] WARNING: D:\\bld\\xgboost-split_1732667012888\\work\\src\\learner.cc:740: \n",
      "Parameters: { \"n_estimators\" } are not used.\n",
      "\n",
      "  warnings.warn(smsg, UserWarning)\n"
     ]
    },
    {
     "name": "stdout",
     "output_type": "stream",
     "text": [
      "Sample Size 5000: Accuracy 0.9984\n",
      "Classification Report:\n",
      "                                      precision    recall  f1-score   support\n",
      "\n",
      "                        Hypertension       1.00      1.00      1.00       227\n",
      "        Cardiovascular Disease (CVD)       1.00      0.99      1.00       227\n",
      "      Chronic Fatigue Syndrome (CFS)       1.00      1.00      1.00       227\n",
      "            Stress-related Disorders       1.00      1.00      1.00       226\n",
      "                             Healthy       1.00      1.00      1.00       236\n",
      "                            Diabetes       1.00      1.00      1.00       226\n",
      "                             Anaemia       1.00      1.00      1.00       229\n",
      "                     Atherosclerosis       1.00      1.00      1.00       225\n",
      "                          Arrhythmia       1.00      1.00      1.00       226\n",
      "Respiratory Disease (COPD or Asthma)       1.00      1.00      1.00       226\n",
      "               Autonomic Dysfunction       0.99      1.00      0.99       225\n",
      "\n",
      "                            accuracy                           1.00      2500\n",
      "                           macro avg       1.00      1.00      1.00      2500\n",
      "                        weighted avg       1.00      1.00      1.00      2500\n",
      "\n"
     ]
    },
    {
     "name": "stderr",
     "output_type": "stream",
     "text": [
      "c:\\Users\\syafi\\anaconda3\\envs\\mydatascienv\\lib\\site-packages\\xgboost\\core.py:158: UserWarning: [17:38:47] WARNING: D:\\bld\\xgboost-split_1732667012888\\work\\src\\learner.cc:740: \n",
      "Parameters: { \"n_estimators\" } are not used.\n",
      "\n",
      "  warnings.warn(smsg, UserWarning)\n"
     ]
    },
    {
     "name": "stdout",
     "output_type": "stream",
     "text": [
      "Sample Size 7500: Accuracy 0.9955\n",
      "Classification Report:\n",
      "                                      precision    recall  f1-score   support\n",
      "\n",
      "                        Hypertension       1.00      1.00      1.00       340\n",
      "        Cardiovascular Disease (CVD)       1.00      1.00      1.00       340\n",
      "      Chronic Fatigue Syndrome (CFS)       1.00      0.99      1.00       341\n",
      "            Stress-related Disorders       1.00      1.00      1.00       339\n",
      "                             Healthy       0.99      0.99      0.99       354\n",
      "                            Diabetes       0.99      1.00      1.00       340\n",
      "                             Anaemia       1.00      1.00      1.00       343\n",
      "                     Atherosclerosis       0.99      1.00      1.00       337\n",
      "                          Arrhythmia       0.99      0.98      0.99       339\n",
      "Respiratory Disease (COPD or Asthma)       1.00      0.99      0.99       340\n",
      "               Autonomic Dysfunction       1.00      1.00      1.00       337\n",
      "\n",
      "                            accuracy                           1.00      3750\n",
      "                           macro avg       1.00      1.00      1.00      3750\n",
      "                        weighted avg       1.00      1.00      1.00      3750\n",
      "\n"
     ]
    },
    {
     "name": "stderr",
     "output_type": "stream",
     "text": [
      "c:\\Users\\syafi\\anaconda3\\envs\\mydatascienv\\lib\\site-packages\\xgboost\\core.py:158: UserWarning: [17:38:49] WARNING: D:\\bld\\xgboost-split_1732667012888\\work\\src\\learner.cc:740: \n",
      "Parameters: { \"n_estimators\" } are not used.\n",
      "\n",
      "  warnings.warn(smsg, UserWarning)\n"
     ]
    },
    {
     "name": "stdout",
     "output_type": "stream",
     "text": [
      "Sample Size 10000: Accuracy 0.9976\n",
      "Classification Report:\n",
      "                                      precision    recall  f1-score   support\n",
      "\n",
      "                        Hypertension       1.00      1.00      1.00       453\n",
      "        Cardiovascular Disease (CVD)       1.00      1.00      1.00       453\n",
      "      Chronic Fatigue Syndrome (CFS)       1.00      1.00      1.00       454\n",
      "            Stress-related Disorders       1.00      1.00      1.00       453\n",
      "                             Healthy       1.00      1.00      1.00       472\n",
      "                            Diabetes       1.00      1.00      1.00       453\n",
      "                             Anaemia       1.00      1.00      1.00       457\n",
      "                     Atherosclerosis       1.00      1.00      1.00       449\n",
      "                          Arrhythmia       0.99      0.99      0.99       453\n",
      "Respiratory Disease (COPD or Asthma)       1.00      0.99      1.00       453\n",
      "               Autonomic Dysfunction       1.00      1.00      1.00       450\n",
      "\n",
      "                            accuracy                           1.00      5000\n",
      "                           macro avg       1.00      1.00      1.00      5000\n",
      "                        weighted avg       1.00      1.00      1.00      5000\n",
      "\n"
     ]
    },
    {
     "name": "stderr",
     "output_type": "stream",
     "text": [
      "c:\\Users\\syafi\\anaconda3\\envs\\mydatascienv\\lib\\site-packages\\xgboost\\core.py:158: UserWarning: [17:38:50] WARNING: D:\\bld\\xgboost-split_1732667012888\\work\\src\\learner.cc:740: \n",
      "Parameters: { \"n_estimators\" } are not used.\n",
      "\n",
      "  warnings.warn(smsg, UserWarning)\n"
     ]
    },
    {
     "name": "stdout",
     "output_type": "stream",
     "text": [
      "Sample Size 20000: Accuracy 0.9981\n",
      "Classification Report:\n",
      "                                      precision    recall  f1-score   support\n",
      "\n",
      "                        Hypertension       1.00      1.00      1.00       907\n",
      "        Cardiovascular Disease (CVD)       1.00      1.00      1.00       907\n",
      "      Chronic Fatigue Syndrome (CFS)       1.00      1.00      1.00       909\n",
      "            Stress-related Disorders       1.00      1.00      1.00       905\n",
      "                             Healthy       1.00      0.99      1.00       944\n",
      "                            Diabetes       1.00      1.00      1.00       906\n",
      "                             Anaemia       1.00      1.00      1.00       914\n",
      "                     Atherosclerosis       1.00      1.00      1.00       898\n",
      "                          Arrhythmia       0.99      1.00      0.99       905\n",
      "Respiratory Disease (COPD or Asthma)       1.00      1.00      1.00       905\n",
      "               Autonomic Dysfunction       1.00      1.00      1.00       900\n",
      "\n",
      "                            accuracy                           1.00     10000\n",
      "                           macro avg       1.00      1.00      1.00     10000\n",
      "                        weighted avg       1.00      1.00      1.00     10000\n",
      "\n"
     ]
    },
    {
     "name": "stderr",
     "output_type": "stream",
     "text": [
      "c:\\Users\\syafi\\anaconda3\\envs\\mydatascienv\\lib\\site-packages\\xgboost\\core.py:158: UserWarning: [17:38:52] WARNING: D:\\bld\\xgboost-split_1732667012888\\work\\src\\learner.cc:740: \n",
      "Parameters: { \"n_estimators\" } are not used.\n",
      "\n",
      "  warnings.warn(smsg, UserWarning)\n"
     ]
    },
    {
     "name": "stdout",
     "output_type": "stream",
     "text": [
      "Sample Size 30000: Accuracy 0.9993\n",
      "Classification Report:\n",
      "                                      precision    recall  f1-score   support\n",
      "\n",
      "                        Hypertension       1.00      1.00      1.00      1360\n",
      "        Cardiovascular Disease (CVD)       1.00      1.00      1.00      1360\n",
      "      Chronic Fatigue Syndrome (CFS)       1.00      1.00      1.00      1363\n",
      "            Stress-related Disorders       1.00      1.00      1.00      1358\n",
      "                             Healthy       1.00      1.00      1.00      1415\n",
      "                            Diabetes       1.00      1.00      1.00      1359\n",
      "                             Anaemia       1.00      1.00      1.00      1372\n",
      "                     Atherosclerosis       1.00      1.00      1.00      1347\n",
      "                          Arrhythmia       1.00      1.00      1.00      1358\n",
      "Respiratory Disease (COPD or Asthma)       1.00      1.00      1.00      1358\n",
      "               Autonomic Dysfunction       1.00      1.00      1.00      1350\n",
      "\n",
      "                            accuracy                           1.00     15000\n",
      "                           macro avg       1.00      1.00      1.00     15000\n",
      "                        weighted avg       1.00      1.00      1.00     15000\n",
      "\n"
     ]
    },
    {
     "name": "stderr",
     "output_type": "stream",
     "text": [
      "c:\\Users\\syafi\\anaconda3\\envs\\mydatascienv\\lib\\site-packages\\xgboost\\core.py:158: UserWarning: [17:38:54] WARNING: D:\\bld\\xgboost-split_1732667012888\\work\\src\\learner.cc:740: \n",
      "Parameters: { \"n_estimators\" } are not used.\n",
      "\n",
      "  warnings.warn(smsg, UserWarning)\n"
     ]
    },
    {
     "name": "stdout",
     "output_type": "stream",
     "text": [
      "Sample Size 40000: Accuracy 0.9978\n",
      "Classification Report:\n",
      "                                      precision    recall  f1-score   support\n",
      "\n",
      "                        Hypertension       1.00      1.00      1.00      1813\n",
      "        Cardiovascular Disease (CVD)       1.00      1.00      1.00      1814\n",
      "      Chronic Fatigue Syndrome (CFS)       1.00      1.00      1.00      1817\n",
      "            Stress-related Disorders       1.00      1.00      1.00      1811\n",
      "                             Healthy       1.00      0.99      0.99      1887\n",
      "                            Diabetes       1.00      1.00      1.00      1811\n",
      "                             Anaemia       1.00      1.00      1.00      1829\n",
      "                     Atherosclerosis       1.00      1.00      1.00      1796\n",
      "                          Arrhythmia       0.99      1.00      0.99      1811\n",
      "Respiratory Disease (COPD or Asthma)       1.00      1.00      1.00      1811\n",
      "               Autonomic Dysfunction       1.00      1.00      1.00      1800\n",
      "\n",
      "                            accuracy                           1.00     20000\n",
      "                           macro avg       1.00      1.00      1.00     20000\n",
      "                        weighted avg       1.00      1.00      1.00     20000\n",
      "\n"
     ]
    },
    {
     "name": "stderr",
     "output_type": "stream",
     "text": [
      "c:\\Users\\syafi\\anaconda3\\envs\\mydatascienv\\lib\\site-packages\\xgboost\\core.py:158: UserWarning: [17:38:57] WARNING: D:\\bld\\xgboost-split_1732667012888\\work\\src\\learner.cc:740: \n",
      "Parameters: { \"n_estimators\" } are not used.\n",
      "\n",
      "  warnings.warn(smsg, UserWarning)\n"
     ]
    },
    {
     "name": "stdout",
     "output_type": "stream",
     "text": [
      "Sample Size 50000: Accuracy 0.9981\n",
      "Classification Report:\n",
      "                                      precision    recall  f1-score   support\n",
      "\n",
      "                        Hypertension       1.00      1.00      1.00      2267\n",
      "        Cardiovascular Disease (CVD)       1.00      1.00      1.00      2267\n",
      "      Chronic Fatigue Syndrome (CFS)       1.00      1.00      1.00      2272\n",
      "            Stress-related Disorders       1.00      1.00      1.00      2263\n",
      "                             Healthy       1.00      0.99      1.00      2359\n",
      "                            Diabetes       1.00      1.00      1.00      2264\n",
      "                             Anaemia       1.00      1.00      1.00      2286\n",
      "                     Atherosclerosis       1.00      1.00      1.00      2245\n",
      "                          Arrhythmia       0.99      1.00      0.99      2263\n",
      "Respiratory Disease (COPD or Asthma)       1.00      1.00      1.00      2264\n",
      "               Autonomic Dysfunction       1.00      1.00      1.00      2250\n",
      "\n",
      "                            accuracy                           1.00     25000\n",
      "                           macro avg       1.00      1.00      1.00     25000\n",
      "                        weighted avg       1.00      1.00      1.00     25000\n",
      "\n"
     ]
    }
   ],
   "source": [
    "# Apply hyperparameter tuning on the resampled dataset\n",
    "best_params = hyperparameter_tuning(X_resampled, y_resampled)\n",
    "print(f\"Best Hyperparameters: {best_params}\")\n",
    "\n",
    "# Iterative training loop\n",
    "for sample_size in [25, 50, 75, 100, 250, 500, 750, 1000, 2500, 5000, 7500, 10000, 20000, 30000, 40000, 50000]:\n",
    "    # Ensure sample size fits within available data\n",
    "    if len(X_resampled) < sample_size:\n",
    "        print(f\"Skipping sample size {sample_size} due to insufficient data.\")\n",
    "        continue\n",
    "\n",
    "    X_train_subset, X_test_subset, y_train_subset, y_test_subset = stratified_subsample(\n",
    "        X_resampled, y_resampled, train_size=sample_size, test_size=sample_size // 2\n",
    "    )\n",
    "\n",
    "    # Train XGBoost model\n",
    "    dtrain = xgb.DMatrix(X_train_subset, label=y_train_subset)\n",
    "    dtest = xgb.DMatrix(X_test_subset, label=y_test_subset)\n",
    "    xgb_model = xgb.train(best_params, dtrain, num_boost_round=100, verbose_eval=False)\n",
    "\n",
    "    # Evaluate model\n",
    "    accuracy, report = evaluate_xgb_model(xgb_model, X_test_subset, y_test_subset)\n",
    "    print(f\"Sample Size {sample_size}: Accuracy {accuracy:.4f}\")\n",
    "    print(\"Classification Report:\")\n",
    "    print(report)\n",
    "\n",
    "    # Store results and track the best model\n",
    "    xgb_results.append({\"sample_size\": sample_size, \"accuracy\": accuracy, \"classification_report\": report})\n",
    "    if accuracy > best_accuracy:\n",
    "        best_accuracy = accuracy\n",
    "        best_model = xgb_model\n",
    "        best_sample_size = sample_size"
   ]
  },
  {
   "cell_type": "code",
   "execution_count": 10,
   "metadata": {},
   "outputs": [
    {
     "name": "stdout",
     "output_type": "stream",
     "text": [
      "\n",
      "Best model saved as best_xgb_model_sample_size_30000.pkl with accuracy 0.9993\n"
     ]
    }
   ],
   "source": [
    "# Save the best model\n",
    "if best_model is not None:\n",
    "    best_model_file = f\"best_xgb_model_sample_size_{best_sample_size}.pkl\"\n",
    "    with open(best_model_file, \"wb\") as model_file:\n",
    "        pickle.dump(best_model, model_file)\n",
    "    print(f\"\\nBest model saved as {best_model_file} with accuracy {best_accuracy:.4f}\")"
   ]
  }
 ],
 "metadata": {
  "kernelspec": {
   "display_name": "mydatascienv",
   "language": "python",
   "name": "python3"
  },
  "language_info": {
   "codemirror_mode": {
    "name": "ipython",
    "version": 3
   },
   "file_extension": ".py",
   "mimetype": "text/x-python",
   "name": "python",
   "nbconvert_exporter": "python",
   "pygments_lexer": "ipython3",
   "version": "3.9.20"
  }
 },
 "nbformat": 4,
 "nbformat_minor": 2
}
