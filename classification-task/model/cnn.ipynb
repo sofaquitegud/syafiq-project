{
 "cells": [
  {
   "cell_type": "code",
   "execution_count": 1,
   "metadata": {},
   "outputs": [],
   "source": [
    "import pandas as pd\n",
    "import numpy as np\n",
    "import tensorflow as tf\n",
    "from keras.models import Sequential\n",
    "from keras.layers import Dense, Conv1D, Flatten, Dropout, MaxPooling1D, Input\n",
    "from keras.utils import to_categorical\n",
    "from sklearn.model_selection import train_test_split\n",
    "from sklearn.metrics import classification_report, accuracy_score\n",
    "import pickle"
   ]
  },
  {
   "cell_type": "code",
   "execution_count": 2,
   "metadata": {},
   "outputs": [],
   "source": [
    "# Load preprocessed data\n",
    "preprocessed_data = pd.read_pickle(\"C:/Users/syafi/Desktop/syafiq-project/classification-task/model/saved_data/preprocessed_data.pkl\")\n",
    "X_scaled = preprocessed_data[\"X_scaled\"]\n",
    "y_resampled = preprocessed_data[\"y_resampled\"]\n",
    "class_labels = preprocessed_data[\"class_labels\"]\n",
    "\n",
    "original_features = pd.read_pickle(\"C:/Users/syafi/Desktop/syafiq-project/classification-task/model/saved_data/original_features.pkl\")"
   ]
  },
  {
   "cell_type": "code",
   "execution_count": 3,
   "metadata": {},
   "outputs": [],
   "source": [
    "# Sample sizes for training\n",
    "sample_sizes = [25, 50, 75, 100, 250, 500, 750, 1000, 2500, 5000, 7500, 10000, 20000, 30000, 40000, 50000]"
   ]
  },
  {
   "cell_type": "code",
   "execution_count": 4,
   "metadata": {},
   "outputs": [],
   "source": [
    "# Function to create a stratified subsample\n",
    "def stratified_subsample(X, y, train_size, random_state=42):\n",
    "    if len(X) < train_size:\n",
    "        raise ValueError(f\"Insufficient data for sample size {train_size}.\")\n",
    "    X_sample, _, y_sample, _ = train_test_split(\n",
    "        X, y, train_size=train_size, stratify=y, random_state=random_state\n",
    "    )\n",
    "    return X_sample, y_sample"
   ]
  },
  {
   "cell_type": "code",
   "execution_count": 5,
   "metadata": {},
   "outputs": [],
   "source": [
    "def build_cnn(input_shape, num_classes):\n",
    "    model = Sequential(\n",
    "        [\n",
    "            Input(shape=input_shape),\n",
    "            Conv1D(filters=32, kernel_size=3, activation=\"relu\"),\n",
    "            MaxPooling1D(pool_size=2),\n",
    "            Dropout(0.25),\n",
    "            Conv1D(filters=64, kernel_size=3, activation=\"relu\"),\n",
    "            MaxPooling1D(pool_size=2),\n",
    "            Dropout(0.25),\n",
    "            Flatten(),\n",
    "            Dense(128, activation=\"relu\"),\n",
    "            Dropout(0.5),\n",
    "            Dense(num_classes, activation=\"softmax\"),\n",
    "        ]\n",
    "    )\n",
    "    model.compile(\n",
    "        optimizer=\"adam\", loss=\"categorical_crossentropy\", metrics=[\"accuracy\"]\n",
    "    )\n",
    "    return model"
   ]
  },
  {
   "cell_type": "code",
   "execution_count": null,
   "metadata": {},
   "outputs": [],
   "source": [
    "# Initialize and train CNN with different sample sizes\n",
    "results = {}\n",
    "\n",
    "for sample_size in sample_sizes:\n",
    "    try:\n",
    "        X_sample, y_sample = stratified_subsample(X_scaled, y_resampled, sample_size)\n",
    "\n",
    "        test_size = max(0.2, len(class_labels) / len(y_sample))\n",
    "        stratify = y_sample if len(y_sample) >= len(class_labels) else None\n",
    "\n",
    "        X_train, X_test, y_train, y_test = train_test_split(\n",
    "            X_sample, y_sample, test_size=test_size, stratify=stratify, random_state=42\n",
    "        )\n",
    "\n",
    "        # Reshape data for CNN\n",
    "        input_shape = (X_train.shape[1], 1)\n",
    "        X_train = X_train.to_numpy().reshape(-1, X_train.shape[1], 1)\n",
    "        X_test = X_test.to_numpy().reshape(-1, X_test.shape[1], 1)\n",
    "\n",
    "        y_train = to_categorical(y_train, num_classes=len(class_labels))\n",
    "        y_test_labels = y_test  # Save original labels for evaluation\n",
    "        y_test = to_categorical(y_test, num_classes=len(class_labels))\n",
    "\n",
    "        # Build and train CNN model\n",
    "        cnn_model = build_cnn(input_shape=input_shape, num_classes=len(class_labels))\n",
    "        cnn_model.fit(X_train, y_train, epochs=10, batch_size=32, verbose=2)\n",
    "\n",
    "        # Evaluate the model\n",
    "        y_pred = cnn_model.predict(X_test)\n",
    "        y_pred_classes = np.argmax(y_pred, axis=1)\n",
    "        accuracy = accuracy_score(y_test_labels, y_pred_classes)\n",
    "        print(f\"Classification Report for Sample Size {sample_size}:\")\n",
    "        print(\n",
    "            classification_report(\n",
    "                y_test_labels, y_pred_classes, target_names=class_labels\n",
    "            )\n",
    "        )\n",
    "\n",
    "        results[sample_size] = {\n",
    "            \"accuracy\": accuracy,\n",
    "            \"classification_report\": classification_report(\n",
    "                y_test_labels,\n",
    "                y_pred_classes,\n",
    "                target_names=class_labels,\n",
    "                output_dict=True,\n",
    "                zero_division=True\n",
    "            ),\n",
    "        }\n",
    "\n",
    "    except ValueError as e:\n",
    "        print(f\"Skipping sample size {sample_size}: {e}\")"
   ]
  },
  {
   "cell_type": "code",
   "execution_count": null,
   "metadata": {},
   "outputs": [],
   "source": [
    "# Save the best model (assuming last one is the best for simplicity)\n",
    "cnn_model.save(\"cnn_model.h5\")\n",
    "print(\"CNN model saved as cnn_model.h5\")"
   ]
  },
  {
   "cell_type": "code",
   "execution_count": null,
   "metadata": {},
   "outputs": [],
   "source": [
    "# Load and visualize results\n",
    "for sample_size, metrics in results.items():\n",
    "    print(f\"Sample Size: {sample_size} - Accuracy: {metrics['accuracy']:.4f}\")"
   ]
  }
 ],
 "metadata": {
  "kernelspec": {
   "display_name": "mydatascienv",
   "language": "python",
   "name": "python3"
  },
  "language_info": {
   "codemirror_mode": {
    "name": "ipython",
    "version": 3
   },
   "file_extension": ".py",
   "mimetype": "text/x-python",
   "name": "python",
   "nbconvert_exporter": "python",
   "pygments_lexer": "ipython3",
   "version": "3.9.20"
  }
 },
 "nbformat": 4,
 "nbformat_minor": 2
}
