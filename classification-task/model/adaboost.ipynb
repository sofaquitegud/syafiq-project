{
 "cells": [
  {
   "cell_type": "code",
   "execution_count": 1,
   "metadata": {},
   "outputs": [],
   "source": [
    "import pandas as pd\n",
    "import numpy as np\n",
    "from sklearn.ensemble import AdaBoostClassifier\n",
    "from sklearn.metrics import classification_report, accuracy_score\n",
    "from sklearn.model_selection import train_test_split, GridSearchCV, StratifiedKFold\n",
    "import pickle"
   ]
  },
  {
   "cell_type": "code",
   "execution_count": 2,
   "metadata": {},
   "outputs": [],
   "source": [
    "# Load preprocessed data\n",
    "preprocessed_data = pd.read_pickle(\"C:/Users/syafi/Desktop/syafiq-project/classification-task/model/saved_data/preprocessed_data.pkl\")\n",
    "X_scaled = preprocessed_data[\"X_scaled\"]\n",
    "y_resampled = preprocessed_data[\"y_resampled\"]\n",
    "class_labels = preprocessed_data[\"class_labels\"]"
   ]
  },
  {
   "cell_type": "code",
   "execution_count": 3,
   "metadata": {},
   "outputs": [],
   "source": [
    "sample_sizes = [25, 50, 75, 100, 250, 500, 750, 1000, 2500, 5000, 7500, 10000, 20000, 30000, 40000, 50000]"
   ]
  },
  {
   "cell_type": "code",
   "execution_count": 4,
   "metadata": {},
   "outputs": [],
   "source": [
    "# Function to create a stratified subsample\n",
    "def stratified_subsample(X, y, train_size, random_state=42):\n",
    "    if len(X) < train_size:\n",
    "        raise ValueError(f\"Insufficient data for sample size {train_size}.\")\n",
    "    X_sample, _, y_sample, _ = train_test_split(\n",
    "        X, y, train_size=train_size, stratify=y, random_state=random_state\n",
    "    )\n",
    "    return X_sample, y_sample"
   ]
  },
  {
   "cell_type": "code",
   "execution_count": 5,
   "metadata": {},
   "outputs": [],
   "source": [
    "# Parameter grid for GridSearchCV\n",
    "param_grid = {\n",
    "    \"n_estimators\": [50, 100, 150],\n",
    "    \"learning_rate\": [0.01, 0.1, 1.0],\n",
    "}"
   ]
  },
  {
   "cell_type": "code",
   "execution_count": 6,
   "metadata": {},
   "outputs": [
    {
     "name": "stdout",
     "output_type": "stream",
     "text": [
      "Fitting 3 folds for each of 9 candidates, totalling 27 fits\n"
     ]
    },
    {
     "name": "stderr",
     "output_type": "stream",
     "text": [
      "c:\\Users\\syafi\\anaconda3\\envs\\mydatascienv\\lib\\site-packages\\sklearn\\ensemble\\_weight_boosting.py:527: FutureWarning: The SAMME.R algorithm (the default) is deprecated and will be removed in 1.6. Use the SAMME algorithm to circumvent this warning.\n",
      "  warnings.warn(\n"
     ]
    },
    {
     "name": "stdout",
     "output_type": "stream",
     "text": [
      "Best Parameters Found by GridSearchCV:\n",
      "{'learning_rate': 0.1, 'n_estimators': 50}\n"
     ]
    }
   ],
   "source": [
    "# Step 1: Initialize and run GridSearchCV\n",
    "grid_search = GridSearchCV(\n",
    "    estimator=AdaBoostClassifier(random_state=42),\n",
    "    param_grid=param_grid,\n",
    "    scoring=\"accuracy\",\n",
    "    cv=StratifiedKFold(3),\n",
    "    verbose=2,\n",
    "    n_jobs=-1,\n",
    ")\n",
    "\n",
    "# Create a sample for hyperparameter tuning\n",
    "X_sample, y_sample = stratified_subsample(X_scaled, y_resampled, train_size=50000)\n",
    "grid_search.fit(X_sample, y_sample)\n",
    "\n",
    "# Extract the best parameters\n",
    "best_params = grid_search.best_params_\n",
    "print(\"Best Parameters Found by GridSearchCV:\")\n",
    "print(best_params)"
   ]
  },
  {
   "cell_type": "code",
   "execution_count": 7,
   "metadata": {},
   "outputs": [
    {
     "name": "stdout",
     "output_type": "stream",
     "text": [
      "Skipping sample size 25: The test_size = 5 should be greater or equal to the number of classes = 11\n",
      "Skipping sample size 50: The test_size = 10 should be greater or equal to the number of classes = 11\n"
     ]
    },
    {
     "name": "stderr",
     "output_type": "stream",
     "text": [
      "c:\\Users\\syafi\\anaconda3\\envs\\mydatascienv\\lib\\site-packages\\sklearn\\ensemble\\_weight_boosting.py:527: FutureWarning: The SAMME.R algorithm (the default) is deprecated and will be removed in 1.6. Use the SAMME algorithm to circumvent this warning.\n",
      "  warnings.warn(\n",
      "c:\\Users\\syafi\\anaconda3\\envs\\mydatascienv\\lib\\site-packages\\sklearn\\metrics\\_classification.py:1531: UndefinedMetricWarning: Precision is ill-defined and being set to 0.0 in labels with no predicted samples. Use `zero_division` parameter to control this behavior.\n",
      "  _warn_prf(average, modifier, f\"{metric.capitalize()} is\", len(result))\n",
      "c:\\Users\\syafi\\anaconda3\\envs\\mydatascienv\\lib\\site-packages\\sklearn\\metrics\\_classification.py:1531: UndefinedMetricWarning: Precision is ill-defined and being set to 0.0 in labels with no predicted samples. Use `zero_division` parameter to control this behavior.\n",
      "  _warn_prf(average, modifier, f\"{metric.capitalize()} is\", len(result))\n",
      "c:\\Users\\syafi\\anaconda3\\envs\\mydatascienv\\lib\\site-packages\\sklearn\\metrics\\_classification.py:1531: UndefinedMetricWarning: Precision is ill-defined and being set to 0.0 in labels with no predicted samples. Use `zero_division` parameter to control this behavior.\n",
      "  _warn_prf(average, modifier, f\"{metric.capitalize()} is\", len(result))\n"
     ]
    },
    {
     "name": "stdout",
     "output_type": "stream",
     "text": [
      "Classification Report for Sample Size 75:\n",
      "\n",
      "                                      precision    recall  f1-score   support\n",
      "\n",
      "                             Anaemia       0.00      0.00      0.00         1\n",
      "                          Arrhythmia       1.00      1.00      1.00         1\n",
      "                     Atherosclerosis       0.00      0.00      0.00         2\n",
      "               Autonomic Dysfunction       0.33      1.00      0.50         1\n",
      "        Cardiovascular Disease (CVD)       0.50      0.50      0.50         2\n",
      "      Chronic Fatigue Syndrome (CFS)       0.00      0.00      0.00         2\n",
      "                            Diabetes       0.33      1.00      0.50         1\n",
      "                             Healthy       0.00      0.00      0.00         1\n",
      "                        Hypertension       0.00      0.00      0.00         2\n",
      "Respiratory Disease (COPD or Asthma)       0.00      0.00      0.00         1\n",
      "            Stress-related Disorders       0.25      1.00      0.40         1\n",
      "\n",
      "                            accuracy                           0.33        15\n",
      "                           macro avg       0.22      0.41      0.26        15\n",
      "                        weighted avg       0.19      0.33      0.23        15\n",
      "\n"
     ]
    },
    {
     "name": "stderr",
     "output_type": "stream",
     "text": [
      "c:\\Users\\syafi\\anaconda3\\envs\\mydatascienv\\lib\\site-packages\\sklearn\\ensemble\\_weight_boosting.py:527: FutureWarning: The SAMME.R algorithm (the default) is deprecated and will be removed in 1.6. Use the SAMME algorithm to circumvent this warning.\n",
      "  warnings.warn(\n",
      "c:\\Users\\syafi\\anaconda3\\envs\\mydatascienv\\lib\\site-packages\\sklearn\\metrics\\_classification.py:1531: UndefinedMetricWarning: Precision is ill-defined and being set to 0.0 in labels with no predicted samples. Use `zero_division` parameter to control this behavior.\n",
      "  _warn_prf(average, modifier, f\"{metric.capitalize()} is\", len(result))\n",
      "c:\\Users\\syafi\\anaconda3\\envs\\mydatascienv\\lib\\site-packages\\sklearn\\metrics\\_classification.py:1531: UndefinedMetricWarning: Precision is ill-defined and being set to 0.0 in labels with no predicted samples. Use `zero_division` parameter to control this behavior.\n",
      "  _warn_prf(average, modifier, f\"{metric.capitalize()} is\", len(result))\n",
      "c:\\Users\\syafi\\anaconda3\\envs\\mydatascienv\\lib\\site-packages\\sklearn\\metrics\\_classification.py:1531: UndefinedMetricWarning: Precision is ill-defined and being set to 0.0 in labels with no predicted samples. Use `zero_division` parameter to control this behavior.\n",
      "  _warn_prf(average, modifier, f\"{metric.capitalize()} is\", len(result))\n"
     ]
    },
    {
     "name": "stdout",
     "output_type": "stream",
     "text": [
      "Classification Report for Sample Size 100:\n",
      "\n",
      "                                      precision    recall  f1-score   support\n",
      "\n",
      "                             Anaemia       0.50      0.50      0.50         2\n",
      "                          Arrhythmia       0.00      0.00      0.00         1\n",
      "                     Atherosclerosis       0.00      0.00      0.00         2\n",
      "               Autonomic Dysfunction       0.00      0.00      0.00         2\n",
      "        Cardiovascular Disease (CVD)       0.50      0.50      0.50         2\n",
      "      Chronic Fatigue Syndrome (CFS)       0.00      0.00      0.00         2\n",
      "                            Diabetes       1.00      0.50      0.67         2\n",
      "                             Healthy       0.50      1.00      0.67         2\n",
      "                        Hypertension       0.00      0.00      0.00         2\n",
      "Respiratory Disease (COPD or Asthma)       1.00      1.00      1.00         1\n",
      "            Stress-related Disorders       0.33      1.00      0.50         2\n",
      "\n",
      "                            accuracy                           0.40        20\n",
      "                           macro avg       0.35      0.41      0.35        20\n",
      "                        weighted avg       0.33      0.40      0.33        20\n",
      "\n"
     ]
    },
    {
     "name": "stderr",
     "output_type": "stream",
     "text": [
      "c:\\Users\\syafi\\anaconda3\\envs\\mydatascienv\\lib\\site-packages\\sklearn\\ensemble\\_weight_boosting.py:527: FutureWarning: The SAMME.R algorithm (the default) is deprecated and will be removed in 1.6. Use the SAMME algorithm to circumvent this warning.\n",
      "  warnings.warn(\n"
     ]
    },
    {
     "name": "stdout",
     "output_type": "stream",
     "text": [
      "Classification Report for Sample Size 250:\n",
      "\n",
      "                                      precision    recall  f1-score   support\n",
      "\n",
      "                             Anaemia       0.83      1.00      0.91         5\n",
      "                          Arrhythmia       0.50      0.25      0.33         4\n",
      "                     Atherosclerosis       0.83      1.00      0.91         5\n",
      "               Autonomic Dysfunction       1.00      0.75      0.86         4\n",
      "        Cardiovascular Disease (CVD)       0.75      0.75      0.75         4\n",
      "      Chronic Fatigue Syndrome (CFS)       1.00      0.80      0.89         5\n",
      "                            Diabetes       1.00      1.00      1.00         4\n",
      "                             Healthy       1.00      1.00      1.00         4\n",
      "                        Hypertension       0.50      1.00      0.67         5\n",
      "Respiratory Disease (COPD or Asthma)       1.00      0.80      0.89         5\n",
      "            Stress-related Disorders       1.00      0.60      0.75         5\n",
      "\n",
      "                            accuracy                           0.82        50\n",
      "                           macro avg       0.86      0.81      0.81        50\n",
      "                        weighted avg       0.86      0.82      0.82        50\n",
      "\n"
     ]
    },
    {
     "name": "stderr",
     "output_type": "stream",
     "text": [
      "c:\\Users\\syafi\\anaconda3\\envs\\mydatascienv\\lib\\site-packages\\sklearn\\ensemble\\_weight_boosting.py:527: FutureWarning: The SAMME.R algorithm (the default) is deprecated and will be removed in 1.6. Use the SAMME algorithm to circumvent this warning.\n",
      "  warnings.warn(\n",
      "c:\\Users\\syafi\\anaconda3\\envs\\mydatascienv\\lib\\site-packages\\sklearn\\metrics\\_classification.py:1531: UndefinedMetricWarning: Precision is ill-defined and being set to 0.0 in labels with no predicted samples. Use `zero_division` parameter to control this behavior.\n",
      "  _warn_prf(average, modifier, f\"{metric.capitalize()} is\", len(result))\n",
      "c:\\Users\\syafi\\anaconda3\\envs\\mydatascienv\\lib\\site-packages\\sklearn\\metrics\\_classification.py:1531: UndefinedMetricWarning: Precision is ill-defined and being set to 0.0 in labels with no predicted samples. Use `zero_division` parameter to control this behavior.\n",
      "  _warn_prf(average, modifier, f\"{metric.capitalize()} is\", len(result))\n",
      "c:\\Users\\syafi\\anaconda3\\envs\\mydatascienv\\lib\\site-packages\\sklearn\\metrics\\_classification.py:1531: UndefinedMetricWarning: Precision is ill-defined and being set to 0.0 in labels with no predicted samples. Use `zero_division` parameter to control this behavior.\n",
      "  _warn_prf(average, modifier, f\"{metric.capitalize()} is\", len(result))\n"
     ]
    },
    {
     "name": "stdout",
     "output_type": "stream",
     "text": [
      "Classification Report for Sample Size 500:\n",
      "\n",
      "                                      precision    recall  f1-score   support\n",
      "\n",
      "                             Anaemia       0.83      0.56      0.67         9\n",
      "                          Arrhythmia       0.00      0.00      0.00         9\n",
      "                     Atherosclerosis       0.00      0.00      0.00         9\n",
      "               Autonomic Dysfunction       1.00      1.00      1.00         9\n",
      "        Cardiovascular Disease (CVD)       1.00      0.78      0.88         9\n",
      "      Chronic Fatigue Syndrome (CFS)       0.42      0.56      0.48         9\n",
      "                            Diabetes       1.00      0.33      0.50         9\n",
      "                             Healthy       1.00      0.89      0.94         9\n",
      "                        Hypertension       0.26      0.78      0.39         9\n",
      "Respiratory Disease (COPD or Asthma)       0.62      1.00      0.77        10\n",
      "            Stress-related Disorders       0.25      0.33      0.29         9\n",
      "\n",
      "                            accuracy                           0.57       100\n",
      "                           macro avg       0.58      0.57      0.54       100\n",
      "                        weighted avg       0.58      0.57      0.54       100\n",
      "\n"
     ]
    },
    {
     "name": "stderr",
     "output_type": "stream",
     "text": [
      "c:\\Users\\syafi\\anaconda3\\envs\\mydatascienv\\lib\\site-packages\\sklearn\\ensemble\\_weight_boosting.py:527: FutureWarning: The SAMME.R algorithm (the default) is deprecated and will be removed in 1.6. Use the SAMME algorithm to circumvent this warning.\n",
      "  warnings.warn(\n"
     ]
    },
    {
     "name": "stdout",
     "output_type": "stream",
     "text": [
      "Classification Report for Sample Size 750:\n",
      "\n",
      "                                      precision    recall  f1-score   support\n",
      "\n",
      "                             Anaemia       0.93      1.00      0.97        14\n",
      "                          Arrhythmia       1.00      0.23      0.38        13\n",
      "                     Atherosclerosis       0.81      1.00      0.90        13\n",
      "               Autonomic Dysfunction       0.93      1.00      0.97        14\n",
      "        Cardiovascular Disease (CVD)       1.00      0.86      0.92        14\n",
      "      Chronic Fatigue Syndrome (CFS)       0.59      0.71      0.65        14\n",
      "                            Diabetes       0.86      0.86      0.86        14\n",
      "                             Healthy       1.00      0.92      0.96        13\n",
      "                        Hypertension       0.67      0.71      0.69        14\n",
      "Respiratory Disease (COPD or Asthma)       0.75      0.92      0.83        13\n",
      "            Stress-related Disorders       0.80      0.86      0.83        14\n",
      "\n",
      "                            accuracy                           0.83       150\n",
      "                           macro avg       0.85      0.83      0.81       150\n",
      "                        weighted avg       0.85      0.83      0.81       150\n",
      "\n"
     ]
    },
    {
     "name": "stderr",
     "output_type": "stream",
     "text": [
      "c:\\Users\\syafi\\anaconda3\\envs\\mydatascienv\\lib\\site-packages\\sklearn\\ensemble\\_weight_boosting.py:527: FutureWarning: The SAMME.R algorithm (the default) is deprecated and will be removed in 1.6. Use the SAMME algorithm to circumvent this warning.\n",
      "  warnings.warn(\n"
     ]
    },
    {
     "name": "stdout",
     "output_type": "stream",
     "text": [
      "Classification Report for Sample Size 1000:\n",
      "\n",
      "                                      precision    recall  f1-score   support\n",
      "\n",
      "                             Anaemia       1.00      0.83      0.91        18\n",
      "                          Arrhythmia       0.50      0.06      0.10        18\n",
      "                     Atherosclerosis       0.73      0.89      0.80        18\n",
      "               Autonomic Dysfunction       1.00      1.00      1.00        19\n",
      "        Cardiovascular Disease (CVD)       0.94      0.83      0.88        18\n",
      "      Chronic Fatigue Syndrome (CFS)       0.79      0.61      0.69        18\n",
      "                            Diabetes       1.00      0.83      0.91        18\n",
      "                             Healthy       1.00      1.00      1.00        19\n",
      "                        Hypertension       0.30      0.67      0.41        18\n",
      "Respiratory Disease (COPD or Asthma)       0.82      1.00      0.90        18\n",
      "            Stress-related Disorders       0.69      0.61      0.65        18\n",
      "\n",
      "                            accuracy                           0.76       200\n",
      "                           macro avg       0.80      0.76      0.75       200\n",
      "                        weighted avg       0.80      0.76      0.75       200\n",
      "\n"
     ]
    },
    {
     "name": "stderr",
     "output_type": "stream",
     "text": [
      "c:\\Users\\syafi\\anaconda3\\envs\\mydatascienv\\lib\\site-packages\\sklearn\\ensemble\\_weight_boosting.py:527: FutureWarning: The SAMME.R algorithm (the default) is deprecated and will be removed in 1.6. Use the SAMME algorithm to circumvent this warning.\n",
      "  warnings.warn(\n"
     ]
    },
    {
     "name": "stdout",
     "output_type": "stream",
     "text": [
      "Classification Report for Sample Size 2500:\n",
      "\n",
      "                                      precision    recall  f1-score   support\n",
      "\n",
      "                             Anaemia       0.96      1.00      0.98        46\n",
      "                          Arrhythmia       1.00      0.76      0.86        45\n",
      "                     Atherosclerosis       0.80      0.82      0.81        45\n",
      "               Autonomic Dysfunction       1.00      1.00      1.00        45\n",
      "        Cardiovascular Disease (CVD)       1.00      0.96      0.98        46\n",
      "      Chronic Fatigue Syndrome (CFS)       0.94      0.74      0.83        46\n",
      "                            Diabetes       1.00      1.00      1.00        45\n",
      "                             Healthy       1.00      1.00      1.00        45\n",
      "                        Hypertension       0.62      0.72      0.67        46\n",
      "Respiratory Disease (COPD or Asthma)       0.85      1.00      0.92        46\n",
      "            Stress-related Disorders       0.74      0.82      0.78        45\n",
      "\n",
      "                            accuracy                           0.89       500\n",
      "                           macro avg       0.90      0.89      0.89       500\n",
      "                        weighted avg       0.90      0.89      0.89       500\n",
      "\n"
     ]
    },
    {
     "name": "stderr",
     "output_type": "stream",
     "text": [
      "c:\\Users\\syafi\\anaconda3\\envs\\mydatascienv\\lib\\site-packages\\sklearn\\ensemble\\_weight_boosting.py:527: FutureWarning: The SAMME.R algorithm (the default) is deprecated and will be removed in 1.6. Use the SAMME algorithm to circumvent this warning.\n",
      "  warnings.warn(\n"
     ]
    },
    {
     "name": "stdout",
     "output_type": "stream",
     "text": [
      "Classification Report for Sample Size 5000:\n",
      "\n",
      "                                      precision    recall  f1-score   support\n",
      "\n",
      "                             Anaemia       0.93      0.99      0.96        91\n",
      "                          Arrhythmia       1.00      0.58      0.74        91\n",
      "                     Atherosclerosis       0.78      0.81      0.80        91\n",
      "               Autonomic Dysfunction       0.94      1.00      0.97        91\n",
      "        Cardiovascular Disease (CVD)       0.88      0.93      0.90        90\n",
      "      Chronic Fatigue Syndrome (CFS)       0.61      0.66      0.63        91\n",
      "                            Diabetes       1.00      0.77      0.87        91\n",
      "                             Healthy       1.00      1.00      1.00        91\n",
      "                        Hypertension       0.68      0.79      0.73        91\n",
      "Respiratory Disease (COPD or Asthma)       0.84      0.95      0.89        91\n",
      "            Stress-related Disorders       0.82      0.85      0.83        91\n",
      "\n",
      "                            accuracy                           0.85      1000\n",
      "                           macro avg       0.86      0.85      0.85      1000\n",
      "                        weighted avg       0.86      0.85      0.85      1000\n",
      "\n"
     ]
    },
    {
     "name": "stderr",
     "output_type": "stream",
     "text": [
      "c:\\Users\\syafi\\anaconda3\\envs\\mydatascienv\\lib\\site-packages\\sklearn\\ensemble\\_weight_boosting.py:527: FutureWarning: The SAMME.R algorithm (the default) is deprecated and will be removed in 1.6. Use the SAMME algorithm to circumvent this warning.\n",
      "  warnings.warn(\n"
     ]
    },
    {
     "name": "stdout",
     "output_type": "stream",
     "text": [
      "Classification Report for Sample Size 7500:\n",
      "\n",
      "                                      precision    recall  f1-score   support\n",
      "\n",
      "                             Anaemia       0.98      0.93      0.96       136\n",
      "                          Arrhythmia       0.00      0.00      0.00       136\n",
      "                     Atherosclerosis       0.80      0.80      0.80       137\n",
      "               Autonomic Dysfunction       1.00      1.00      1.00       136\n",
      "        Cardiovascular Disease (CVD)       0.83      0.99      0.91       137\n",
      "      Chronic Fatigue Syndrome (CFS)       0.72      0.58      0.65       137\n",
      "                            Diabetes       1.00      0.81      0.89       136\n",
      "                             Healthy       1.00      1.00      1.00       136\n",
      "                        Hypertension       0.31      0.77      0.44       137\n",
      "Respiratory Disease (COPD or Asthma)       0.81      0.99      0.89       136\n",
      "            Stress-related Disorders       0.79      0.41      0.54       136\n",
      "\n",
      "                            accuracy                           0.75      1500\n",
      "                           macro avg       0.75      0.75      0.73      1500\n",
      "                        weighted avg       0.75      0.75      0.73      1500\n",
      "\n"
     ]
    },
    {
     "name": "stderr",
     "output_type": "stream",
     "text": [
      "c:\\Users\\syafi\\anaconda3\\envs\\mydatascienv\\lib\\site-packages\\sklearn\\metrics\\_classification.py:1531: UndefinedMetricWarning: Precision is ill-defined and being set to 0.0 in labels with no predicted samples. Use `zero_division` parameter to control this behavior.\n",
      "  _warn_prf(average, modifier, f\"{metric.capitalize()} is\", len(result))\n",
      "c:\\Users\\syafi\\anaconda3\\envs\\mydatascienv\\lib\\site-packages\\sklearn\\metrics\\_classification.py:1531: UndefinedMetricWarning: Precision is ill-defined and being set to 0.0 in labels with no predicted samples. Use `zero_division` parameter to control this behavior.\n",
      "  _warn_prf(average, modifier, f\"{metric.capitalize()} is\", len(result))\n",
      "c:\\Users\\syafi\\anaconda3\\envs\\mydatascienv\\lib\\site-packages\\sklearn\\metrics\\_classification.py:1531: UndefinedMetricWarning: Precision is ill-defined and being set to 0.0 in labels with no predicted samples. Use `zero_division` parameter to control this behavior.\n",
      "  _warn_prf(average, modifier, f\"{metric.capitalize()} is\", len(result))\n",
      "c:\\Users\\syafi\\anaconda3\\envs\\mydatascienv\\lib\\site-packages\\sklearn\\ensemble\\_weight_boosting.py:527: FutureWarning: The SAMME.R algorithm (the default) is deprecated and will be removed in 1.6. Use the SAMME algorithm to circumvent this warning.\n",
      "  warnings.warn(\n"
     ]
    },
    {
     "name": "stdout",
     "output_type": "stream",
     "text": [
      "Classification Report for Sample Size 10000:\n",
      "\n",
      "                                      precision    recall  f1-score   support\n",
      "\n",
      "                             Anaemia       0.99      0.96      0.97       182\n",
      "                          Arrhythmia       1.00      0.69      0.82       181\n",
      "                     Atherosclerosis       0.79      0.91      0.85       182\n",
      "               Autonomic Dysfunction       1.00      1.00      1.00       182\n",
      "        Cardiovascular Disease (CVD)       0.94      1.00      0.97       182\n",
      "      Chronic Fatigue Syndrome (CFS)       1.00      0.85      0.92       182\n",
      "                            Diabetes       1.00      0.94      0.97       182\n",
      "                             Healthy       0.99      1.00      1.00       182\n",
      "                        Hypertension       0.69      0.92      0.79       182\n",
      "Respiratory Disease (COPD or Asthma)       0.85      0.94      0.89       181\n",
      "            Stress-related Disorders       0.98      0.87      0.92       182\n",
      "\n",
      "                            accuracy                           0.92      2000\n",
      "                           macro avg       0.93      0.92      0.92      2000\n",
      "                        weighted avg       0.93      0.92      0.92      2000\n",
      "\n"
     ]
    },
    {
     "name": "stderr",
     "output_type": "stream",
     "text": [
      "c:\\Users\\syafi\\anaconda3\\envs\\mydatascienv\\lib\\site-packages\\sklearn\\ensemble\\_weight_boosting.py:527: FutureWarning: The SAMME.R algorithm (the default) is deprecated and will be removed in 1.6. Use the SAMME algorithm to circumvent this warning.\n",
      "  warnings.warn(\n"
     ]
    },
    {
     "name": "stdout",
     "output_type": "stream",
     "text": [
      "Classification Report for Sample Size 20000:\n",
      "\n",
      "                                      precision    recall  f1-score   support\n",
      "\n",
      "                             Anaemia       0.97      0.96      0.96       364\n",
      "                          Arrhythmia       1.00      0.71      0.83       363\n",
      "                     Atherosclerosis       0.79      0.97      0.87       363\n",
      "               Autonomic Dysfunction       0.95      1.00      0.98       364\n",
      "        Cardiovascular Disease (CVD)       0.99      0.99      0.99       364\n",
      "      Chronic Fatigue Syndrome (CFS)       0.91      0.89      0.90       364\n",
      "                            Diabetes       1.00      0.99      0.99       364\n",
      "                             Healthy       0.99      0.99      0.99       363\n",
      "                        Hypertension       0.60      0.83      0.70       364\n",
      "Respiratory Disease (COPD or Asthma)       0.95      0.79      0.86       363\n",
      "            Stress-related Disorders       0.96      0.81      0.88       364\n",
      "\n",
      "                            accuracy                           0.90      4000\n",
      "                           macro avg       0.92      0.90      0.90      4000\n",
      "                        weighted avg       0.92      0.90      0.90      4000\n",
      "\n"
     ]
    },
    {
     "name": "stderr",
     "output_type": "stream",
     "text": [
      "c:\\Users\\syafi\\anaconda3\\envs\\mydatascienv\\lib\\site-packages\\sklearn\\ensemble\\_weight_boosting.py:527: FutureWarning: The SAMME.R algorithm (the default) is deprecated and will be removed in 1.6. Use the SAMME algorithm to circumvent this warning.\n",
      "  warnings.warn(\n"
     ]
    },
    {
     "name": "stdout",
     "output_type": "stream",
     "text": [
      "Classification Report for Sample Size 30000:\n",
      "\n",
      "                                      precision    recall  f1-score   support\n",
      "\n",
      "                             Anaemia       0.97      0.98      0.98       546\n",
      "                          Arrhythmia       1.00      0.70      0.83       545\n",
      "                     Atherosclerosis       0.79      0.94      0.86       545\n",
      "               Autonomic Dysfunction       0.98      1.00      0.99       545\n",
      "        Cardiovascular Disease (CVD)       0.97      0.99      0.98       546\n",
      "      Chronic Fatigue Syndrome (CFS)       0.96      0.86      0.91       546\n",
      "                            Diabetes       1.00      0.98      0.99       545\n",
      "                             Healthy       0.99      1.00      0.99       545\n",
      "                        Hypertension       0.62      0.85      0.72       546\n",
      "Respiratory Disease (COPD or Asthma)       0.90      0.83      0.86       546\n",
      "            Stress-related Disorders       0.94      0.84      0.89       545\n",
      "\n",
      "                            accuracy                           0.91      6000\n",
      "                           macro avg       0.92      0.91      0.91      6000\n",
      "                        weighted avg       0.92      0.91      0.91      6000\n",
      "\n"
     ]
    },
    {
     "name": "stderr",
     "output_type": "stream",
     "text": [
      "c:\\Users\\syafi\\anaconda3\\envs\\mydatascienv\\lib\\site-packages\\sklearn\\ensemble\\_weight_boosting.py:527: FutureWarning: The SAMME.R algorithm (the default) is deprecated and will be removed in 1.6. Use the SAMME algorithm to circumvent this warning.\n",
      "  warnings.warn(\n"
     ]
    },
    {
     "name": "stdout",
     "output_type": "stream",
     "text": [
      "Classification Report for Sample Size 40000:\n",
      "\n",
      "                                      precision    recall  f1-score   support\n",
      "\n",
      "                             Anaemia       0.96      0.94      0.95       728\n",
      "                          Arrhythmia       1.00      0.69      0.82       727\n",
      "                     Atherosclerosis       0.77      0.93      0.85       727\n",
      "               Autonomic Dysfunction       0.99      1.00      0.99       727\n",
      "        Cardiovascular Disease (CVD)       0.89      1.00      0.94       727\n",
      "      Chronic Fatigue Syndrome (CFS)       0.96      0.88      0.92       727\n",
      "                            Diabetes       1.00      0.87      0.93       727\n",
      "                             Healthy       0.99      1.00      0.99       727\n",
      "                        Hypertension       0.66      0.82      0.73       727\n",
      "Respiratory Disease (COPD or Asthma)       0.87      0.92      0.89       728\n",
      "            Stress-related Disorders       0.96      0.85      0.90       728\n",
      "\n",
      "                            accuracy                           0.90      8000\n",
      "                           macro avg       0.91      0.90      0.90      8000\n",
      "                        weighted avg       0.91      0.90      0.90      8000\n",
      "\n"
     ]
    },
    {
     "name": "stderr",
     "output_type": "stream",
     "text": [
      "c:\\Users\\syafi\\anaconda3\\envs\\mydatascienv\\lib\\site-packages\\sklearn\\ensemble\\_weight_boosting.py:527: FutureWarning: The SAMME.R algorithm (the default) is deprecated and will be removed in 1.6. Use the SAMME algorithm to circumvent this warning.\n",
      "  warnings.warn(\n"
     ]
    },
    {
     "name": "stdout",
     "output_type": "stream",
     "text": [
      "Classification Report for Sample Size 50000:\n",
      "\n",
      "                                      precision    recall  f1-score   support\n",
      "\n",
      "                             Anaemia       0.98      0.92      0.95       909\n",
      "                          Arrhythmia       1.00      0.71      0.83       909\n",
      "                     Atherosclerosis       0.75      0.96      0.84       909\n",
      "               Autonomic Dysfunction       0.97      1.00      0.99       909\n",
      "        Cardiovascular Disease (CVD)       0.92      1.00      0.96       909\n",
      "      Chronic Fatigue Syndrome (CFS)       0.93      0.91      0.92       909\n",
      "                            Diabetes       1.00      0.92      0.96       909\n",
      "                             Healthy       1.00      1.00      1.00       909\n",
      "                        Hypertension       0.66      0.82      0.73       909\n",
      "Respiratory Disease (COPD or Asthma)       0.91      0.87      0.89       910\n",
      "            Stress-related Disorders       0.95      0.82      0.88       909\n",
      "\n",
      "                            accuracy                           0.90     10000\n",
      "                           macro avg       0.91      0.90      0.90     10000\n",
      "                        weighted avg       0.91      0.90      0.90     10000\n",
      "\n"
     ]
    }
   ],
   "source": [
    "# Step 2: Evaluate across sample sizes\n",
    "results = {}\n",
    "for sample_size in sample_sizes:\n",
    "    try:\n",
    "        X_sampled, y_sampled = stratified_subsample(X_scaled, y_resampled, sample_size)\n",
    "\n",
    "        # Split data into training and testing\n",
    "        test_size = max(0.2, len(class_labels) / len(y_sampled))\n",
    "        stratify = y_sampled if len(y_sampled) >= len(class_labels) else None\n",
    "\n",
    "        X_train, X_test, y_train, y_test = train_test_split(\n",
    "            X_sampled, y_sampled, test_size=0.2, stratify=stratify, random_state=42\n",
    "        )\n",
    "\n",
    "        # Use the best parameters for training\n",
    "        ada_model = AdaBoostClassifier(**best_params, random_state=42)\n",
    "        ada_model.fit(X_train, y_train)\n",
    "\n",
    "        # Evaluate the model\n",
    "        y_pred = ada_model.predict(X_test)\n",
    "        print(f\"Classification Report for Sample Size {sample_size}:\\n\")\n",
    "        print(classification_report(y_test, y_pred, target_names=class_labels))\n",
    "\n",
    "        # Save results, e.g., accuracy\n",
    "        results[sample_size] = accuracy_score(y_test, y_pred)\n",
    "\n",
    "    except ValueError as e:\n",
    "        print(f\"Skipping sample size {sample_size}: {e}\")"
   ]
  },
  {
   "cell_type": "code",
   "execution_count": null,
   "metadata": {},
   "outputs": [],
   "source": [
    "# Save the AdaBoost model\n",
    "with open(\"adaboost_model.pkl\", \"wb\") as f:\n",
    "    pickle.dump(ada_model, f)"
   ]
  },
  {
   "cell_type": "code",
   "execution_count": null,
   "metadata": {},
   "outputs": [],
   "source": [
    "# Save results to a CSV file\n",
    "results_df = pd.DataFrame(results)\n",
    "results_df.to_csv(\"adaboost_results.csv\", index=False)\n",
    "print(\"\\nResults saved to 'adaboost_results.csv'\")"
   ]
  }
 ],
 "metadata": {
  "kernelspec": {
   "display_name": "mydatascienv",
   "language": "python",
   "name": "python3"
  },
  "language_info": {
   "codemirror_mode": {
    "name": "ipython",
    "version": 3
   },
   "file_extension": ".py",
   "mimetype": "text/x-python",
   "name": "python",
   "nbconvert_exporter": "python",
   "pygments_lexer": "ipython3",
   "version": "3.9.20"
  }
 },
 "nbformat": 4,
 "nbformat_minor": 2
}
