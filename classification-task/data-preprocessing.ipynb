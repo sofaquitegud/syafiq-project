{
 "cells": [
  {
   "cell_type": "code",
   "execution_count": 1,
   "metadata": {},
   "outputs": [],
   "source": [
    "import pandas as pd\n",
    "import numpy as np\n",
    "from sklearn.model_selection import train_test_split\n",
    "from sklearn.preprocessing import StandardScaler, LabelEncoder\n",
    "from imblearn.over_sampling import SMOTE\n",
    "import pickle\n",
    "import os"
   ]
  },
  {
   "cell_type": "code",
   "execution_count": 2,
   "metadata": {},
   "outputs": [],
   "source": [
    "# 1. Load data with error handling\n",
    "def load_data(file_path):\n",
    "    if not os.path.exists(file_path):\n",
    "        raise FileNotFoundError(f\"File not found: {file_path}\")\n",
    "    return pd.read_csv(file_path)\n",
    "\n",
    "\n",
    "data = load_data(\"C:/Users/syafi/Desktop/py-1/syafiq-project/dummy-data.csv\")"
   ]
  },
  {
   "cell_type": "code",
   "execution_count": 3,
   "metadata": {},
   "outputs": [
    {
     "name": "stdout",
     "output_type": "stream",
     "text": [
      "Data Head:\n",
      "   Heart Rate (bpm)  Breathing Rate (brpm)  Oxygen Saturation (%)  \\\n",
      "0              80.3                   12.2                   96.4   \n",
      "1              73.1                   17.7                   95.9   \n",
      "2              72.2                   18.0                   96.0   \n",
      "3              70.6                   14.7                   95.1   \n",
      "4              99.5                   19.5                   97.6   \n",
      "\n",
      "   Blood Pressure (systolic)  Blood Pressure (diastolic)  Stress Index  \\\n",
      "0                      107.3                        74.2          39.6   \n",
      "1                       92.4                        70.8          98.7   \n",
      "2                      102.4                        75.6          45.3   \n",
      "3                      110.0                        62.2          77.8   \n",
      "4                      110.2                        73.0          57.3   \n",
      "\n",
      "   Recovery Ability  PNS Index  SNS Index  RMSSD (ms)  SD2 (ms)  \\\n",
      "0                 0       -0.9        0.4        49.7      67.9   \n",
      "1                 0       -0.6        0.6        34.3      67.4   \n",
      "2                 0       -0.9        0.4        40.5      59.0   \n",
      "3                 0       -0.6        0.5        35.3      58.2   \n",
      "4                 0       -0.2        0.5        37.9      62.3   \n",
      "\n",
      "   Hemoglobin A1c (%)  Mean RRi (ms)  SD1 (ms)  HRV SDNN (ms)  \\\n",
      "0                 4.7          958.8      82.3           87.9   \n",
      "1                 3.7          853.5      50.9           63.2   \n",
      "2                 4.3          873.3      65.4           54.7   \n",
      "3                 4.4          693.9      82.6           75.8   \n",
      "4                 3.0          826.3      63.9           79.0   \n",
      "\n",
      "   Hemoglobin (g/dl)  Gender (0-M;1-F)  \n",
      "0               17.1                 0  \n",
      "1               14.7                 1  \n",
      "2               13.8                 0  \n",
      "3               15.8                 0  \n",
      "4               12.5                 1  \n",
      "\n",
      "Data Description:\n",
      "       Heart Rate (bpm)  Breathing Rate (brpm)  Oxygen Saturation (%)  \\\n",
      "count     450000.000000          450000.000000          450000.000000   \n",
      "mean         101.167998              22.218362              86.178204   \n",
      "std           22.815848               7.129412               9.026436   \n",
      "min           60.000000              10.000000              70.000000   \n",
      "25%           81.900000              16.000000              78.300000   \n",
      "50%          101.600000              21.800000              86.500000   \n",
      "75%          120.800000              28.400000              94.800000   \n",
      "max          140.000000              35.000000             100.000000   \n",
      "\n",
      "       Blood Pressure (systolic)  Blood Pressure (diastolic)   Stress Index  \\\n",
      "count              450000.000000               450000.000000  450000.000000   \n",
      "mean                  119.226843                   79.434829     106.549887   \n",
      "std                    23.687986                   17.395977      43.481611   \n",
      "min                    80.000000                   50.000000      30.000000   \n",
      "25%                    98.600000                   64.500000      68.700000   \n",
      "50%                   117.200000                   78.000000     107.600000   \n",
      "75%                   141.400000                   95.000000     144.400000   \n",
      "max                   160.000000                  110.000000     180.000000   \n",
      "\n",
      "       Recovery Ability      PNS Index      SNS Index    RMSSD (ms)  \\\n",
      "count     450000.000000  450000.000000  450000.000000  450000.00000   \n",
      "mean           1.108756      -1.097238       0.647306      30.24028   \n",
      "std            0.832098       0.567823       0.207854      10.04256   \n",
      "min            0.000000      -2.000000       0.300000      15.00000   \n",
      "25%            0.000000      -1.600000       0.500000      21.70000   \n",
      "50%            1.000000      -1.200000       0.600000      28.40000   \n",
      "75%            2.000000      -0.600000       0.800000      38.70000   \n",
      "max            2.000000       0.000000       1.000000      50.00000   \n",
      "\n",
      "            SD2 (ms)  Hemoglobin A1c (%)  Mean RRi (ms)       SD1 (ms)  \\\n",
      "count  450000.000000       450000.000000  450000.000000  450000.000000   \n",
      "mean       48.028599            6.170069     799.710988      56.679544   \n",
      "std        11.381083            1.958261     399.817366      17.632183   \n",
      "min        30.000000            3.000000     100.000000      30.000000   \n",
      "25%        38.400000            4.500000     457.300000      41.300000   \n",
      "50%        46.700000            6.000000     800.250000      54.000000   \n",
      "75%        57.600000            7.800000    1141.000000      72.000000   \n",
      "max        70.000000           10.000000    1500.000000      90.000000   \n",
      "\n",
      "       HRV SDNN (ms)  Hemoglobin (g/dl)  Gender (0-M;1-F)  \n",
      "count  450000.000000      450000.000000     450000.000000  \n",
      "mean       56.695918          11.366372          0.506873  \n",
      "std        17.628433           5.150649          0.499953  \n",
      "min        30.000000           0.000000          0.000000  \n",
      "25%        41.300000           7.400000          0.000000  \n",
      "50%        54.100000          13.200000          1.000000  \n",
      "75%        72.000000          15.500000          1.000000  \n",
      "max        90.000000          18.000000          1.000000  \n"
     ]
    }
   ],
   "source": [
    "# Display basic information about the dataset\n",
    "print(\"Data Head:\")\n",
    "print(data.head())\n",
    "print(\"\\nData Description:\")\n",
    "print(data.describe())"
   ]
  },
  {
   "cell_type": "code",
   "execution_count": 4,
   "metadata": {},
   "outputs": [],
   "source": [
    "# Disease classification based on thresholds\n",
    "def classify_disease(row):\n",
    "    \"\"\"\n",
    "    Classifies diseases for an individual based on health thresholds.\n",
    "\n",
    "    :param row: A pandas Series representing a single individual's health data.\n",
    "    :return: The disease associated with the individual.\n",
    "    \"\"\"\n",
    "    if (\n",
    "        row[\"Blood Pressure (systolic)\"] >= 130\n",
    "        or row[\"Blood Pressure (diastolic)\"] >= 80\n",
    "    ):\n",
    "        return \"Hypertension\"\n",
    "\n",
    "    if row[\"Blood Pressure (systolic)\"] > 140 or row[\"Hemoglobin A1c (%)\"] > 6.5:\n",
    "        return \"Atherosclerosis\"\n",
    "\n",
    "    if (\n",
    "        row[\"Heart Rate (bpm)\"] > 100\n",
    "        or row[\"Heart Rate (bpm)\"] < 60\n",
    "        or row[\"Blood Pressure (systolic)\"] > 140\n",
    "        or row[\"Blood Pressure (diastolic)\"] > 90\n",
    "        or row[\"HRV SDNN (ms)\"] < 50\n",
    "    ):\n",
    "        return \"Cardiovascular Disease (CVD)\"\n",
    "\n",
    "    if row[\"Breathing Rate (brpm)\"] > 20 or row[\"Oxygen Saturation (%)\"] < 90:\n",
    "        return \"Respiratory Disease (COPD or Asthma)\"\n",
    "\n",
    "    if (\n",
    "        row[\"HRV SDNN (ms)\"] < 50\n",
    "        or row[\"RMSSD (ms)\"] < 30\n",
    "        or row[\"Recovery Ability\"] == 0\n",
    "    ):\n",
    "        return \"Chronic Fatigue Syndrome (CFS)\"\n",
    "\n",
    "    if row[\"Hemoglobin A1c (%)\"] > 6.5:\n",
    "        return \"Diabetes\"\n",
    "\n",
    "    if row[\"HRV SDNN (ms)\"] > 100 or row[\"Mean RRi (ms)\"] < 600:\n",
    "        return \"Arrhythmias\"\n",
    "\n",
    "    if row[\"Stress Index\"] > 70 or row[\"SNS Index\"] > 1.0:\n",
    "        return \"Stress-related Disorders\"\n",
    "\n",
    "    if row[\"PNS Index\"] < -1.0 or row[\"SNS Index\"] > 1.0:\n",
    "        return \"Autonomic Dysfunction\"\n",
    "\n",
    "    if (row[\"Gender (0-M;1-F)\"] == 0 and row[\"Hemoglobin (g/dl)\"] < 13.5) or (\n",
    "        row[\"Gender (0-M;1-F)\"] == 1 and row[\"Hemoglobin (g/dl)\"] < 12.0\n",
    "    ):\n",
    "        return \"Anaemia\"\n",
    "\n",
    "    return \"Healthy\"\n",
    "\n",
    " # Apply disease classification\n",
    "data[\"Disease Classification\"] = data.apply(classify_disease, axis=1)"
   ]
  },
  {
   "cell_type": "code",
   "execution_count": 5,
   "metadata": {},
   "outputs": [
    {
     "name": "stdout",
     "output_type": "stream",
     "text": [
      "Class Distribution Before Sampling:\n",
      "Disease Classification\n",
      "Hypertension                            285296\n",
      "Cardiovascular Disease (CVD)             51327\n",
      "Chronic Fatigue Syndrome (CFS)           51047\n",
      "Atherosclerosis                          49081\n",
      "Respiratory Disease (COPD or Asthma)     12458\n",
      "Stress-related Disorders                   352\n",
      "Arrhythmias                                282\n",
      "Healthy                                     67\n",
      "Autonomic Dysfunction                       65\n",
      "Anaemia                                     25\n",
      "Name: count, dtype: int64\n"
     ]
    }
   ],
   "source": [
    "# Display the class distribution\n",
    "print(\"Class Distribution Before Sampling:\")\n",
    "print(data[\"Disease Classification\"].value_counts())"
   ]
  },
  {
   "cell_type": "code",
   "execution_count": 6,
   "metadata": {},
   "outputs": [],
   "source": [
    "# Encode labels using LabelEncoder\n",
    "label_encoder = LabelEncoder()\n",
    "data[\"Disease Classification\"] = label_encoder.fit_transform(data[\"Disease Classification\"])"
   ]
  },
  {
   "cell_type": "code",
   "execution_count": 7,
   "metadata": {},
   "outputs": [],
   "source": [
    "# Save label mapping for reuse\n",
    "label_mapping = dict(zip(label_encoder.classes_, range(len(label_encoder.classes_))))\n",
    "with open(\"label_mapping.pkl\", \"wb\") as f:\n",
    "    pickle.dump(label_mapping, f)"
   ]
  },
  {
   "cell_type": "code",
   "execution_count": 8,
   "metadata": {},
   "outputs": [
    {
     "name": "stdout",
     "output_type": "stream",
     "text": [
      "\n",
      "Feature Sample:\n",
      "   Heart Rate (bpm)  Breathing Rate (brpm)  Oxygen Saturation (%)  \\\n",
      "0              80.3                   12.2                   96.4   \n",
      "1              73.1                   17.7                   95.9   \n",
      "2              72.2                   18.0                   96.0   \n",
      "3              70.6                   14.7                   95.1   \n",
      "4              99.5                   19.5                   97.6   \n",
      "\n",
      "   Blood Pressure (systolic)  Blood Pressure (diastolic)  Stress Index  \\\n",
      "0                      107.3                        74.2          39.6   \n",
      "1                       92.4                        70.8          98.7   \n",
      "2                      102.4                        75.6          45.3   \n",
      "3                      110.0                        62.2          77.8   \n",
      "4                      110.2                        73.0          57.3   \n",
      "\n",
      "   Recovery Ability  PNS Index  SNS Index  RMSSD (ms)  SD2 (ms)  \\\n",
      "0                 0       -0.9        0.4        49.7      67.9   \n",
      "1                 0       -0.6        0.6        34.3      67.4   \n",
      "2                 0       -0.9        0.4        40.5      59.0   \n",
      "3                 0       -0.6        0.5        35.3      58.2   \n",
      "4                 0       -0.2        0.5        37.9      62.3   \n",
      "\n",
      "   Hemoglobin A1c (%)  Mean RRi (ms)  SD1 (ms)  HRV SDNN (ms)  \\\n",
      "0                 4.7          958.8      82.3           87.9   \n",
      "1                 3.7          853.5      50.9           63.2   \n",
      "2                 4.3          873.3      65.4           54.7   \n",
      "3                 4.4          693.9      82.6           75.8   \n",
      "4                 3.0          826.3      63.9           79.0   \n",
      "\n",
      "   Hemoglobin (g/dl)  Gender (0-M;1-F)  \n",
      "0               17.1                 0  \n",
      "1               14.7                 1  \n",
      "2               13.8                 0  \n",
      "3               15.8                 0  \n",
      "4               12.5                 1  \n",
      "\n",
      "Target Sample:\n",
      "0    5\n",
      "1    5\n",
      "2    5\n",
      "3    5\n",
      "4    5\n",
      "Name: Disease Classification, dtype: int32\n"
     ]
    }
   ],
   "source": [
    "# Split features and target\n",
    "X = data.drop(columns=[\"Disease Classification\"])\n",
    "y = data[\"Disease Classification\"]\n",
    "\n",
    "# Display the first few rows of features and target\n",
    "print(\"\\nFeature Sample:\")\n",
    "print(X.head())\n",
    "print(\"\\nTarget Sample:\")\n",
    "print(y.head())"
   ]
  },
  {
   "cell_type": "code",
   "execution_count": 9,
   "metadata": {},
   "outputs": [
    {
     "name": "stdout",
     "output_type": "stream",
     "text": [
      "Class Distribution After SMOTE:\n",
      "Disease Classification\n",
      "5    285296\n",
      "7    285296\n",
      "2    285296\n",
      "4    285296\n",
      "3    285296\n",
      "8    285296\n",
      "1    285296\n",
      "0    285296\n",
      "9    285296\n",
      "6    285296\n",
      "Name: count, dtype: int64\n"
     ]
    }
   ],
   "source": [
    "# Applying SMOTE for balancing the class distribution\n",
    "smote = SMOTE(random_state=42)\n",
    "X_resampled, y_resampled = smote.fit_resample(X, y)\n",
    "\n",
    "# Display the class distribution after resampling\n",
    "print(\"Class Distribution After SMOTE:\")\n",
    "print(pd.Series(y_resampled).value_counts())"
   ]
  },
  {
   "cell_type": "code",
   "execution_count": 10,
   "metadata": {},
   "outputs": [],
   "source": [
    "# Split data into training and testing sets\n",
    "X_train, X_test, y_train, y_test = train_test_split(\n",
    "    X_resampled, y_resampled, test_size=0.2, stratify=y_resampled, random_state=42\n",
    ")"
   ]
  },
  {
   "cell_type": "code",
   "execution_count": 11,
   "metadata": {},
   "outputs": [
    {
     "name": "stdout",
     "output_type": "stream",
     "text": [
      "\n",
      "First 5 rows of Scaled Features:\n",
      " [[ 0.87690214  1.5029835  -1.90574315  3.20507893  2.51798034  0.81129435\n",
      "  -0.05463826 -1.60461037  1.50125974 -2.07631401 -0.64371508 -1.09981928\n",
      "   1.27283733 -1.70995724  1.02091276  0.66616173 -0.60321693]\n",
      " [-1.32463128 -0.23392178  0.83711898  0.45092341  0.7674898  -0.79668184\n",
      "  -1.51767221  0.89780967 -0.89952025  0.51741396  0.73535984 -0.51222028\n",
      "  -0.52517188 -0.47279634 -0.2887977   0.91317706 -0.60321693]\n",
      " [-0.85945415 -0.10120899  0.50247428 -0.40680252 -0.59201968  0.95191793\n",
      "  -0.05463826  0.11221336 -0.11094932 -0.09008737 -1.79301245 -0.1331218\n",
      "  -0.10285491  0.48344541  0.29558427  0.77896775  1.6577784 ]\n",
      " [-0.84087114 -0.09382547  0.77281235  0.75448412 -1.44474411 -0.66760683\n",
      "  -0.05463826  1.11885599  1.27264548  1.31334477  0.59727881 -1.3298029\n",
      "  -0.00880713  1.4336082  -0.94478719  0.66616173 -0.60321693]\n",
      " [-0.79013608 -1.01377139  0.38787     0.29554921 -0.59189946  0.66953184\n",
      "  -0.05463826 -0.16996165 -0.56330729  0.32240913 -0.40748034 -0.76430772\n",
      "  -1.66408578  0.56743031  0.63113747  0.40995992  1.6577784 ]]\n"
     ]
    }
   ],
   "source": [
    "# Standardize features using StandardScaler\n",
    "scaler = StandardScaler()\n",
    "X_train = scaler.fit_transform(X_train)\n",
    "X_test = scaler.transform(X_test)\n",
    "\n",
    "# Display scaled features\n",
    "print(\"\\nFirst 5 rows of Scaled Features:\\n\", X_train[:5])"
   ]
  },
  {
   "cell_type": "code",
   "execution_count": 12,
   "metadata": {},
   "outputs": [
    {
     "name": "stdout",
     "output_type": "stream",
     "text": [
      "\n",
      "Preprocessing completed and data saved.\n"
     ]
    }
   ],
   "source": [
    "# Save the preprocessed data and scaler for later use\n",
    "with open(\"preprocessed_data.pkl\", \"wb\") as f:\n",
    "    pickle.dump((X_train, X_test, y_train, y_test), f)\n",
    "\n",
    "with open(\"scaler.pkl\", \"wb\") as f:\n",
    "    pickle.dump(scaler, f)\n",
    "\n",
    "print(\"\\nPreprocessing completed and data saved.\")"
   ]
  }
 ],
 "metadata": {
  "kernelspec": {
   "display_name": "mydatascienv",
   "language": "python",
   "name": "python3"
  },
  "language_info": {
   "codemirror_mode": {
    "name": "ipython",
    "version": 3
   },
   "file_extension": ".py",
   "mimetype": "text/x-python",
   "name": "python",
   "nbconvert_exporter": "python",
   "pygments_lexer": "ipython3",
   "version": "3.9.20"
  }
 },
 "nbformat": 4,
 "nbformat_minor": 2
}
