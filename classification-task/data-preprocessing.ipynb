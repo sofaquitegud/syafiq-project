{
 "cells": [
  {
   "cell_type": "code",
   "execution_count": 1,
   "metadata": {},
   "outputs": [],
   "source": [
    "# Import libraries\n",
    "import pandas as pd\n",
    "import numpy as np\n",
    "from sklearn.preprocessing import LabelEncoder, StandardScaler\n",
    "from imblearn.over_sampling import SMOTE"
   ]
  },
  {
   "cell_type": "code",
   "execution_count": 2,
   "metadata": {},
   "outputs": [],
   "source": [
    "# Step 1: Load the data\n",
    "data = \"../dummy-data.csv\"\n",
    "df = pd.read_csv(data)"
   ]
  },
  {
   "cell_type": "code",
   "execution_count": 3,
   "metadata": {},
   "outputs": [],
   "source": [
    "# Define the class labels\n",
    "class_labels = [\n",
    "    \"Hypertension\",\n",
    "    \"Cardiovascular Disease (CVD)\",\n",
    "    \"Chronic Fatigue Syndrome (CFS)\",\n",
    "    \"Stress-related Disorders\",\n",
    "    \"Healthy\",\n",
    "    \"Diabetes\",\n",
    "    \"Anaemia\",\n",
    "    \"Atherosclerosis\",\n",
    "    \"Arrhythmia\",\n",
    "    \"Respiratory Disease (COPD or Asthma)\",\n",
    "    \"Autonomic Dysfunction\",\n",
    "]"
   ]
  },
  {
   "cell_type": "code",
   "execution_count": 4,
   "metadata": {},
   "outputs": [],
   "source": [
    "# Disease classification logic\n",
    "def classify_disease(row):\n",
    "    if (\n",
    "        row[\"Blood Pressure (systolic)\"] >= 140\n",
    "        or row[\"Blood Pressure (diastolic)\"] >= 90\n",
    "    ):\n",
    "        return \"Hypertension\"\n",
    "    elif row[\"Heart Rate (bpm)\"] < 60 or row[\"Heart Rate (bpm)\"] > 100:\n",
    "        return \"Cardiovascular Disease (CVD)\"\n",
    "    elif row[\"HRV SDNN (ms)\"] < 50:\n",
    "        return \"Chronic Fatigue Syndrome (CFS)\"\n",
    "    elif row[\"Hemoglobin A1c (%)\"] > 6.4:\n",
    "        return \"Diabetes\"\n",
    "    elif (row[\"Gender (0-M;1-F)\"] == 0 and row[\"Hemoglobin (g/dl)\"] < 13.5) or (\n",
    "        row[\"Gender (0-M;1-F)\"] == 1 and row[\"Hemoglobin (g/dl)\"] < 12.0\n",
    "    ):\n",
    "        return \"Anaemia\"\n",
    "    elif row[\"Hemoglobin A1c (%)\"] > 5.7 and row[\"Hemoglobin A1c (%)\"] <= 6.4:\n",
    "        return \"Atherosclerosis\"\n",
    "    elif row[\"Mean RRi (ms)\"] < 600 or row[\"HRV SDNN (ms)\"] > 100:\n",
    "        return \"Arrhythmia\"\n",
    "    elif row[\"Stress Index\"] > 70 or row[\"SNS Index\"] > 1.0:\n",
    "        return \"Stress-related Disorders\"\n",
    "    elif row[\"Breathing Rate (brpm)\"] > 20 or row[\"Oxygen Saturation (%)\"] < 95:\n",
    "        return \"Respiratory Disease (COPD or Asthma)\"\n",
    "    elif row[\"PNS Index\"] < -1.0 or row[\"SNS Index\"] > 1.0:\n",
    "        return \"Autonomic Dysfunction\"\n",
    "    else:\n",
    "        return \"Healthy\""
   ]
  },
  {
   "cell_type": "code",
   "execution_count": 5,
   "metadata": {},
   "outputs": [],
   "source": [
    "# Apply disease classification\n",
    "df[\"Disease Classification\"] = df.apply(classify_disease, axis=1)"
   ]
  },
  {
   "cell_type": "code",
   "execution_count": 6,
   "metadata": {},
   "outputs": [],
   "source": [
    "# Encode labels using LabelEncoder\n",
    "label_encoder = LabelEncoder()\n",
    "df[\"Disease Classification\"] = label_encoder.fit_transform(df[\"Disease Classification\"])"
   ]
  },
  {
   "cell_type": "code",
   "execution_count": 7,
   "metadata": {},
   "outputs": [],
   "source": [
    "# Split features and target\n",
    "X = df.drop(columns=[\"Disease Classification\"])\n",
    "y = df[\"Disease Classification\"]"
   ]
  },
  {
   "cell_type": "code",
   "execution_count": 8,
   "metadata": {},
   "outputs": [
    {
     "name": "stdout",
     "output_type": "stream",
     "text": [
      "Class Distribution before SMOTE:\n",
      "Disease Classification\n",
      "8     219610\n",
      "4     101114\n",
      "5      42896\n",
      "10     30639\n",
      "7      21191\n",
      "6      14726\n",
      "0       8304\n",
      "2       6582\n",
      "1       3369\n",
      "9       1525\n",
      "3         44\n",
      "Name: count, dtype: int64\n"
     ]
    }
   ],
   "source": [
    "# Display the class distribution before resampling\n",
    "print(\"Class Distribution before SMOTE:\")\n",
    "print(pd.Series(y).value_counts())"
   ]
  },
  {
   "cell_type": "code",
   "execution_count": 9,
   "metadata": {},
   "outputs": [],
   "source": [
    "# Step 2: Resample the data using SMOTE\n",
    "smote = SMOTE(random_state=42)\n",
    "X_resampled, y_resampled = smote.fit_resample(X, y)"
   ]
  },
  {
   "cell_type": "code",
   "execution_count": 10,
   "metadata": {},
   "outputs": [
    {
     "name": "stdout",
     "output_type": "stream",
     "text": [
      "Class Distribution After SMOTE:\n",
      "Disease Classification\n",
      "7     219610\n",
      "10    219610\n",
      "0     219610\n",
      "8     219610\n",
      "6     219610\n",
      "4     219610\n",
      "5     219610\n",
      "2     219610\n",
      "9     219610\n",
      "1     219610\n",
      "3     219610\n",
      "Name: count, dtype: int64\n"
     ]
    }
   ],
   "source": [
    "# Display the class distribution after resampling\n",
    "print(\"Class Distribution After SMOTE:\")\n",
    "print(pd.Series(y_resampled).value_counts())"
   ]
  },
  {
   "cell_type": "code",
   "execution_count": 11,
   "metadata": {},
   "outputs": [],
   "source": [
    "# Step 3: Scale the features using StandardScaler\n",
    "scaler = StandardScaler()\n",
    "X_scaled = scaler.fit_transform(X_resampled)"
   ]
  },
  {
   "cell_type": "code",
   "execution_count": 12,
   "metadata": {},
   "outputs": [
    {
     "name": "stdout",
     "output_type": "stream",
     "text": [
      "Preprocessed data saved to 'preprocessed_data.pkl'.\n"
     ]
    }
   ],
   "source": [
    "# Save preprocessed data\n",
    "preprocessed_data = {\n",
    "    \"X_scaled\": X_scaled,\n",
    "    \"y_resampled\": y_resampled,\n",
    "    \"class_labels\": class_labels,\n",
    "}\n",
    "pd.to_pickle(preprocessed_data, \"preprocessed_data.pkl\")\n",
    "\n",
    "print(\"Preprocessed data saved to 'preprocessed_data.pkl'.\")"
   ]
  }
 ],
 "metadata": {
  "kernelspec": {
   "display_name": "mydatascienv",
   "language": "python",
   "name": "python3"
  },
  "language_info": {
   "codemirror_mode": {
    "name": "ipython",
    "version": 3
   },
   "file_extension": ".py",
   "mimetype": "text/x-python",
   "name": "python",
   "nbconvert_exporter": "python",
   "pygments_lexer": "ipython3",
   "version": "3.9.20"
  }
 },
 "nbformat": 4,
 "nbformat_minor": 2
}
